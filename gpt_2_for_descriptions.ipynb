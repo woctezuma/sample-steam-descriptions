{
  "nbformat": 4,
  "nbformat_minor": 0,
  "metadata": {
    "colab": {
      "name": "gpt_2_for_descriptions.ipynb",
      "version": "0.3.2",
      "provenance": [],
      "collapsed_sections": []
    },
    "kernelspec": {
      "name": "python3",
      "display_name": "Python 3"
    },
    "accelerator": "GPU"
  },
  "cells": [
    {
      "metadata": {
        "id": "5u6MjGQAuzWN",
        "colab_type": "text"
      },
      "cell_type": "markdown",
      "source": [
        "# Sample Steam Store Descriptions with GPT-2\n",
        "Code inspired from https://github.com/woctezuma/sample-steam-descriptions"
      ]
    },
    {
      "metadata": {
        "id": "2KjP9yVVveN1",
        "colab_type": "text"
      },
      "cell_type": "markdown",
      "source": [
        "## Setting the GPT-2 model"
      ]
    },
    {
      "metadata": {
        "colab_type": "text",
        "id": "A1zEYHxh304_"
      },
      "cell_type": "markdown",
      "source": [
        "Install the Python package\n",
        "\n",
        "Reference: https://github.com/minimaxir/gpt-2-simple"
      ]
    },
    {
      "metadata": {
        "id": "_1ruwgwCuEHd",
        "colab_type": "code",
        "outputId": "87529050-83d6-4c69-c60a-02f64292ff5a",
        "colab": {
          "base_uri": "https://localhost:8080/",
          "height": 311
        }
      },
      "cell_type": "code",
      "source": [
        "!pip install gpt_2_simple"
      ],
      "execution_count": 1,
      "outputs": [
        {
          "output_type": "stream",
          "text": [
            "Collecting gpt_2_simple\n",
            "  Downloading https://files.pythonhosted.org/packages/b6/cf/4003c7d85425af353e15d938bc0d87a0bdedd6b00229e1f7808c2524b518/gpt_2_simple-0.2.tar.gz\n",
            "Requirement already satisfied: regex in /usr/local/lib/python3.6/dist-packages (from gpt_2_simple) (2018.1.10)\n",
            "Requirement already satisfied: requests in /usr/local/lib/python3.6/dist-packages (from gpt_2_simple) (2.18.4)\n",
            "Requirement already satisfied: tqdm in /usr/local/lib/python3.6/dist-packages (from gpt_2_simple) (4.28.1)\n",
            "Requirement already satisfied: numpy in /usr/local/lib/python3.6/dist-packages (from gpt_2_simple) (1.16.2)\n",
            "Requirement already satisfied: urllib3<1.23,>=1.21.1 in /usr/local/lib/python3.6/dist-packages (from requests->gpt_2_simple) (1.22)\n",
            "Requirement already satisfied: chardet<3.1.0,>=3.0.2 in /usr/local/lib/python3.6/dist-packages (from requests->gpt_2_simple) (3.0.4)\n",
            "Requirement already satisfied: certifi>=2017.4.17 in /usr/local/lib/python3.6/dist-packages (from requests->gpt_2_simple) (2019.3.9)\n",
            "Requirement already satisfied: idna<2.7,>=2.5 in /usr/local/lib/python3.6/dist-packages (from requests->gpt_2_simple) (2.6)\n",
            "Building wheels for collected packages: gpt-2-simple\n",
            "  Building wheel for gpt-2-simple (setup.py) ... \u001b[?25ldone\n",
            "\u001b[?25h  Stored in directory: /root/.cache/pip/wheels/51/d0/bd/293c80200f60bcd75a0f4028684e55e959da3a2727858d98a0\n",
            "Successfully built gpt-2-simple\n",
            "Installing collected packages: gpt-2-simple\n",
            "Successfully installed gpt-2-simple-0.2\n"
          ],
          "name": "stdout"
        }
      ]
    },
    {
      "metadata": {
        "id": "nTkq7wEQwEkZ",
        "colab_type": "text"
      },
      "cell_type": "markdown",
      "source": [
        "Download the pre-trained model"
      ]
    },
    {
      "metadata": {
        "id": "_pdkhHU6wd12",
        "colab_type": "code",
        "colab": {}
      },
      "cell_type": "code",
      "source": [
        "import gpt_2_simple as gpt2\n",
        "from datetime import datetime\n",
        "from google.colab import files"
      ],
      "execution_count": 0,
      "outputs": []
    },
    {
      "metadata": {
        "id": "0ggC2Mc75BnB",
        "colab_type": "text"
      },
      "cell_type": "markdown",
      "source": [
        "## Downloading GPT-2"
      ]
    },
    {
      "metadata": {
        "id": "_-If30nT4ZCb",
        "colab_type": "code",
        "outputId": "c01e8fd1-ca2d-4615-a9ba-ec62a719fbc7",
        "colab": {
          "base_uri": "https://localhost:8080/",
          "height": 146
        }
      },
      "cell_type": "code",
      "source": [
        "gpt2.download_gpt2()"
      ],
      "execution_count": 3,
      "outputs": [
        {
          "output_type": "stream",
          "text": [
            "Fetching checkpoint: 1.00kit [00:00, 735kit/s]                                                      \n",
            "Fetching encoder.json: 1.04Mit [00:00, 45.6Mit/s]                                                   \n",
            "Fetching hparams.json: 1.00kit [00:00, 544kit/s]                                                    \n",
            "Fetching model.ckpt.data-00000-of-00001: 498Mit [00:07, 70.9Mit/s]                                  \n",
            "Fetching model.ckpt.index: 6.00kit [00:00, 1.55Mit/s]                                               \n",
            "Fetching model.ckpt.meta: 472kit [00:00, 47.6Mit/s]                                                 \n",
            "Fetching vocab.bpe: 457kit [00:00, 40.3Mit/s]                                                       \n"
          ],
          "name": "stderr"
        }
      ]
    },
    {
      "metadata": {
        "id": "AkpviYXh4tHL",
        "colab_type": "text"
      },
      "cell_type": "markdown",
      "source": [
        "## Mounting Google Drive"
      ]
    },
    {
      "metadata": {
        "id": "0D4hzKfk4rIp",
        "colab_type": "code",
        "colab": {
          "base_uri": "https://localhost:8080/",
          "height": 129
        },
        "outputId": "db04eb81-2abd-48ce-a8a2-f564cdbed72e"
      },
      "cell_type": "code",
      "source": [
        "gpt2.mount_gdrive()"
      ],
      "execution_count": 4,
      "outputs": [
        {
          "output_type": "stream",
          "text": [
            "Go to this URL in a browser: https://accounts.google.com/o/oauth2/auth?client_id=947318989803-6bn6qk8qdgf4n4g3pfee6491hc0brc4i.apps.googleusercontent.com&redirect_uri=urn%3Aietf%3Awg%3Aoauth%3A2.0%3Aoob&scope=email%20https%3A%2F%2Fwww.googleapis.com%2Fauth%2Fdocs.test%20https%3A%2F%2Fwww.googleapis.com%2Fauth%2Fdrive%20https%3A%2F%2Fwww.googleapis.com%2Fauth%2Fdrive.photos.readonly%20https%3A%2F%2Fwww.googleapis.com%2Fauth%2Fpeopleapi.readonly&response_type=code\n",
            "\n",
            "Enter your authorization code:\n",
            "··········\n",
            "Mounted at /content/drive\n"
          ],
          "name": "stdout"
        }
      ]
    },
    {
      "metadata": {
        "id": "e9sI2rah5OyB",
        "colab_type": "text"
      },
      "cell_type": "markdown",
      "source": [
        "## Uploading a Text File to be Trained to Colaboratory"
      ]
    },
    {
      "metadata": {
        "colab_type": "text",
        "id": "d3NlwR97DRGt"
      },
      "cell_type": "markdown",
      "source": [
        "#### Either get the data by yourself"
      ]
    },
    {
      "metadata": {
        "id": "u6h_g-wpDSSh",
        "colab_type": "text"
      },
      "cell_type": "markdown",
      "source": [
        "Currently not possible because you:\n",
        "-   either need app details (slow to download),\n",
        "-   or aggregate.json (stored with Git LFS, not installed on Google Colab.)"
      ]
    },
    {
      "metadata": {
        "id": "7LPbkB998g-B",
        "colab_type": "text"
      },
      "cell_type": "markdown",
      "source": [
        "#### Or get a data snapshot from me"
      ]
    },
    {
      "metadata": {
        "id": "FIR9fBid5U2w",
        "colab_type": "code",
        "outputId": "4d7fa32e-2de7-4638-aaec-90324a684c3c",
        "colab": {
          "base_uri": "https://localhost:8080/",
          "height": 72
        }
      },
      "cell_type": "code",
      "source": [
        "!curl -O https://raw.githubusercontent.com/woctezuma/sample-steam-descriptions/master/data/concatenated_store_descriptions.txt"
      ],
      "execution_count": 5,
      "outputs": [
        {
          "output_type": "stream",
          "text": [
            "  % Total    % Received % Xferd  Average Speed   Time    Time     Time  Current\n",
            "                                 Dload  Upload   Total   Spent    Left  Speed\n",
            "100 43.1M  100 43.1M    0     0  51.5M      0 --:--:-- --:--:-- --:--:-- 51.4M\n"
          ],
          "name": "stdout"
        }
      ]
    },
    {
      "metadata": {
        "id": "AjmpOgoa5y7Q",
        "colab_type": "text"
      },
      "cell_type": "markdown",
      "source": [
        "## Finetune GPT-2"
      ]
    },
    {
      "metadata": {
        "id": "7WDz30tL5-yf",
        "colab_type": "code",
        "colab": {}
      },
      "cell_type": "code",
      "source": [
        "file_name = 'concatenated_store_descriptions.txt'\n",
        "\n",
        "run_name = 'descriptions'"
      ],
      "execution_count": 0,
      "outputs": []
    },
    {
      "metadata": {
        "id": "Bfg4HYZl56JJ",
        "colab_type": "code",
        "outputId": "34964384-baae-4add-cddd-6fa5573dd25a",
        "colab": {
          "base_uri": "https://localhost:8080/",
          "height": 2939
        }
      },
      "cell_type": "code",
      "source": [
        "sess = gpt2.start_tf_sess()\n",
        "\n",
        "gpt2.finetune(sess,\n",
        "              run_name=run_name,\n",
        "              dataset=file_name,\n",
        "              steps=1000,\n",
        "              restore_from='fresh',   # change to 'latest' to resume training\n",
        "              print_every=10,   # how many steps between printing progress\n",
        "              sample_every=200,   # how many steps to print a demo sample\n",
        "              save_every=500   # how many steps between saving checkpoint              \n",
        "              )"
      ],
      "execution_count": 7,
      "outputs": [
        {
          "output_type": "stream",
          "text": [
            "WARNING:tensorflow:From /usr/local/lib/python3.6/dist-packages/tensorflow/python/framework/op_def_library.py:263: colocate_with (from tensorflow.python.framework.ops) is deprecated and will be removed in a future version.\n",
            "Instructions for updating:\n",
            "Colocations handled automatically by placer.\n",
            "WARNING:tensorflow:From /usr/local/lib/python3.6/dist-packages/gpt_2_simple/src/sample.py:51: to_float (from tensorflow.python.ops.math_ops) is deprecated and will be removed in a future version.\n",
            "Instructions for updating:\n",
            "Use tf.cast instead.\n",
            "WARNING:tensorflow:From /usr/local/lib/python3.6/dist-packages/gpt_2_simple/src/sample.py:53: multinomial (from tensorflow.python.ops.random_ops) is deprecated and will be removed in a future version.\n",
            "Instructions for updating:\n",
            "Use tf.random.categorical instead.\n",
            "WARNING:tensorflow:From /usr/local/lib/python3.6/dist-packages/tensorflow/python/ops/math_ops.py:3066: to_int32 (from tensorflow.python.ops.math_ops) is deprecated and will be removed in a future version.\n",
            "Instructions for updating:\n",
            "Use tf.cast instead.\n",
            "WARNING:tensorflow:From /usr/local/lib/python3.6/dist-packages/tensorflow/python/ops/math_grad.py:102: div (from tensorflow.python.ops.math_ops) is deprecated and will be removed in a future version.\n",
            "Instructions for updating:\n",
            "Deprecated in favor of operator or tf.math.divide.\n",
            "Loading checkpoint models/117M/model.ckpt\n",
            "WARNING:tensorflow:From /usr/local/lib/python3.6/dist-packages/tensorflow/python/training/saver.py:1266: checkpoint_exists (from tensorflow.python.training.checkpoint_management) is deprecated and will be removed in a future version.\n",
            "Instructions for updating:\n",
            "Use standard file APIs to check for files with this prefix.\n",
            "INFO:tensorflow:Restoring parameters from models/117M/model.ckpt\n"
          ],
          "name": "stdout"
        },
        {
          "output_type": "stream",
          "text": [
            "\r  0%|          | 0/1 [00:00<?, ?it/s]"
          ],
          "name": "stderr"
        },
        {
          "output_type": "stream",
          "text": [
            "Loading dataset...\n"
          ],
          "name": "stdout"
        },
        {
          "output_type": "stream",
          "text": [
            "\r100%|██████████| 1/1 [01:06<00:00, 66.02s/it]\n"
          ],
          "name": "stderr"
        },
        {
          "output_type": "stream",
          "text": [
            "dataset has 11714797 tokens\n",
            "Training...\n",
            "[10 | 29.31] loss=2.94 avg=2.94\n",
            "[20 | 54.04] loss=2.89 avg=2.92\n",
            "[30 | 79.60] loss=2.66 avg=2.83\n",
            "[40 | 104.15] loss=2.59 avg=2.77\n",
            "[50 | 128.73] loss=2.62 avg=2.74\n",
            "[60 | 153.66] loss=2.73 avg=2.74\n",
            "[70 | 178.41] loss=2.80 avg=2.75\n",
            "[80 | 203.07] loss=2.67 avg=2.74\n",
            "[90 | 227.79] loss=2.94 avg=2.76\n",
            "[100 | 252.73] loss=2.40 avg=2.72\n",
            "[110 | 277.61] loss=2.72 avg=2.72\n",
            "[120 | 302.44] loss=2.47 avg=2.70\n",
            "[130 | 327.10] loss=2.50 avg=2.68\n",
            "[140 | 351.78] loss=2.60 avg=2.68\n",
            "[150 | 376.48] loss=2.60 avg=2.67\n",
            "[160 | 401.14] loss=2.75 avg=2.68\n",
            "[170 | 425.83] loss=2.56 avg=2.67\n",
            "[180 | 450.52] loss=2.88 avg=2.68\n",
            "[190 | 475.21] loss=2.78 avg=2.69\n",
            "======== SAMPLE 1 ========\n",
            " a ????                                                                             )                                                                                                                                                                                                                                                                                                                                                                                                                                                                                                                                                                                                                                                                                                                                                                                                                                                                             <                                                                                                   \n",
            "\n",
            "[200 | 511.59] loss=2.65 avg=2.69\n",
            "[210 | 536.27] loss=2.42 avg=2.67\n",
            "[220 | 560.95] loss=2.60 avg=2.67\n",
            "[230 | 585.63] loss=2.72 avg=2.67\n",
            "[240 | 610.29] loss=2.47 avg=2.66\n",
            "[250 | 634.98] loss=2.58 avg=2.66\n",
            "[260 | 659.64] loss=2.56 avg=2.65\n",
            "[270 | 684.36] loss=2.35 avg=2.64\n",
            "[280 | 709.09] loss=2.71 avg=2.64\n",
            "[290 | 733.77] loss=2.45 avg=2.64\n",
            "[300 | 758.51] loss=2.63 avg=2.64\n",
            "[310 | 783.27] loss=2.61 avg=2.64\n",
            "[320 | 808.02] loss=2.59 avg=2.63\n",
            "[330 | 832.78] loss=2.63 avg=2.63\n",
            "[340 | 857.50] loss=2.72 avg=2.64\n",
            "[350 | 882.22] loss=2.75 avg=2.64\n",
            "[360 | 906.92] loss=2.59 avg=2.64\n",
            "[370 | 931.62] loss=2.81 avg=2.64\n",
            "[380 | 956.34] loss=2.47 avg=2.64\n",
            "[390 | 981.06] loss=2.81 avg=2.64\n",
            "======== SAMPLE 1 ========\n",
            "br>•       <br><br><img src=\"https://steamcdn-a.akamaihd.net/steam/apps/857330/extras/Banner_6001.png?t=1484565337\" ><h2 class=\"bb_tag\">Banner</h2>In this new version, you will be able to see a bit more than one player with their own characters to play as.<h2 class=\"bb_tag\">Features</h2><ul class=\"bb_ul\"><li>Realistic FPS<br></li><li>Realistic Gameplay<br></li><li>Realistic Backgrounds<br></li><li>Realistic UI</li></ul><ul class=\"bb_ul\"><li>Realistic Combat<br></li><li>Non-linear Story Mode<br></li><li>Realistic Graphics<br></li><li>Realistic Soundtrack</li></ul><i>     - <strong>Soundtrack</strong><br><br><ul class=\"bb_ul\"><li><strong>Game Modes</strong> - Arcade, Capture the Flag, Capture the Flag, Capture the Flag!\n",
            "Somewhere in the middle of a desert in the desert, a guy with a truck named David is out to his first mission. He was searching for the best way to get out without having to leave a truck behind. The next night he got to see the truck and he found the best way. The truck has all types of weapons. In the truck he needs to get some guns to the truck so he can shoot with him and shoot with him. The truck has different weapons. For example guns. You need to bring all types of weapons to the truck but you need to bring enough pistols to go with the pistols.<br>  <br>The truck has different guns. It is better to bring three weapons than one, but not a lot because you will not be at the gun with the other guns.<br><br>The truck carries two weapons each and you have one of the two weapons that you are carrying for him. For the other weapon you have to use your fingers and make the mistake of shooting your gun with the pistol. If you miss your shot then you have a chance that it will ricochet into your right ear or nose and the car will just explode, but for a good shot you have to use all the skills you have so you might need to put the pistol down to the level of killing enemies but not as good as when you don't get hit.<br><br>In the end David needs his gun and his shotgun as his last resort. David does not have a problem with that. You can use it but don't let the bullet hit you.<br><br>You know a revolver is better?\n",
            "The game is easy and simple. The only way to beat the game is to start from scratch, you can build the whole game from scratch, you have to be ready and ready, everything is made to work, you need to take every step on the game path and you have to find the right moves. So the best way to do the game are to use just your first moves and take advantage of the speed. The only way in the game is not to beat the game, to beat the enemies, to make sure you can move well in the end, if you are not very good at all on the enemy's move. It is impossible to do everything that you need for the game, so there are no special moves, you just have to find the right moves, the aim. So you can feel good about yourself and you can start the game and beat the game.\n",
            "<img src=\"https://steamcdn-a.akamaihd.net/steam/apps/857330/extras/3.gif?t=1528540157\" ><br><br>A series of puzzles, puzzles with the result of solving them. So you will need to start with one piece of the puzzle and then do the next step to solve it. As you are progressing by the day, you shall unlock more levels of puzzles. After the game a different puzzle will appear and you shall be placed in a new mode. The game will be more than random. There are a lot of different levels for each level. You can progress by trying new puzzles, more puzzles. The levels will always change and will get harder as you keep building them.<br><br><img src=\"https://steamcdn-a.akamaihd.net/steam/apps/857330/extras/3.png?t=1528540157\" ><br><br><br>Features:<br><br><strong>Stages of Puzzles (Lumos)</strong><br><br>There are five levels of puzzles and each one is different. The easier you can proceed\n",
            "\n",
            "[400 | 1016.46] loss=2.85 avg=2.65\n",
            "[410 | 1041.16] loss=2.72 avg=2.65\n",
            "[420 | 1065.87] loss=2.46 avg=2.65\n",
            "[430 | 1090.71] loss=2.52 avg=2.64\n",
            "[440 | 1115.61] loss=2.70 avg=2.64\n",
            "[450 | 1140.36] loss=2.70 avg=2.65\n",
            "[460 | 1165.05] loss=2.50 avg=2.64\n",
            "[470 | 1189.78] loss=2.54 avg=2.64\n",
            "[480 | 1214.44] loss=2.48 avg=2.64\n",
            "[490 | 1239.11] loss=2.12 avg=2.62\n",
            "Saving checkpoint/descriptions/model-500\n",
            "[500 | 1268.55] loss=2.45 avg=2.62\n",
            "[510 | 1293.38] loss=2.55 avg=2.62\n",
            "[520 | 1318.44] loss=2.55 avg=2.61\n",
            "[530 | 1343.16] loss=2.61 avg=2.61\n",
            "[540 | 1367.83] loss=2.61 avg=2.61\n",
            "[550 | 1392.70] loss=2.33 avg=2.61\n",
            "[560 | 1417.63] loss=2.63 avg=2.61\n",
            "[570 | 1442.37] loss=2.28 avg=2.60\n",
            "[580 | 1467.09] loss=2.64 avg=2.60\n",
            "[590 | 1491.74] loss=2.56 avg=2.60\n",
            "======== SAMPLE 1 ========\n",
            "<br />\n",
            "- In-app purchases make some items available, and other features will be available later on.<br />\n",
            "- The shop is currently in Early Access, so that everyone who owns the game will gain the advantage that we currently possess. As well, every purchase made will generate a free pack of the game files and will enable us to release more content, making it more accessible, more accessible, and more competitive.</h2><br><img src=\"https://steamcdn-a.akamaihd.net/steam/apps/959290/extras/2x.png?t=1525441890\" ><br><ul class=\"bb_ul\"><li> The game now has a Steam Workshop in which you can help us improve our community building skills. Players can invite others to join them on a similar game they have created, and it is now possible and encouraged to create a game together.<br></li><li> We now have a full chat system that lets you communicate, and chat is integrated into the game through the console. We also support a chat based on the player’s last name and with the mouse, using a mouse-equipped controller and keyboard.<br></li><li> We now encourage players to create their own character classes using <strong>character combinations</strong>. This allows the creation of classes that don’t exist in the real world, and also to have their own unique names and their own skills. (This behavior is intended to be compatible with existing characters and attributes, but is not currently supported.)<br></li><li> We now have the ability to import custom assets that can be used with your character in the game. For example, to import a custom game assets such as walls, text, sounds, and more, but not directly using your character, the game will be stuck at a resolution of 640x480 instead of 1024x720 and will be unable to see the assets within the game.<br></li><li> We now have the ability to import the assets from other platforms, allowing users to create and share their own game assets to develop with the community.<br></li><li> The game now has Steam Workshop integration with our community. This feature was introduced more than three years ago, and now can be used to create new game creations. We encourage any new developer to share their Steam workshop with us so we can continue to have the same content you use most often.<br></li><li> We now have a new character system and some items to collect, and you can upgrade, upgrade or change your class and equipment to create a variety of characters.<br></li><li> We now have a large collection of weapons, special equipment, etc., and each with unique abilities available in certain circumstances.<br></li><li> We now have the ability to place items on the character’s inventory and drop them, allowing you to place items quickly, and also allowing you to collect items in specific locations.<br></li><li> We now have a fully voiced world which will let us create our own missions, without requiring you to be physically in the real world, and without being able to communicate with the player, allowing for an authentic experience with actual player characters.</li></ul>\n",
            "<h2 class=\"bb_tag\"><strong>This will be a long-awaited sequel to BattleBanners for the HTC Vive!</strong></h2><br><br>This sequel to BattleBanners takes the experience of playing a virtual war hero the game into new heights of new territory: the battlefield. Players will have to battle against AI opponents through a variety of missions, each in unique ways. <br><br>In addition to the world map with new maps created with the community-created BattleBanners experience, the game will show players the most advanced strategies and AI opponents possible.  Players will find the experience of playing a real veteran war veteran a real challenge.<h2 class=\"bb_tag\">Key features:</h2><ul class=\"bb_ul\"><li>The virtual battlefield experience is built around a full 3D physics simulation with over 400 distinct stages and over 2 million maps.\n",
            "<a href=\"https://steamcommunity.com/sharedfiles/filedetails/?id=83480981760\" target=\"_blank\" rel=\"noreferrer\"  ><img src=\"https://%CDN_HOST_MEDIA_SSL%/steam/apps/959070/extras/description_english.png?t=1555853946\" crossorigin=\"anonymous\"></a></li></ul><br><img src=\"https://%CDN_HOST_MEDIA_SSL%/steam/apps/959070/extras/v2.png?t=1555853946\" crossorigin=\"anonymous\"><br>V2 is a sequel of <a href=\"http\n",
            "\n",
            "[600 | 1526.89] loss=2.69 avg=2.60\n",
            "[610 | 1551.61] loss=2.71 avg=2.60\n",
            "[620 | 1576.35] loss=2.57 avg=2.60\n",
            "[630 | 1601.11] loss=2.81 avg=2.61\n",
            "[640 | 1625.90] loss=2.55 avg=2.61\n",
            "[650 | 1650.72] loss=2.56 avg=2.61\n",
            "[660 | 1675.54] loss=2.72 avg=2.61\n",
            "[670 | 1700.39] loss=2.73 avg=2.61\n",
            "[680 | 1725.26] loss=2.73 avg=2.61\n",
            "[690 | 1750.13] loss=2.48 avg=2.61\n",
            "[700 | 1774.96] loss=2.43 avg=2.61\n",
            "[710 | 1799.66] loss=2.32 avg=2.60\n",
            "[720 | 1824.38] loss=2.55 avg=2.60\n",
            "[730 | 1849.06] loss=2.50 avg=2.60\n",
            "[740 | 1873.76] loss=2.73 avg=2.60\n",
            "[750 | 1898.43] loss=2.65 avg=2.60\n",
            "[760 | 1923.13] loss=2.49 avg=2.60\n",
            "[770 | 1947.89] loss=2.61 avg=2.60\n",
            "[780 | 1972.71] loss=2.29 avg=2.59\n",
            "[790 | 1997.63] loss=2.44 avg=2.59\n",
            "======== SAMPLE 1 ========\n",
            " /> <br><br>Gain experience by slaying monsters. This will greatly aid you in your quests, and you will be able to get stronger.\n",
            "The legendary hero was the first to achieve the legendary glory. But he was not alone ...<br><i>  <br>Your character will be on the way. The fate of earth will come to a violent end! Your destiny was never to be the hero, and there is nobody he can look up to.</i><br><br>The game gives you the opportunity to find out the history of the mythical hero. The world is lost, and only the hero can return to his old self! <br><br>Will you save the world by turning the evil into good? Can you rescue the princess? Or will you find the legendary hero and his secret? Can you overcome your own fears?<br><br>The end of the world is at hand. Your destiny is unknown. A hero will come! Who will save the world? The hero can not be saved. <br><br><br>Features:<br><ul class=\"bb_ul\"><li>Over 45 levels.<br></li><li>4 Heroines, 3 each with 4 powers.<br></li><li>A lot of crazy weapons, unique abilities, weapons of all kinds, <u>3x3</u> of the heroes' powers are special- !</li></ul>\n",
            "<i>Welcome to the world of the game, the world! <br />\n",
            "&quot;GameOver</i><br />\n",
            "<br />\n",
            "The rules of this game only change as time passes. In the middle you find a house, a little town and a castle. And all are waiting for you on the other side of the town.\n",
            "The adventure is over. The world is just another endless war.<br />\n",
            "<br />\n",
            "At the end you are on the battlefield. You may be fighting on an airship or on a submarine. But there is one thing that you will not win: defeat the enemy who wants to destroy you. Fight alone, or work for your partner. Fight a battle, fight the enemy, try to destroy your enemies alone. Or use your courage when you have lost.\n",
            "<h2 class=\"bb_tag\">&quot;&quot;A new series of games:</h2><br><br>In the past one of the game's inhabitants, a young man had become a hero. His journey to becoming a hero only changed everything. Now he is able to start a new life with the knowledge of his friends. It will be a long journey with his friends, but once the adventure begins, he will come back to the kingdom.\n",
            "<img src=\"https://steamcdn-a.akamaihd.net/steam/apps/571050/extras/banner.png?t=1554305433\" ><br>Harm, that evil god, took control of the world. His people were called the people of light. And the light of their destruction was known far and wide. If someone has a heart of stone, then it is a good to burn. As long as the people of light are not destroyed, the people of dark will reign supreme. However, the power of this evil evil is very strong. And this is the most important reason that the people of light seek to be the last great king.</h2><br>One of the main characters of this game is a young man from a small town. His hero is suffering from the evil deeds of his home country. It is the only kingdom that has a good heart after every step of it. But his life will be destroyed soon, unless he takes an approach to the evil. In short, all the people will turn into dark monsters. </br><br><br>When this story starts, the heroine of the game is just a girl. Her hero's soul was captured once.<h2 class=\"bb_tag\"><strong>Features:</strong></h2><br><br>- 4 different endings - the only difference is that protagonist is a fairy.<br><br>- A lot of different enemies - different things to kill.<br><br>- A beautiful and scary atmosphere.\n",
            "<img src=\"https://steamcdn-a.akamaihd.net/steam/apps/571170/extras/Description_01.png?t=1545670189\" ><br><br>In the land of the living, you will have to fight the enemy.<br><br>Your task is to defeat the enemy, and gain a living space on planet Earth. Be as rich as you can, to live on it. The game has a lot of different missions, and you can enjoy playing it without any problems. You can just play with friends.<br><br><br><strong>Features:</strong\n",
            "\n",
            "[800 | 2033.00] loss=2.46 avg=2.59\n",
            "[810 | 2057.68] loss=2.68 avg=2.59\n",
            "[820 | 2082.38] loss=2.58 avg=2.59\n",
            "[830 | 2107.17] loss=2.73 avg=2.59\n",
            "[840 | 2132.01] loss=2.63 avg=2.59\n",
            "[850 | 2156.87] loss=2.61 avg=2.59\n",
            "[860 | 2181.66] loss=2.42 avg=2.59\n",
            "[870 | 2206.48] loss=2.80 avg=2.59\n",
            "[880 | 2231.27] loss=2.71 avg=2.60\n",
            "[890 | 2256.09] loss=2.45 avg=2.59\n",
            "[900 | 2280.88] loss=2.18 avg=2.59\n",
            "[910 | 2305.68] loss=2.61 avg=2.59\n",
            "[920 | 2330.49] loss=2.50 avg=2.59\n",
            "[930 | 2355.30] loss=2.25 avg=2.58\n",
            "[940 | 2380.11] loss=2.64 avg=2.58\n",
            "[950 | 2404.93] loss=2.78 avg=2.58\n",
            "[960 | 2429.75] loss=2.41 avg=2.58\n",
            "[970 | 2454.54] loss=2.25 avg=2.58\n",
            "[980 | 2479.31] loss=2.52 avg=2.58\n",
            "[990 | 2504.15] loss=2.85 avg=2.58\n",
            "Saving checkpoint/descriptions/model-1000\n",
            "WARNING:tensorflow:From /usr/local/lib/python3.6/dist-packages/tensorflow/python/training/saver.py:966: remove_checkpoint (from tensorflow.python.training.checkpoint_management) is deprecated and will be removed in a future version.\n",
            "Instructions for updating:\n",
            "Use standard file APIs to delete files with this prefix.\n"
          ],
          "name": "stdout"
        }
      ]
    },
    {
      "metadata": {
        "id": "NAyu3yNP6Uls",
        "colab_type": "code",
        "colab": {}
      },
      "cell_type": "code",
      "source": [
        "# gpt2.copy_checkpoint_to_gdrive()"
      ],
      "execution_count": 0,
      "outputs": []
    },
    {
      "metadata": {
        "id": "BEwkRvCn6XZW",
        "colab_type": "text"
      },
      "cell_type": "markdown",
      "source": [
        "## Load a Trained Model Checkpoint"
      ]
    },
    {
      "metadata": {
        "id": "dELSgpoC6Z-O",
        "colab_type": "code",
        "colab": {}
      },
      "cell_type": "code",
      "source": [
        "# gpt2.copy_checkpoint_from_gdrive()"
      ],
      "execution_count": 0,
      "outputs": []
    },
    {
      "metadata": {
        "id": "dqDaWVAo6cn9",
        "colab_type": "code",
        "colab": {}
      },
      "cell_type": "code",
      "source": [
        "# sess = gpt2.start_tf_sess()\n",
        "\n",
        "# gpt2.load_gpt2(sess,\n",
        "#                run_name=run_name)"
      ],
      "execution_count": 0,
      "outputs": []
    },
    {
      "metadata": {
        "id": "vX8KFoKR6g-o",
        "colab_type": "text"
      },
      "cell_type": "markdown",
      "source": [
        "## Generate Text From The Trained Model"
      ]
    },
    {
      "metadata": {
        "id": "KYC30GEi6kPv",
        "colab_type": "code",
        "outputId": "ddd04653-9a42-4b27-9c36-0b3feefe6f71",
        "colab": {
          "base_uri": "https://localhost:8080/",
          "height": 1194
        }
      },
      "cell_type": "code",
      "source": [
        "num_samples = 3\n",
        "num_batches = 3 # Unique to GPT-2, you can pass a batch_size to generate multiple samples in parallel, giving a massive speedup.\n",
        "\n",
        "gpt2.generate(sess,\n",
        "              run_name=run_name,\n",
        "              nsamples=num_samples,\n",
        "              batch_size=num_batches)"
      ],
      "execution_count": 11,
      "outputs": [
        {
          "output_type": "stream",
          "text": [
            "<strong>The term “The Lost World””” means something very different than what it means in the games. In “The Lost World”, the player is a renegade explorer, and the story is told through a series of flashbacks. In “The Lost World”, the player is always searching for answers, and the story is told through a series of flashbacks. <br><br>The game is an exploration game, and the player has to find his way through a series of flashbacks to uncover the truth behind the quest. <br><br>Several different endings are provided, and the player will have to face many obstacles and obstacles to overcome. <br><br>Each level is different, and new levels are added every time the game is played. <br><br>The game features a rich world, and new levels will be added as the game progresses. <br><br>The game has a grid system, and you can move freely between them. <br><br>The difficulty of the game is simple, and the challenge is complex.\n",
            "<img src=\"https://steamcdn-a.akamaihd.net/steam/apps/912300/extras/1.png?t=1548990558\" ><br><br>Hone your skills on this tower defense game!<br>You will need to be a powerful defender to win this game. Use your cunning and cunning skills to defend your tower and stop the enemy from reaching your tower. <br>You will be rewarded with upgrades and upgrades to your towers. <br><br>This game is made by me and my wife. <br>It is made with my own creativity, from the visual images to the sounds.\n",
            "<img src=\"https://steamcdn-a.akamaihd.net/steam/apps/912400/extras/1.png?t=1548999889\" ><br><br>For the first time in the world of Webley we bring you the first real-time local multiplayer in the game, featuring H2K and TF2 players.<br><br><strong>Key Features</strong><br><br><ul class=\"bb_ul\"><li>Play with your friends or against AI players.<br></li><li>Cross-platform multiplayer with Steam bots.<br></li><li>Manage your team’s resources and spawn more players.<br></li><li>Professional tutorials with a diverse arsenal of level and custom orders of battle.<br></li><li>Challenging AI gameplay and player skill. <br></li><li>Play through the game in a never-ending tournament format.<br></li><li>Limitless achievements and prizes.<br></li><li>Leaderboards and leader boards are available.<br></li><li>PvP mode allows you to play against any team on the same map.<br></li><li>Content includes both a singleplayer mode and a co-op mode.<br></li><li>Achievements are available for each level.<br></li><li>Asynchronous multiplayer.<br></li><li>Competitive matches.<br></li><li>Online leaderboards and leaderboards.<br></li><li>Achievements are tied to clan leaderboards.</li></ul><br>Webley: <br>Webley is a local multiplayer game that combines the studio's modern style of gameplay with the best of the best games from the past.<br><br><strong>Key Features</strong><br><br><ul class=\"bb_ul\"><li>Play with your team on the same computer or SC2. <br></li><li>Play with your friends or against AI players.<br></li><li>Play against Steam bots and bots from the Steam community.<br></li><li>Run and gun with a variety of weapons including rifles, shotguns, shotguns, machine guns, machine guns, machine guns, grenades, energy grenades, energy weapons, energy weapons, grenades, energy weapons, energy weapons, energy weapons, energy weapons, energy weapons, energy weapons, energy weapons, energy weapons, energy weapons, fire rate, fire rate, fire rate, fire rate,fire rate, fire rate, fire rate, fire rate, fire rate, fire rate, fire rate, fire rate, fire rate, fire rate, fire rate, fire rate, fire rate, fire rate, fire rate, fire rate, fire rate, fire rate, fire rate, fire rate, fire rate, fire rate, fire rate, fire rate, fire rate, fire rate, fire rate, fire rate, fire rate, fire rate, fire rate, fire rate, fire rate, fire rate, fire rate, fire rate, fire rate, fire rate, fire rate, fire rate, fire rate, fire rate, fire rate, fire rate, fire rate, fire\n",
            "====================\n",
            "\n",
            "Bittersweet and challenging game in which you need to build your own safehouse.  The game is made in a first person view, in which you can build the safehouse without touching anything.  The game is good if you want to be more fun, because it offers lots of different ways to build the safehouse.<br />\n",
            "<br />\n",
            "Features:<br />\n",
            "- 14 different kinds of safehouses<br />\n",
            "- 14 towers and towers to build<br />\n",
            "- Towers that are useful for building and it’s possible to build more than one<br />\n",
            "- Towers that are useful for building and it’s possible to build more than one<br />\n",
            "- Towers that are useful for building and it’s possible to build more than one</br />\n",
            "<br />\n",
            "Key Features:<br />\n",
            "- Towers that are useful for building and it’s possible to build more than one<br />\n",
            "- Towers that are useful for building and it’s possible to build more than one<br />\n",
            "- Towers that are useful for building and it’s possible to build more than one<br />\n",
            "- Towers that are useful for building and it’s possible to build more than one<br />\n",
            "- Towers that are useful for building and it’s possible to build more than one<br />\n",
            "- Towers that are useful for building and it’’s possible to build more than one<br />\n",
            "<br />\n",
            "Features:<br />\n",
            "- Towers that are useful for building and it’s possible to build more than one<br />\n",
            "- Towers that are useful for building and it’s possible to build more than one<br />\n",
            "- Towers that are useful for building and it’’s possible to build more than one<br />\n",
            "- Towers that are useful for building and it’s possible to build more than one<br />\n",
            "- Towers that are useful for building and it’s possible to build more than one<br />\n",
            "- Towers that are useful for building and it’’s possible to build more than one<br />\n",
            "- Towers that are useful for building and it’s possible to build more than one<br />\n",
            "- Towers that are useful for building and it’s possible to build more than one<br />\n",
            "<br />\n",
            "Features:<br />\n",
            "- Towers that are useful for building and it’s possible to build more than one<br />\n",
            "- Towers that are useful for building and it’s possible to build more than one<br />\n",
            "- Towers that are useful for building and it’’s possible to build more than one<br />\n",
            "- Towers that are useful for building and it’s possible to build more than one<br />\n",
            "- Towers that are useful for building and it’'s possible to build more than one<br />\n",
            "- Towers that are useful for building and it’s possible to build more than one<br />\n",
            "- Towers that are useful for building and it’'s possible to build more than one<br />\n",
            "- Towers that are useful for building and it’s possible to build more than one<br />\n",
            "- Towers that are useful for building and it’'s possible to build more than one<br />\n",
            "- Towers that are useful for building and it’'s possible to build more than one<br />\n",
            "- Towers that are useful for building and it’s possible to build more than one<br />\n",
            "- Towers that are useful for building and it’'s possible to build more than one<br />\n",
            "- Towers that are useful for building and it’'s possible to build more than one<br />\n",
            "- Towers that are useful for building and it’s possible to build more than one<br />\n",
            "- Towers that are useful for building and it’'s possible to build more than one<br />\n",
            "- Towers that are useful for building and it’'s possible to build more than one<br />\n",
            "- Towers that are useful for building and it’'s possible to build more than one<br />\n",
            "- Towers that are useful for building and it’s possible to build more than one<br />\n",
            "- Towers that are useful for building and it’'s possible to build more than one<br />\n",
            "- Towers that are useful for building and it’'s possible to build more than one<br />\n",
            "- Towers that are useful for building and it’'s possible to build more than one<br />\n",
            "- Towers that are useful for building and it’’s possible to build more than one<br />\n",
            "- Towers that are useful for building and it’s possible to build more than one<br />\n",
            "-\n",
            "====================\n",
            "\n",
            "In this retro fighting game, you must make your way through the levels in order to reach the exit. You will need to dodge the projectiles and repel the projectiles to reach the exit. The levels are made of different types of obstacles - walls, boulders, platforms, trees, and more.\n",
            "<img src=\"https://steamcdn-a.akamaihd.net/steam/apps/727220/extras/1.png?t=1512101643\" ><br><br>It's a low-poly shooter, with a simple gameplay.<br>The main objective is to shoot space debris, which you can destroy by hitting the ground. You must aim your weapon to shoot it. You have an ability, which allows you to shoot a specific number of targets at the same time.<br>Some weapons can be useful, such as bombs, missiles, lasers, plasma, and blades.<br>You can also use them against other enemies.<br><br><img src=\"https://steamcdn-a.akamaihd.net/steam/apps/727220/extras/2.png?t=1512101643\" ><br><br>The game consists of 5 levels, each with its own challenges and camaraderie. Light and dark environments will be different for each level.<br><br>The game features multiple levels full of action and challenge, and some levels will have no obstacles.<br>You will need to think carefully, and make every decision on the right hand.<br><br><img src=\"https://steamcdn-a.akamaihd.net/steam/apps/727220/extras/3.png?t=1512101643\" ><br><br>There is one round of play:<br>1. Level 1:<br>1.                                                                                                                                                                                                                                                                                                                                                                                                                                                                                                                                                                                                                                                             \n",
            "====================\n",
            "\n"
          ],
          "name": "stdout"
        }
      ]
    },
    {
      "metadata": {
        "id": "jrZBWas662k_",
        "colab_type": "code",
        "outputId": "fdf70dd9-ac45-4223-929f-530db60396aa",
        "colab": {
          "base_uri": "https://localhost:8080/",
          "height": 478
        }
      },
      "cell_type": "code",
      "source": [
        "gpt2.generate(sess,\n",
        "              run_name=run_name,\n",
        "              nsamples=num_samples,\n",
        "              batch_size=num_batches,\n",
        "              prefix='Half-Life 3 is the long-awaited sequel in the Half-Life franchise developped by Valve')"
      ],
      "execution_count": 12,
      "outputs": [
        {
          "output_type": "stream",
          "text": [
            "H-Life 3 is the long-awaited sequel in the Half-Life franchise developped by Valve Studios.<br><br>This is a first-person experience, fully playable with a first-person perspective. You will experience a new game environment every time you play.\n",
            "Not a game, a game. It's about the series of games, with the goal of making sure the players are satisfied. <br />\n",
            "<br />\n",
            "The game is set in a city, surrounded by a mysterious war and the war has already begun. You are the pilot of a spaceship that is sent to the war area of a foreign planet. You are sent, along with dozens of other people, to investigate a mysterious crisis. However, you are not the only one who is at the war zone. And you are not alone.<br />\n",
            "<br />\n",
            "You will be involved in the investigation to learn more about the war and its aftermath. You will be able to go to different places and places, where you will have to interact with people, give them advice and interact with different personalities.<br />\n",
            "<br />\n",
            "The game features a whole range of content and characters from the previous games. You will be involved in many different missions, where you will be able to interact with some characters, some of the characters will be extremely complicated and impossible to predict, while some of the characters will be pretty simple and will be complicated for everyone who plays the game.\n",
            "<img src=\"https://steamcdn-a.akamaihd.net/steam/apps/907690/extras/steam_page_1_4.png?t=1555525228\" ><br><br><img src=\"https://steamcdn-a.akamaihd.net/steam/apps/907690/extras/steam_page_1_5.png?t=1555525228\" ><br><br>The main game features:<br><br><strong>Singleplayer</strong><br>Dinosaurs are being invaded by zombies and monsters.  The game features a large number of unique monsters, which are randomly spawned in the game world.  <br><br><img src=\"https://steamcdn-a.akamaihd.net/steam/apps/907690/extras/steam_page_2_4.png?t=1555525228\" ><br><br><img src=\"https://steamcdn-a.akamaihd.net/steam/apps/907690/extras/steam_page_2_5.png?t=1555525228\" ><br><br><img src=\"https://steamcdn-a.akamaihd.net/steam/apps/907690/extras/steam_page_2_6.png?t=1555525228\" ><br><br>The game features a wide range of different weapons and abilities, with different weapons in every situation.  You can also change the environment and change the environment's effects.  The game is also able to play other games, which are not in the game world, but that is not the case.  <br><br><img src=\"https://steamcdn-a.akamaihd.net/steam/apps/907690/extras/steam_page_3_4.png?t=1555525228\" ><br><br>There are a variety of different game modes, such as Deathmatch,  Local vs. Online, and Ranked games.  <br><br><img src=\"https://steamcdn-a.akamaihd.net/steam/apps/907690/extras/steam_page_3_5.png?t=1555525228\" ><br><br><img src=\"https://steamcdn-a.akamaihd.net/steam/apps/907690/extras/steam_page_3_6.png?t=1555525228\" ><br><br>Only the most skilled players can complete the game.<br><br><img src=\"https://steamcdn-a.akamaihd.net/steam/apps/907690/extras/steam_page_3_7.png?t=1555525228\" ><br><br>With a strong economy and a good selection of weapons, you will be able to get more money by completing games.<br><br><img src=\"https://steamcdn-a.akamaihd.net/steam/apps/907690/extras/steam_page_3_8.png?t=1555525228\" ><br><br>You will be able to choose the game mode, which is to play random games.  <br><br><img src=\"https://steamcdn-a.akamaihd.net/steam/steam/apps/907/extras/ext\n",
            "====================\n",
            "\n",
            "H-Life 3 is the long-awaited sequel in the Half-Life franchise developped by Valve.<br />\n",
            "<br />\n",
            "<br />\n",
            "This new Half-Life game is an all-new effort by Valve to bring the Half-Life franchise to an international audience.\n",
            "<img src=\"https://steamcdn-a.akamaihd.net/steam/apps/666060/extras/steam_pac_steam_01.jpg?t=1514834264\" ><br><br><strong>Space Shooter</strong> is a fast-paced space shooter where players destroy their enemies using explosive missiles. Enemies are sent flying around, attacking and destroying each other with their entire arsenal. <br><br>Assault weapons, laser weapons, shield weapons, rocket bombs, and other weapons to destroy enemies in a large radius in the game.<br><br>The player controls a space ship that is sent out to destroy enemies, but there are still a lot of enemies in the game. <br><br>The player must destroy all enemies, each one having multiple ways to reach them. <br><br>The player can fire a lot of lasers, but the enemies will be stronger. <br><br>When a player tries to destroy a monster, he will be limited by size, but if he hits a monster, he will be able to leave the area, but not get hit by it. <br><br>The weapon of choice is a laser, in this game it is more effective than before. <br><br><img src=\"https://steamcdn-a.akamaihd.net/steam/apps/666060/extras/steam_pac_steam_02.jpg?t=1514834264\" ><br><br><strong>Multiplayer</strong> allows players to play against others, or just a couple of friends.<br><br>The game features a single player mode with a variety of game modes and modes like: <br><br><img src=\"https://steamcdn-a.akamaihd.net/steam/apps/666060/extras/steam_pac_steam_02.jpg?t=1514834264\" ><br><br><strong>Two Player Online</strong> allows a player to play against a friend against a friend, or just a couple of friends. <br><br>In this mode, the player is a lone wolf, you can kill your enemies by using a rocket or laser, and use a shield, but not weapons. <br><br>The ability to use a laser is not in the game in this mode. <br><br>The ability of weapons is still not implemented in the game, but it is still implemented in the game.<br><br><strong>Multiplayer is still not implemented</strong> in the game. <br><br>The game features multiple player or solo player modes, and the player can reload weapons using a rocket or laser. <br><br><img src=\"https://steamcdn-a.akamaihd.net/steam/apps/666060/extras/steam_pac_steam_03.jpg?t=1514834264\" ><br><br><strong>Steam Achievements</strong> are now downloadable, and can be played in the game. You can also get your Steam achievements and all other achievements as a bonus when buying this game.\n",
            "<img src=\"https://steamcdn-a.akamaihd.net/steam/apps/666060/extras/steam_pac_01.png?t=1514988827\" ><br><br>The Devs of <strong>Cooperative Space</strong> are back in an exciting new race! <br><br>You are one of the teams behind the <strong>Cooperative Space</strong> and will have to overcome all sorts of obstacles in order to win the <strong>Cooperative Space</strong> competition!<br><br>Be prepared for a big challenge and you can win the <strong>Cooperative Space</strong> competition with <strong>Cooperative Space</strong>. <br><br><img src=\"https://steamcdn-a.akamaihd.net/steam/apps/666060/extras/steam_pac_02.png?t=1514988827\" ><h2 class=\"bb_tag\">Features</h2><ul class=\"bb_ul\"><li>A new &quot;&quot;Up to 11 gamers?<br></li><li>An up-to-date &quot;&quot;Space&quot; engine<br></li><li>Use the &quot;&quot;&quot;&quot;&quot;&quot;&quot; and &quot;&quot;&quot;app&qu\n",
            "====================\n",
            "\n",
            "H-Life 3 is the long-awaited sequel in the Half-Life franchise developped by Valve. It’s the sequel to Half-Life 2, and the sequel to Half-Life: Winter of 2014. More information can be found in the Half-Life: Winter of 2014 Steam page.\n",
            "<img src=\"https://steamcdn-a.akamaihd.net/steam/apps/479990/extras/PMS_Steam_600_B.png?t=1518490865\" ><br><br><br><img src=\"https://steamcdn-a.akamaihd.net/steam/apps/479990/extras/PMS_Steam_600.png?t=1518490865\" ><br><br>PMS is a multiplayer game for two players, where you play as a doctor. The Doctor and the player's companion face off in a violent battle in the Red Room. <br><br>The game features a well-known genre of games, but the original game is a complete remake of the original game, including all the gameplay changes, remakes, and complete remakes. It’s a game that will put your mind at ease and let you know just how much you appreciate games like The Doctor, Dr. Seuss, or Dr. Doom.<br><br><strong>Key Features</strong><br><br><ul class=\"bb_ul\"><li>Dynamically recreated - the game currently features over 20,000 play-throughs!<br></li><li>Full controller support - play with your keyboard or controllers or any other gamepad!<br></li><li>Achievements - each represented by an icon, or by a special category of each game character, and are available to all!<br></li><li>Multiplayer mode - play with one person, or with a friend!<br></li><li>Five achievements - each represented by an icon, or by a special category of each game character, and are available to all!<br></li><li>Steam Trading Cards - a new feature that will let you trade your progress for a new game!<br></li><li>Steam Achievements - a new feature that will let you compare scores with other players!<br></li><li>Steam Cloud - a new feature that will let you store your play-throughs on the Steam Cloud!<br></li><li>Steam Leaderboards - a new feature that will let you know how many games you have played!<br></li><li>Steam Trading Cards - a new feature that will let you compare scores with other players!<br></li><li>Steam Cloud Features - a new feature that will let you store your play-throughs on the Steam Cloud!<br></li><li>Steam Cloud Features - a new feature that will let you compare scores with other players!<br></li><li>Steam Cloud Features - a new feature that will let you compare scores with other players!<br></li><li>Steam Achievements - a new feature that will let you compare scores with other players!<br></li><li>Steam Cloud Features - a new feature that will let you store your play-throughs on the Steam Cloud!<br></li><li>Steam Cloud Features - a new feature that will let you compare scores with other players!<br></li><li>Steam Cloud Features - a new feature that will let you compare scores with other players!<br></li><li>Steam Cloud Features - a new feature that will let you compare scores with other players!<br></li><li>Steam Cloud Features - a new feature that will let you compare scores with other players!</li></ul><br><img src=\"https://steamcdn-a.akamaihd.net/steam/apps/479990/extras/PMS_Steam_600_C.png?t=1518490865\" >\n",
            "<img src=\"https://steamcdn-a.akamaihd.net/steam/apps/479830/extras/Sears_steam_png_2.png?t=15545545\" ><br><br><strong>Sears</strong> is a living, breathing, non-profit, digital music publishing company. Driven by a passion for music and music-making, we are proud to be the first music publishing company to make digital music. In addition to our digital publishing business, we also offer our services to musicians, independent labels and music advocates, and sponsors their playlists, download charts and other digital sales information for music and music-making. <br><br><img src=\"https://steamcdn-a.akamaihd.net/steam/apps/479830/extras/Sears_steam_png_3.png?t=353.png?t=353&amp;en\n",
            "====================\n",
            "\n"
          ],
          "name": "stdout"
        }
      ]
    },
    {
      "metadata": {
        "id": "UjHTB5Mg9rno",
        "colab_type": "code",
        "outputId": "b151f583-6023-4558-934d-7ed10e77ccb1",
        "colab": {
          "base_uri": "https://localhost:8080/",
          "height": 386
        }
      },
      "cell_type": "code",
      "source": [
        "gpt2.generate(sess,\n",
        "              run_name=run_name,\n",
        "              nsamples=num_samples,\n",
        "              batch_size=num_batches,\n",
        "              prefix='Spelunky 2 is the sequel of the most acclaimed rogue-like platformer of all-time')"
      ],
      "execution_count": 13,
      "outputs": [
        {
          "output_type": "stream",
          "text": [
            "Selunky 2 is the sequel of the most acclaimed rogue-like platformer of all-time, designed by David Beckworth and produced and co-written by David Beckworth.\n",
            "<img src=\"https://steamcdn-a.akamaihd.net/steam/apps/855660/extras/steam_banner.png?t=1539102902\" ><br><br><strong>The old school arcade shooter!</strong><br><br><img src=\"https://steamcdn-a.akamaihd.net/steam/apps/855660/extras/steam_banner_date_updates.png?t=1539102902\" ><br><br>Wonderful retro styled visuals, and some very special effects, will keep you on your toes, and you'll have to be a bit lazy to explore the levels as they are being destroyed by deadly monsters. <br><br><img src=\"https://steamcdn-a.akamaihd.net/steam/apps/855660/extras/steam_banner_gameplay.png?t=1539102902\" ><br><br>The original roguelike game, with a unique take on the classic arcade genre. The game is in its infancy, but its stable gameplay that makes it a perfect companion to all games of this genre.<br><br><img src=\"https://steamcdn-a.akamaihd.net/steam/apps/855660/extras/steam_banner_gameplay_description.png?t=1539102902\" ><br><br><strong>The original roguelike game with a unique take on the classic arcade genre.</strong><br><br><img src=\"https://steamcdn-a.akamaihd.net/steam/apps/855660/extras/steam_banner_gameplay_description_updates.png?t=1539102902\" ><br><br>The game is in its infancy and the game features a very unique take on the classic arcade genre: <br><br><ul class=\"bb_ul\"><li>The game is in its infancy and features a very unique take on the classic arcade genre, <br></li><li>Skeletons, the game features a very unique take on the classic arcade genres, <br></li><li>Quests, the game features a very unique take on the classic arcade genres, <br></li><li>Achievements, the game features a very unique take on the classic arcade genres, <br></li><li>Several achievements, including the <a href=\"http://steamcommunity.com/sharedfiles/filedetails/?id=858767153\" target=\"_blank\" rel=\"noreferrer\"  >&quot;Outstanding achievement</a>!</li></ul><br><img src=\"https://steamcdn-a.akamaihd.net/steam/apps/855660/extras/steam_banner_gameplay_description_updates_updates.png?t=1539102902\" ><br><br>Your character’s health and your weapon are all controlled by the game, but your character must also be equipped to use the items.<br><br><img src=\"https://steamcdn-a.akamaihd.net/steam/apps/855660/extras/steam_banner_gameplay_description_updates_updates.png?t=1539102902\" ><br><br><strong>Unique take on classic arcade style roguelikes.</strong><br><br><ul class=\"bb_ul\"><li>Over 30 unique items to equip, including items for your character, items for monsters and items for items for items.<br></li><li>Over 80 unique items with unique effects that will transform into different types of monsters, items, weapons, and items for items, and different items for equipment.<br></li><li>Over 20 unique items with unique effects that will transform into different classes of monsters, items, items and items for items, and different items for equipment.<br></li><li>Over 15 different items that deliver different effects to your character, including items, items, monsters and items for items.<br></li><li>Over 15 different bosses that will surprise you with unique effects that will transform your character into different classes of monsters.<br></li><li>Over 15 unique items that were previously unknown items that will transform your character into different classes of monsters.<br></li><li>Over 15 unique items that are used in the game, including items, monsters and items for items, and items for items, and items for items, and items for items, and items for items, and items for items for items, and items for items for items for items for items\n",
            "====================\n",
            "\n",
            "Selunky 2 is the sequel of the most acclaimed rogue-like platformer of all-time, and the biggest sequel to the legendary game Ever. <br />\n",
            "<br />\n",
            "Fly my way to collect all the orbs and leave the crypt to grab your keys. You are never ever going to leave.\n",
            "<img src=\"https://steamcdn-a.akamaihd.net/steam/apps/99999/extras/logo_01.jpg?t=1546122766\" ><br>Bean Wars is an atmospheric first-person aerial shooter with realistic physics. You will be playing crabs on the moon during the voyage of the spaceship Nimblebrofoot, with your friends on the other side of the planet. The game will be challenging, with different levels of difficulty for you to play.<br><br>You need to have some knowledge of the game to succeed in the game, otherwise you will be killed, and all the information about the game is lost.<br><br><img src=\"https://steamcdn-a.akamaihd.net/steam/apps/99999/extras/logo_02.jpg?t=1546122766\" ><br>The game is more difficult than the first game, and it will be difficult for you to reach the final level of the ship.<br><br><img src=\"https://steamcdn-a.akamaihd.net/steam/apps/99999/extras/logo_03.jpg?t=1546122766\" ><br>Nimblebrofoot is a space-themed game. The game will be challenging, with different levels of difficulty for you to play.<br><br><img src=\"https://steamcdn-a.akamaihd.net/steam/apps/99999/extras/logo_04.jpg?t=1546122766\" ><br>The game will be challenging, with different levels of difficulty for you to play.<br><br><img src=\"https://steamcdn-a.akamaihd.net/steam/apps/99999/extras/logo_05.jpg?t=1546122766\" ><br>The game will be challenging, with different levels of difficulty for you to play.<br><br><img src=\"https://steamcdn-a.akamaihd.net/steam/apps/99999/extras/logo_06.jpg?t=1546122766\" ><br>You will be playing crabs on the moon during the voyage of the spaceship Nimblebrofoot, with your friends on the other side of the planet. The game will be challenging, with different levels of difficulty for you to play.<br><br><img src=\"https://steamcdn-a.akamaihd.net/steam/apps/99999/extras/logo_07.jpg?t=1546122766\" ><br>The game will be challenging, with different levels of difficulty for you to play.<br>The game will be challenging, with different levels of difficulty for you to play.<br><br><img src=\"https://steamcdn-a.akamaihd.net/steam/apps/99999/extras/logo_08.jpg?t=1546122766\" ><br>The game will be challenging, with different levels of difficulty for you to play.<br>The game will be challenging, with different levels of difficulty for you to play.<br><br><img src=\"https://steamcdn-a.akamaihd.net/steam/apps/99999/extras/logo_09.jpg?t=1546122766\" ><br>The game will be challenging, with different levels of difficulty for you to play.<br><br><img src=\"https://steamcdn-a.akamaihd.net/steam/apps/99999/extras/logo_10.jpg?t=1546122766\" ><br>The game will be challenging, with different levels of difficulty for you to play.<br><br><img src=\"https://steamcdn-a.akamaihd.net/steam/apps/99999/extras/logo_11.jpg?t=1546122766\" ><br>The game will be challenging, with different levels of difficulty for you to play.<br><br><img src=\"https://steamcdn-a.akamaihd.net/steam/apps/99999/extras/logo_12.jpg?t=1546122766\" ><br>There are more levels for you to play, with different endings.<br><br><img src=\"https://steamcdn-a.akamaihd.net/steam/steam/apps/99999/extras/extras/\n",
            "====================\n",
            "\n",
            "Selunky 2 is the sequel of the most acclaimed rogue-like platformer of all-time, has a story-driven campaign and a photo-realistic world, with a top-down view of the game's main plot. In addition to the main story, it features a 5-minute mini-game, with 60 levels spanning 6 different locations, and an eight-minute mini-game, with fifteen levels in total, with a full campaign to be added as additional episodes.\n",
            "The story of the game begins with a little girl named Missy. Her parents have been arrested for her rising to fame and fortune, and she is now a teenager named Missy. The police are all looking for her, and they are looking for an ordinary girl named Missy, but they soon realize that there is something wrong with the girl, and they must solve the mystery of the prison!<br />\n",
            "<br />\n",
            "Uncover minor events such as the kidnapping of a prisoner, and the death of Missy in the process.<br />\n",
            "<br />\n",
            "The game features a VHS version of the game, along with a full time soundtrack, and a short, non-linear plot.\n",
            "<img src=\"https://steamcdn-a.akamaihd.net/steam/apps/867140/extras/steam_store.png?t=1555377927\" ><br><br><br>About this game<br>&quot;&quot;Girlfriend Rescue.&quot;</strong><br><br><br><img src=\"https://steamcdn-a.akamaihd.net/steam/apps/867140/extras/steam_store_tag.png?t=1555377927\" ><br><br><br>This game is an action/strategy game, <strong>that will challenge you to become the best partner after your rescue.</strong><br><br><br><img src=\"https://steamcdn-a.akamaihd.net/steam/apps/867140/extras/steam_store_tag2.png?t=1555377927\" ><br><br>The game takes place in a fantasy world, where every action and strategy has a kind of an influence on how the world is constructed. This is not only a fantasy world, but also a society in which the <strong>associations</strong> of people and things of a certain nature are the main attraction. This is called the <strong>world of the critically accurate&quot;&quot;&quot;<br><br><br><img src=\"https://steamcdn-a.akamaihd.net/steam/apps/867140/extras/steam_store_tag3.png?t=1555377927\" ><br><br>The game is the first one in a series of games that <strong>will shock you</strong>. You are the protagonist of <strong>Girlfriend Rescue&quot;, a single-player adventure game in which the protagonist is the girl's childhood friend. <strong>The story will make you feel like you are a part of a mystery about how the world works.</strong><br><br><br><img src=\"https://steamcdn-a.akamaihd.net/steam/apps/867140/extras/steam_store_tag4.png?t=1555377927\" ><br><br>The game is a top-down view, where you can take control of the characters. At the beginning of each level, there are a total of 12 <strong>items</strong> that you can equip in the game, each of which is unique in its appearance and function.<br><br>In addition, one more item is available at a time, and this item can be equipped by picking up the <strong>prismatic</strong>. For each item, the items will appear on the map, showing the player's location, and do not change the game world. However, if the item is not equipped by the player, the game will never restart.<br><br>You can also choose to travel to other areas, such as islands.<br><br><br><img src=\"https://steamcdn-a.akamaihd.net/steam/apps/867140/extras/steam_store_tag5.png?t=1555377927\" ><br><br>The game is a <strong>story-driven game</strong>. You will have the opportunity to get involved in many different things, and out of the game, you will even learn a lot about the world of <strong>Girlfriend Rescue&quot;.<br><br>The game features a 3D, high-resolution, and a 3D, low-resolution, editor-quality, <strong>animated, real-life.\n",
            "====================\n",
            "\n"
          ],
          "name": "stdout"
        }
      ]
    }
  ]
}