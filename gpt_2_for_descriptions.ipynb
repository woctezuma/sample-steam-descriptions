{
  "nbformat": 4,
  "nbformat_minor": 0,
  "metadata": {
    "colab": {
      "name": "gpt_2_for_descriptions.ipynb",
      "version": "0.3.2",
      "provenance": [],
      "collapsed_sections": []
    },
    "kernelspec": {
      "name": "python3",
      "display_name": "Python 3"
    },
    "accelerator": "GPU"
  },
  "cells": [
    {
      "cell_type": "markdown",
      "metadata": {
        "id": "5u6MjGQAuzWN",
        "colab_type": "text"
      },
      "source": [
        "# Sample Steam Store Descriptions with GPT-2\n",
        "Code inspired from https://github.com/woctezuma/sample-steam-descriptions"
      ]
    },
    {
      "cell_type": "markdown",
      "metadata": {
        "id": "2KjP9yVVveN1",
        "colab_type": "text"
      },
      "source": [
        "## Setting the GPT-2 model"
      ]
    },
    {
      "cell_type": "markdown",
      "metadata": {
        "colab_type": "text",
        "id": "A1zEYHxh304_"
      },
      "source": [
        "Install the Python package\n",
        "\n",
        "Reference: https://github.com/minimaxir/gpt-2-simple"
      ]
    },
    {
      "cell_type": "code",
      "metadata": {
        "id": "_1ruwgwCuEHd",
        "colab_type": "code",
        "colab": {
          "base_uri": "https://localhost:8080/",
          "height": 201
        },
        "outputId": "b6f7d426-a2bd-43c2-bf43-109a063ff80e"
      },
      "source": [
        "!pip install gpt_2_simple"
      ],
      "execution_count": 1,
      "outputs": [
        {
          "output_type": "stream",
          "text": [
            "Requirement already satisfied: gpt_2_simple in /usr/local/lib/python3.6/dist-packages (0.4.2)\n",
            "Requirement already satisfied: toposort in /usr/local/lib/python3.6/dist-packages (from gpt_2_simple) (1.5)\n",
            "Requirement already satisfied: regex in /usr/local/lib/python3.6/dist-packages (from gpt_2_simple) (2018.1.10)\n",
            "Requirement already satisfied: tqdm in /usr/local/lib/python3.6/dist-packages (from gpt_2_simple) (4.28.1)\n",
            "Requirement already satisfied: requests in /usr/local/lib/python3.6/dist-packages (from gpt_2_simple) (2.21.0)\n",
            "Requirement already satisfied: numpy in /usr/local/lib/python3.6/dist-packages (from gpt_2_simple) (1.16.3)\n",
            "Requirement already satisfied: idna<2.9,>=2.5 in /usr/local/lib/python3.6/dist-packages (from requests->gpt_2_simple) (2.8)\n",
            "Requirement already satisfied: chardet<3.1.0,>=3.0.2 in /usr/local/lib/python3.6/dist-packages (from requests->gpt_2_simple) (3.0.4)\n",
            "Requirement already satisfied: urllib3<1.25,>=1.21.1 in /usr/local/lib/python3.6/dist-packages (from requests->gpt_2_simple) (1.24.2)\n",
            "Requirement already satisfied: certifi>=2017.4.17 in /usr/local/lib/python3.6/dist-packages (from requests->gpt_2_simple) (2019.3.9)\n"
          ],
          "name": "stdout"
        }
      ]
    },
    {
      "cell_type": "markdown",
      "metadata": {
        "id": "nTkq7wEQwEkZ",
        "colab_type": "text"
      },
      "source": [
        "Download the pre-trained model"
      ]
    },
    {
      "cell_type": "code",
      "metadata": {
        "id": "_pdkhHU6wd12",
        "colab_type": "code",
        "colab": {}
      },
      "source": [
        "import gpt_2_simple as gpt2\n",
        "from datetime import datetime\n",
        "from google.colab import files"
      ],
      "execution_count": 0,
      "outputs": []
    },
    {
      "cell_type": "markdown",
      "metadata": {
        "id": "0ggC2Mc75BnB",
        "colab_type": "text"
      },
      "source": [
        "## Downloading GPT-2"
      ]
    },
    {
      "cell_type": "markdown",
      "metadata": {
        "id": "6r3939YUqT9K",
        "colab_type": "text"
      },
      "source": [
        "Choose between `117M` and `345M` models"
      ]
    },
    {
      "cell_type": "code",
      "metadata": {
        "id": "NW4vZzlyqOnc",
        "colab_type": "code",
        "colab": {}
      },
      "source": [
        "# model_name = '117M'\n",
        "model_name = '345M'"
      ],
      "execution_count": 0,
      "outputs": []
    },
    {
      "cell_type": "markdown",
      "metadata": {
        "id": "4_hrBy2DqR5M",
        "colab_type": "text"
      },
      "source": [
        "Download"
      ]
    },
    {
      "cell_type": "code",
      "metadata": {
        "id": "_-If30nT4ZCb",
        "colab_type": "code",
        "colab": {
          "base_uri": "https://localhost:8080/",
          "height": 146
        },
        "outputId": "c674bc51-43d4-4561-8c34-087457add10e"
      },
      "source": [
        "gpt2.download_gpt2(model_name=model_name)"
      ],
      "execution_count": 4,
      "outputs": [
        {
          "output_type": "stream",
          "text": [
            "Fetching checkpoint: 1.00kit [00:00, 694kit/s]                                                      \n",
            "Fetching encoder.json: 1.04Mit [00:00, 35.4Mit/s]                                                   \n",
            "Fetching hparams.json: 1.00kit [00:00, 810kit/s]                                                    \n",
            "Fetching model.ckpt.data-00000-of-00001: 1.42Git [00:26, 52.6Mit/s]                                 \n",
            "Fetching model.ckpt.index: 11.0kit [00:00, 3.15Mit/s]                                               \n",
            "Fetching model.ckpt.meta: 927kit [00:00, 46.5Mit/s]                                                 \n",
            "Fetching vocab.bpe: 457kit [00:00, 37.7Mit/s]                                                       \n"
          ],
          "name": "stderr"
        }
      ]
    },
    {
      "cell_type": "markdown",
      "metadata": {
        "id": "e9sI2rah5OyB",
        "colab_type": "text"
      },
      "source": [
        "## Uploading a Text File to be Trained to Colaboratory"
      ]
    },
    {
      "cell_type": "markdown",
      "metadata": {
        "colab_type": "text",
        "id": "d3NlwR97DRGt"
      },
      "source": [
        "#### Either get the data by yourself"
      ]
    },
    {
      "cell_type": "markdown",
      "metadata": {
        "id": "u6h_g-wpDSSh",
        "colab_type": "text"
      },
      "source": [
        "Currently not possible because you:\n",
        "-   either need app details (slow to download),\n",
        "-   or aggregate.json (stored with Git LFS, not installed on Google Colab.)"
      ]
    },
    {
      "cell_type": "markdown",
      "metadata": {
        "id": "7LPbkB998g-B",
        "colab_type": "text"
      },
      "source": [
        "#### Or get a data snapshot from me"
      ]
    },
    {
      "cell_type": "code",
      "metadata": {
        "id": "FIR9fBid5U2w",
        "colab_type": "code",
        "colab": {
          "base_uri": "https://localhost:8080/",
          "height": 72
        },
        "outputId": "a0e73d7e-f15e-41d6-9a99-25b783644384"
      },
      "source": [
        "!curl -O https://raw.githubusercontent.com/woctezuma/sample-steam-descriptions/master/data/with_delimiters/concatenated_store_descriptions.txt"
      ],
      "execution_count": 5,
      "outputs": [
        {
          "output_type": "stream",
          "text": [
            "  % Total    % Received % Xferd  Average Speed   Time    Time     Time  Current\n",
            "                                 Dload  Upload   Total   Spent    Left  Speed\n",
            "100 44.2M  100 44.2M    0     0  41.6M      0  0:00:01  0:00:01 --:--:-- 41.6M\n"
          ],
          "name": "stdout"
        }
      ]
    },
    {
      "cell_type": "markdown",
      "metadata": {
        "id": "AjmpOgoa5y7Q",
        "colab_type": "text"
      },
      "source": [
        "## Finetune GPT-2"
      ]
    },
    {
      "cell_type": "code",
      "metadata": {
        "id": "7WDz30tL5-yf",
        "colab_type": "code",
        "colab": {}
      },
      "source": [
        "file_name = 'concatenated_store_descriptions.txt'\n",
        "\n",
        "run_name = model_name + '_descriptions'"
      ],
      "execution_count": 0,
      "outputs": []
    },
    {
      "cell_type": "code",
      "metadata": {
        "id": "Bfg4HYZl56JJ",
        "colab_type": "code",
        "colab": {
          "base_uri": "https://localhost:8080/",
          "height": 3435
        },
        "outputId": "888e4c06-7bb8-4295-d7fc-36b048b2191e"
      },
      "source": [
        "sess = gpt2.start_tf_sess()\n",
        "\n",
        "gpt2.finetune(sess,\n",
        "              run_name=run_name,\n",
        "              dataset=file_name,\n",
        "              model_name=model_name,\n",
        "              steps=1000,\n",
        "              restore_from='fresh',   # change to 'latest' to resume training\n",
        "              print_every=10,   # how many steps between printing progress\n",
        "              sample_every=200,   # how many steps to print a demo sample\n",
        "              save_every=500   # how many steps between saving checkpoint              \n",
        "              )"
      ],
      "execution_count": 7,
      "outputs": [
        {
          "output_type": "stream",
          "text": [
            "WARNING:tensorflow:From /usr/local/lib/python3.6/dist-packages/tensorflow/python/framework/op_def_library.py:263: colocate_with (from tensorflow.python.framework.ops) is deprecated and will be removed in a future version.\n",
            "Instructions for updating:\n",
            "Colocations handled automatically by placer.\n",
            "WARNING:tensorflow:From /usr/local/lib/python3.6/dist-packages/gpt_2_simple/src/sample.py:51: to_float (from tensorflow.python.ops.math_ops) is deprecated and will be removed in a future version.\n",
            "Instructions for updating:\n",
            "Use tf.cast instead.\n",
            "WARNING:tensorflow:From /usr/local/lib/python3.6/dist-packages/gpt_2_simple/src/sample.py:53: multinomial (from tensorflow.python.ops.random_ops) is deprecated and will be removed in a future version.\n",
            "Instructions for updating:\n",
            "Use tf.random.categorical instead.\n",
            "WARNING:tensorflow:From /usr/local/lib/python3.6/dist-packages/tensorflow/python/ops/math_ops.py:3066: to_int32 (from tensorflow.python.ops.math_ops) is deprecated and will be removed in a future version.\n",
            "Instructions for updating:\n",
            "Use tf.cast instead.\n",
            "WARNING:tensorflow:From /usr/local/lib/python3.6/dist-packages/tensorflow/python/ops/math_grad.py:102: div (from tensorflow.python.ops.math_ops) is deprecated and will be removed in a future version.\n",
            "Instructions for updating:\n",
            "Deprecated in favor of operator or tf.math.divide.\n",
            "Loading checkpoint models/345M/model.ckpt\n",
            "WARNING:tensorflow:From /usr/local/lib/python3.6/dist-packages/tensorflow/python/training/saver.py:1266: checkpoint_exists (from tensorflow.python.training.checkpoint_management) is deprecated and will be removed in a future version.\n",
            "Instructions for updating:\n",
            "Use standard file APIs to check for files with this prefix.\n",
            "INFO:tensorflow:Restoring parameters from models/345M/model.ckpt\n"
          ],
          "name": "stdout"
        },
        {
          "output_type": "stream",
          "text": [
            "\r  0%|          | 0/1 [00:00<?, ?it/s]"
          ],
          "name": "stderr"
        },
        {
          "output_type": "stream",
          "text": [
            "Loading dataset...\n"
          ],
          "name": "stdout"
        },
        {
          "output_type": "stream",
          "text": [
            "\r100%|██████████| 1/1 [01:08<00:00, 68.42s/it]\n"
          ],
          "name": "stderr"
        },
        {
          "output_type": "stream",
          "text": [
            "dataset has 12183978 tokens\n",
            "Training...\n",
            "[10 | 23.06] loss=2.83 avg=2.83\n",
            "[20 | 38.24] loss=3.91 avg=3.38\n",
            "[30 | 53.60] loss=1.65 avg=2.79\n",
            "[40 | 69.06] loss=2.60 avg=2.75\n",
            "[50 | 84.66] loss=2.70 avg=2.74\n",
            "[60 | 100.42] loss=3.04 avg=2.79\n",
            "[70 | 116.31] loss=2.18 avg=2.70\n",
            "[80 | 132.31] loss=2.52 avg=2.67\n",
            "[90 | 148.45] loss=2.51 avg=2.65\n",
            "[100 | 164.59] loss=2.47 avg=2.64\n",
            "[110 | 180.77] loss=2.37 avg=2.61\n",
            "[120 | 197.03] loss=2.40 avg=2.59\n",
            "[130 | 213.37] loss=2.61 avg=2.59\n",
            "[140 | 229.78] loss=2.69 avg=2.60\n",
            "[150 | 246.23] loss=2.89 avg=2.62\n",
            "[160 | 262.73] loss=2.63 avg=2.62\n",
            "[170 | 279.29] loss=1.81 avg=2.57\n",
            "[180 | 295.91] loss=2.45 avg=2.56\n",
            "[190 | 312.58] loss=2.20 avg=2.54\n",
            "[200 | 329.29] loss=2.78 avg=2.55\n",
            "======== SAMPLE 1 ========\n",
            "60% 0x0050\\u0049\\u60f3\\u5871\\u8f8a\\u6a74\\u88f1\\u9566\\u65b0\\u88f1\\u9566\\u65b0\\u88f1\\u96f5\\u96f5\\u9dbe\\u9dbe\\u9dbe\\u9dbe\\u9dbe\\u92ef\\u92ef\\u92ef\\u92ef\\u92ef\\u92ef\\u92ef\\u92ef\\u92ef\\u92ef\\u92ef\\u92ef\\u92ef\\u92ef\\u92ef\\u92ef\\u92ef\\u92ef\\u92ef\\u92ef \\\\\\1\\u30d2\\u30d9<br><br><strong>Kriven<br><br>A former Marine with a bright future, the most talented student of this campus is ready to join the elite unit of the country. <br><br>But this is a special unit, <strong>Kriven Squad</strong>! Its training methods do not allow for mistakes.<br><br>A high class unit, Kriven Squad is an amazing unit from the homeland of the future Kriven Brothers.<br><br>In addition to the training method, it's also specialized for <strong>special events like the battles of the <strong>Kriven Brothers</strong>.<br><br>This special training is specially designed for the young person of the future Kriven Brothers.<br><br>It's the first of those special operations.<br><br>There are different stages that you can experience Kriven Squad. <strong>the first stage is an easy training on a basic level, the second one is difficult training on an advanced level, and the final one training on a super level of training of the Krievos Brothers.<br><br>The purpose of each stage of Kriven Squad training is:<strong>training of the <strong>Kriven Brothers</strong><br><br>To develop the talent of the young soldier.<br><br>Kriven Squad is specially designed to develop and improve the young soldier.<br><br>Each stage of training, the Kriven Brothers are always ready to help in the preparation.<br><br>The Kriven Brothers will assist you in the train a <strong>Kriven Brothers</strong>.<br><br>After finishing a stage, the Kriven Brothers can also assist you in their preparation.<br><br><strong>Kriven Squad</strong><br><br>During the training, the Kriven Brothers will perform various operations to assist you .<br><br>You can also use this Kriven Squad to play the <strong>Krievos Brothers</strong> during the training.<br><br>It can be your last phase to finish your training and make the last step to obtain the Kriven Squad.<br><br>You can also obtain the <strong>Kriven Brothers</strong> by playing the <strong>Krievos Brothers</strong> during the training. <br><br>You can use this Kriven Squad to play the <strong>Krievos Brothers</strong> during the Training.<br><br>The Kriven Brothers will assist you in the prepare a <strong>Kriven Brother</strong> during the Training.<br><br><strong><i>Kriven Squad</i></strong> is special training with a purpose that is different every time, so that the Kriven Brothers' <strong>Krievos Brothers</strong> will be ready to assist you in <strong>Kriven Squad</strong> training.<br><br><strong><i>Kriven Brothers</i></strong>‘You’ can also obtain <strong>Kriven Brothers</strong> during training (and play them during the training).<br>Kriven Squad<strong>Kriven Brothers</strong>)<br>the Kriven Brothers (Play them during training)<br>Kriven Squad (play them during training)<br>training the Krievos Brothers, Krievos (play them during training)>Kriven squad The Kriven brothers’krono<br>The Krievos brothers, Kronos<br>training a <strong>Kriven Brother</strong> during training<br>training Kronos, Kronos<br>Kriven Brothers’krono<br>Training the Krievos brothers, Kronos<br>The Krievos brothers, Kronos<\n",
            "\n",
            "[210 | 370.88] loss=2.35 avg=2.54\n",
            "[220 | 387.60] loss=2.22 avg=2.53\n",
            "[230 | 404.34] loss=2.55 avg=2.53\n",
            "[240 | 421.12] loss=2.87 avg=2.54\n",
            "[250 | 437.91] loss=2.65 avg=2.55\n",
            "[260 | 454.74] loss=3.35 avg=2.58\n",
            "[270 | 471.60] loss=2.19 avg=2.57\n",
            "[280 | 488.48] loss=2.26 avg=2.56\n",
            "[290 | 505.37] loss=2.32 avg=2.55\n",
            "[300 | 522.19] loss=2.69 avg=2.55\n",
            "[310 | 538.97] loss=2.41 avg=2.55\n",
            "[320 | 555.70] loss=2.64 avg=2.55\n",
            "[330 | 572.43] loss=2.57 avg=2.55\n",
            "[340 | 589.15] loss=2.94 avg=2.56\n",
            "[350 | 605.85] loss=2.11 avg=2.55\n",
            "[360 | 622.54] loss=2.62 avg=2.55\n",
            "[370 | 639.26] loss=3.01 avg=2.57\n",
            "[380 | 655.97] loss=2.78 avg=2.57\n",
            "[390 | 672.67] loss=2.38 avg=2.57\n",
            "[400 | 689.39] loss=1.75 avg=2.54\n",
            "======== SAMPLE 1 ========\n",
            " award or more, and the player can win prizes and more! And, of course, there's new content added for the PC! <br />\n",
            "<br />\n",
            "[<br />\n",
            "Features</h3>]<ul class=\"bb_ul\"><li>Unique &quot;2D RPG<br></li><li>More than 15 story and story mode characters<br></li><li>Multiple difficulties depending on the player<i>And, even more, for the PC!<br></li><li>Over 30 levels of different story and level progression<br></li><li>Various types (rare monsters, rare objects, etc),<br></li><li>Unlock new character portraits<br></li></ul><br><br>This is a game about the creation and creation of an old man, so I think this is definitely worthy of being the first game (or a series) that I've played in this style.<br />\n",
            "<br />\n",
            "[<br />\n",
            "In the past ten years, since I was little, I had lived with my dad and then my mom and my sister. Now, my house was destroyed; my dad is dead, and I have nothing to live for. I have lost my house and my old car, but I got an old guy in a wheelchair, and that little guy is able to play games as if he were a child, and that is all.<br />\n",
            "<br />\n",
            "[<br />\n",
            "I have just started a new one, but for now, I have made and play many games, but I feel that this game deserves to be a part of the game history.     I think this game deserves to live in the hall of fame, because I have played many, many others, and this game will be different and different.    It won't only be a game of adventure games, but it will be a game about friendship... or about the creation... or an exploration game, or an adventure game, or a story game, or an inescapable game - it is a unique game, that I have made by myself.  The game takes the best of game design, the worst of game design, the best of game design, and gives you a game that is totally unique.  I plan to continue my games later. I will try to write about games like this one, but I hope you will come to see this as a game that is really of the highest quality.   <br />\n",
            "<br />\n",
            "[<br />\n",
            "It is my hope to make this game to last, to show to the world the greatness of a small town where, if you are really bad, no one will want to help you.<br />\n",
            "[*]  If you like the game, you can download the game and find some other friends, and to make the game as fun as possible for everyone, to help out, and help out in the following ways::<br />\n",
            "- Create a game, and make friends with others who will want to come along to a party, and help make the game better!<br />\n",
            "- Donate any amount, and help us make the game even bigger!<br />\n",
            "[*]  The game is still in development, it looks amazing, but we are not in the position to spend a lot of time on it right now, so please check back later, we really need to get it up to the point that we want it to be.<br />\n",
            "<br />\n",
            "[<br />\n",
            "For many, this has been our love.   For, most, it's been a long struggle.  So many, it has been our journey!<|endoftext|>\n",
            "<|startoftext|>A small town has been completely destroyed by a mysterious force, and now it appears that the only people to blame are those that don't believe in death and don't take things seriously. Now you decide to join the fight against the enemy and become an agent of the resistance.<br />\n",
            "<br />\n",
            "- The game is set in a world where you have to use your powers as a team to stop the enemy from taking over and taking your town over. <br />\n",
            "<br />\n",
            "- You are given a team of four heroes, you have two types of abilities, you use your powers as you see fit, but the third has to use it in the most efficient way, the heroes have to become an agent of the resistance once they've achieved these abilities. <br />\n",
            "<br />\n",
            "- The game features a fun storyline, lots of action, interesting characters, and a great atmosphere but this isn't solely focused on story. The game is meant for a casual, casual gamers, but that's all about to change. <br />\n",
            "<br />\n",
            "- You are going to fight the invasion, and the enemy is not just a\n",
            "\n",
            "[410 | 727.87] loss=2.32 avg=2.54\n",
            "[420 | 744.61] loss=2.64 avg=2.54\n",
            "[430 | 761.34] loss=2.15 avg=2.53\n",
            "[440 | 778.10] loss=2.54 avg=2.53\n",
            "[450 | 794.83] loss=2.35 avg=2.52\n",
            "[460 | 811.59] loss=3.29 avg=2.54\n",
            "[470 | 828.35] loss=2.33 avg=2.54\n",
            "[480 | 845.11] loss=2.65 avg=2.54\n",
            "[490 | 861.84] loss=2.58 avg=2.54\n",
            "[500 | 878.60] loss=2.34 avg=2.54\n",
            "Saving checkpoint/345M_descriptions/model-500\n",
            "[510 | 906.97] loss=2.37 avg=2.53\n",
            "[520 | 923.57] loss=1.71 avg=2.51\n",
            "[530 | 940.28] loss=2.50 avg=2.51\n",
            "[540 | 956.96] loss=2.57 avg=2.51\n",
            "[550 | 973.71] loss=2.48 avg=2.51\n",
            "[560 | 990.45] loss=2.60 avg=2.52\n",
            "[570 | 1007.26] loss=2.37 avg=2.51\n",
            "[580 | 1024.10] loss=2.10 avg=2.50\n",
            "[590 | 1040.94] loss=1.58 avg=2.48\n",
            "[600 | 1057.78] loss=2.69 avg=2.49\n",
            "======== SAMPLE 1 ========\n",
            " the fire and the flames came back up!                                                                                                                                                                                                                                                                                                                                                                                                                                                                                                                                                                                                                                                                                                                                                                                                                                                                                                                                                                                                                                                       \n",
            "\n",
            "[610 | 1096.54] loss=2.60 avg=2.49\n",
            "[620 | 1113.23] loss=2.83 avg=2.50\n",
            "[630 | 1130.04] loss=2.52 avg=2.50\n",
            "[640 | 1146.94] loss=2.62 avg=2.50\n",
            "[650 | 1163.77] loss=1.89 avg=2.49\n",
            "[660 | 1180.59] loss=2.67 avg=2.49\n",
            "[670 | 1197.34] loss=2.50 avg=2.49\n",
            "[680 | 1214.04] loss=2.49 avg=2.49\n",
            "[690 | 1230.74] loss=2.42 avg=2.49\n",
            "[700 | 1247.48] loss=2.55 avg=2.49\n",
            "[710 | 1264.22] loss=2.36 avg=2.49\n",
            "[720 | 1280.98] loss=3.02 avg=2.50\n",
            "[730 | 1297.76] loss=0.87 avg=2.47\n",
            "[740 | 1314.54] loss=2.06 avg=2.46\n",
            "[750 | 1331.32] loss=2.36 avg=2.46\n",
            "[760 | 1348.12] loss=2.60 avg=2.46\n",
            "[770 | 1364.92] loss=2.32 avg=2.46\n",
            "[780 | 1381.71] loss=2.74 avg=2.46\n",
            "[790 | 1398.50] loss=2.22 avg=2.46\n",
            "[800 | 1415.29] loss=2.77 avg=2.46\n",
            "======== SAMPLE 1 ========\n",
            ", which have previously been abandoned the past three decades and were being used for covert experiments. You have been tasked with rescuing the aliens from space-based quarantine. <br></li><li>A world where people are the product of their fantasies, where people do everything they can to get away without ever actually trying.<br></li><li>A game where nothing is the same every time.<br></li><li>A game where anyone can become an alien.<br></li><li>A game where the main characters are the product of their own imagination.<br></li><li>A game where everything is up for discussion. I have no problem being up for any of it either, except maybe my own brain.<br></li><li>A game that's actually good.\"</li></ul><|endoftext|>\n",
            "<|startoftext|><h2 class=\"bb_tag\">GAME PULESTER!</h2><br>Puzzle Smash, a classic platformer is coming to the Steam Edition with all its original artwork, a free upgrade, brand new levels, and a few extra extras to add more to your collection!<br>There's always a puzzle pop-up in the background, and you may accidentally hit it. You can also skip one level, and you have a chance in 3-4 of getting extra points for hitting that level! We are always watching for this hidden bonus and trying to give it our best shot every game week.<br>Our goals are to: <br>- Add gameplay as the core mechanic or as a way-station between levels, <br>- Remedy the classics of old to provide a fresh game experience, <br>- Improve level design and functionality, <br>- Make sure that we're on the right track with every level, <br>, <br><strong>GAME!</strong> !<|endoftext|>\n",
            "<|startoftext|><img src=\"https://steamcdn-a.akamaihd.net/steam/apps/351030/extras/Cabinet_Banner.png?t=1517232564\" ><br><br>From the creators of The Last Express, comes another epic of freedom. The Last Express is a story of a world that will take you on an incredible journey to freedom.<br><br><a href=\"https://store.steampowered.com/app/274560\" target=\"_blank\" rel=\"noreferrer\"  id=\"dynamiclink_1764\" >https://store.steampowered.com/app/274560</a><br><br>The fate of mankind hangs in the balance, and when peace is reached, humanity’s next great step. The Last Express™ is the story of the fate of mankind… and a small town?<br><br><strong><u>Key Features:</u></strong><br><ul class=\"bb_ul\"><li>Explore the most beautiful cities in the world<br></li><li>Fight back against evil and discover an alternate past<br></li><li>Take part in the legendary Last Express saga that spans over 50 years<br></li><li>Master the ropes of an airship and travel across the globe<br></li><li>Discover more than 25 different locations in the game, each more surreal than the last<br></li><li>Explore the unique scenery in VR or enjoy the atmosphere of an in-engine soundtrack in real-time<br></li><li>Enjoy music, sound effects and a live orchestra in the game</li></ul><|endoftext|>\n",
            "<|startoftext|>After waking up after a night like none that you’ve previously experienced, you find yourself alone in a small, rustling home. You have only one clue: a dead dog on the doorstep! After this devastating discovery, you will not return. No one will believe you, let alone love you!<br />\n",
            "<br />\n",
            "<br />\n",
            "<br />\n",
            "<br />\n",
            "<br />\n",
            "• Over 100 hand-drawn, hand-painted levels<br />\n",
            "• All of the voices for characters from the main character, the main villain and the world in general were written directly, without any tricks or prelude<br />\n",
            "• Dozens of randomly generated puzzles, with unique game mechanics/options<br />\n",
            "• All the special features (like voice acting or hidden text) were generated independently by hand - only by people who love the game<br />\n",
            "• Three distinct endings, with different ending paths<br />\n",
            "• A beautiful, colorful world, rich with historical significance and mystery<br />\n",
            "• Fully randomized levels (so you never get bored playing the same level twice)<|endoftext|>\n",
            "<|startoftext|>You are Ar\n",
            "\n",
            "[810 | 1453.80] loss=2.50 avg=2.46\n",
            "[820 | 1470.49] loss=2.83 avg=2.47\n",
            "[830 | 1487.22] loss=2.73 avg=2.48\n",
            "[840 | 1503.99] loss=3.05 avg=2.49\n",
            "[850 | 1520.79] loss=2.54 avg=2.49\n",
            "[860 | 1537.65] loss=2.25 avg=2.48\n",
            "[870 | 1554.49] loss=2.63 avg=2.49\n",
            "[880 | 1571.32] loss=1.87 avg=2.47\n",
            "[890 | 1588.13] loss=2.48 avg=2.47\n",
            "[900 | 1604.90] loss=2.75 avg=2.48\n",
            "[910 | 1621.67] loss=2.25 avg=2.48\n",
            "[920 | 1638.42] loss=2.07 avg=2.47\n",
            "[930 | 1655.15] loss=2.57 avg=2.47\n",
            "[940 | 1671.87] loss=2.38 avg=2.47\n",
            "[950 | 1688.58] loss=1.15 avg=2.45\n",
            "[960 | 1705.29] loss=2.35 avg=2.45\n",
            "[970 | 1722.01] loss=2.53 avg=2.45\n",
            "[980 | 1738.68] loss=2.94 avg=2.46\n",
            "[990 | 1755.38] loss=2.47 avg=2.46\n",
            "[1000 | 1772.08] loss=2.05 avg=2.45\n",
            "Saving checkpoint/345M_descriptions/model-1000\n",
            "WARNING:tensorflow:From /usr/local/lib/python3.6/dist-packages/tensorflow/python/training/saver.py:966: remove_checkpoint (from tensorflow.python.training.checkpoint_management) is deprecated and will be removed in a future version.\n",
            "Instructions for updating:\n",
            "Use standard file APIs to delete files with this prefix.\n"
          ],
          "name": "stdout"
        }
      ]
    },
    {
      "cell_type": "markdown",
      "metadata": {
        "id": "DlHGcNdYucbT",
        "colab_type": "text"
      },
      "source": [
        "## Save a Trained Model Checkpoint"
      ]
    },
    {
      "cell_type": "code",
      "metadata": {
        "id": "u1gvytO-5ick",
        "colab_type": "code",
        "colab": {}
      },
      "source": [
        "checkpoint_folder = 'checkpoint/' + run_name"
      ],
      "execution_count": 0,
      "outputs": []
    },
    {
      "cell_type": "code",
      "metadata": {
        "id": "csfQ7zoi5gWu",
        "colab_type": "code",
        "colab": {}
      },
      "source": [
        "# gpt2.mount_gdrive()"
      ],
      "execution_count": 0,
      "outputs": []
    },
    {
      "cell_type": "code",
      "metadata": {
        "id": "JQhpz42DuO6v",
        "colab_type": "code",
        "colab": {}
      },
      "source": [
        "# gpt2.copy_checkpoint_to_gdrive(checkpoint_folder=checkpoint_folder)"
      ],
      "execution_count": 0,
      "outputs": []
    },
    {
      "cell_type": "markdown",
      "metadata": {
        "id": "BEwkRvCn6XZW",
        "colab_type": "text"
      },
      "source": [
        "## Load a Trained Model Checkpoint"
      ]
    },
    {
      "cell_type": "code",
      "metadata": {
        "id": "dELSgpoC6Z-O",
        "colab_type": "code",
        "colab": {}
      },
      "source": [
        "# gpt2.copy_checkpoint_from_gdrive(checkpoint_folder=checkpoint_folder)"
      ],
      "execution_count": 0,
      "outputs": []
    },
    {
      "cell_type": "code",
      "metadata": {
        "id": "dqDaWVAo6cn9",
        "colab_type": "code",
        "colab": {}
      },
      "source": [
        "# sess = gpt2.start_tf_sess()\n",
        "\n",
        "# gpt2.load_gpt2(sess,\n",
        "#                run_name=run_name)"
      ],
      "execution_count": 0,
      "outputs": []
    },
    {
      "cell_type": "markdown",
      "metadata": {
        "id": "vX8KFoKR6g-o",
        "colab_type": "text"
      },
      "source": [
        "## Generate Text From The Trained Model"
      ]
    },
    {
      "cell_type": "code",
      "metadata": {
        "id": "hzAzQvF8v8KH",
        "colab_type": "code",
        "colab": {}
      },
      "source": [
        "temperature=0.7 # Default is 0.7, but you may want to increase the temperature, especially if your dataset is small, to avoid copying text.\n",
        "\n",
        "num_samples = 3\n",
        "num_batches = 3 # Unique to GPT-2, you can pass a batch_size to generate multiple samples in parallel, giving a massive speedup."
      ],
      "execution_count": 0,
      "outputs": []
    },
    {
      "cell_type": "code",
      "metadata": {
        "id": "KYC30GEi6kPv",
        "colab_type": "code",
        "colab": {
          "base_uri": "https://localhost:8080/",
          "height": 257
        },
        "outputId": "07592b7b-21f5-4a25-b504-021d43b0dfea"
      },
      "source": [
        "gpt2.generate(sess,\n",
        "              run_name=run_name,\n",
        "              nsamples=num_samples,             \n",
        "              batch_size=num_batches,\n",
        "              temperature=temperature)              "
      ],
      "execution_count": 14,
      "outputs": [
        {
          "output_type": "stream",
          "text": [
            "<|startoftext|>In the Sky 4, the most visually stunning RPG ever made, and the most affecting game of the year.  <br>        And now, the most ambitious game of the year.                                                                                                                                                                                                                                                                                                                                                                                                                                                                                                                                                                                                                                                                                                                                                                                                                                                                                                                                                                                                            \n",
            "====================\n",
            "\n",
            "The Game of the Year - and win the World Championship!</h2><h2 class=\"bb_tag\">Controls</h2><br>I can only describe the controls well, but you can do the same! If you want to play the game, you must use the mouse, arrow keys, arrow keys, or WASD to control the character. The control key has a special function in the game. Use the arrow keys to move a character around the battlefield. (A special key for the arrow keys is also needed to kill the enemy.)<br>The mouse and arrow keys are bound to the left and right keys, and the controls are mapped to the left-right by default. Use the keyboard to control the character and left-right by default. (The key binding key is the same as the arrow keys.)<br><br><ul class=\"bb_ul\"><li>Controls - Left/Right - Movement<br></li><li>Controls - Arrow Keys - Move<br></li><li>Controls - Arrow Keys - Target <br></li><li>Controls - Arrow Keys - Target <br></li><li>Controls - Arrow Keys - Target<br></li><li>Controls - Arrow Keys - Target<br></li><li>Controls - Arrow Keys - Target<br></li><li>Controls - Arrow Keys - Target<br></li><li>Controls - Arrow Keys - Target<br></li><li>Controls - Arrow Keys - Target<br></li><li>Controls - Arrow Keys - Target<br></li><li>Controls - Arrow Keys - Target<br></li><li>Controls - Arrow Keys - Target<br></li><li>Controls - Arrow Keys - Target<br></li><li>Controls - Arrow Keys - Target<br></li><li>Controls - Arrow Keys - Target<br></li><li>Controls - Arrow Keys - Target<br></li><li>Controls - Arrow Keys - Target<br></li><li>Controls - Arrow Keys - Target<br></li><li>Controls - Arrow Keys - Target<br></li><li>Controls - Arrow Keys - Target<br></li><li>Controls - Arrow Keys - Target<br></li><li>Controls - Arrow Keys - Target<br></li><li>Controls - Arrow Keys - Target<br></li><li>Controls - Arrow Keys - Target<br></li><li>Controls - Arrow Keys - Target<br></li><li>Controls - Arrow Keys - Target<br></li><li>Controls - Arrow Keys - Target<br></li><li>Controls - Arrow Keys - Target<br></li><li>Controls - Arrow Keys - Target<br></li><li>Controls - Arrow Keys - Target<br></li><li>Controls - Arrow Keys - Target<br></li><li>Controls - Arrow Keys - Target<br></li><li>Controls - Arrow Keys - Target<br></li><li>Controls - Arrow Keys - Target<br></li><li>Controls - Arrow Keys - Target<br></li><li>Controls - Arrow Keys - Target<br></li><li>Controls - Arrow Keys - Target<br></li><li>Controls - Arrow Keys - Target<br></li><li>Controls - Arrow Keys - Target<br></li><li>Controls - Arrow Keys - Target<br></li><li>Controls - Arrow Keys - Target<br></li><li>Controls - Arrow Keys - Target<br></li><li>Controls - Arrow Keys - Target<br></li><li>Controls - Arrow Keys - Target<br></li><li>Controls - Arrow Keys - Target<br></li><li>Controls - Arrow Keys - Target<br></li><li>Controls - Arrow Keys - Target<br></li><li>Controls - Arrow Keys - Target<br></li><li>Controls - Arrow Keys - Target<br></li><li>Controls - Arrow Keys - Target<br></li><li>Controls - Arrow Keys - Target<br></li><li>Controls - Arrow Keys - Target<br></li><li>Controls - Arrow Keys - Target<br></li><li>Controls - Arrow Keys - Target<br></li><li>Controls - Arrow Keys - Target<br></li><li>Controls - Arrow Keys - Target<br></li><li>Controls - Arrow Keys - Target<br></li><li>Controls - Arrow Keys - Target<br></li><li>Controls - Arrow Keys - Target<br></li\n",
            "====================\n",
            "\n",
            "I wanted to make a game about children with birth defects, but I haven't found anything about them. I knew I wanted to make a game about children who have severe sickness or lack of energy, but I never thought of the form of the game, it's a bit too complicated. I decided to make it as a children's game, and I hope the game will make a change for the better. If nothing else, I hope it will help people with their own difficult experiences.<br><br>Please, try to give a positive experience for your children, and I hope you will enjoy it.<|endoftext|>\n",
            "<|startoftext|><h2 class=\"bb_tag\">Features:</h2><ul class=\"bb_ul\"><li>The amount of playable characters is limited, so the number of attractions could be increased to up to 10 or more.<br></li><li>The number of obstacles varies based on the difficulty of the game.<br></li><li>A free-roaming environment with many different types of obstacles.<br></li><li>A total of 8 different types of obstacles.<br></li><li>Features such as:<br></li><li>A total of 64 different types of obstacles.<br></li><li>The number of difficulty settings for the difficulty of the game could be increased to up to 16.</li></ul><|endoftext|>\n",
            "<|startoftext|><h2 class=\"bb_tag\"><strong>SEKO 2: The Game of Tyr</strong></h2>SEKO 2 is a real-time strategy game set in the aftermath of the world-ending supernova that destroyed much of the Milky Way galaxy thousands of years before. You command a fleet of warships and command your own army to spread chaos and destruction across the galaxy. Take control of a group of ex-military ex-cyborgs who escaped from their prison ship in the hopes that you will free them. Get ready for battle once again in epic space battles.<h2 class=\"bb_tag\"><strong>FEATURES</strong></h2><ul class=\"bb_ul\"><li>Build your fleet of warships, which can carry up to eight thousand combat ships.<br></li><li>Command and lead your own forces, which can be called in to aid and oppose you.<br></li><li>Use the command and control interface to control your fleet from a single point.<br></li><li>Have you ever wanted to fight alongside the commander of an interstellar interstellar fleet? Now you can!<br></li><li>Conquer vast interstellar space with your own fleet of ships and command your own army.<br></li><li>Equip yourself with new technology to make your fleet stronger – including the ability to create superspace ships, which devour the enemy in their wake.<br></li><li>Take command of a group of ex-military ex-cyborgs who escaped from prison ship to escape from harsh conditions in the hope that you will free them.<br></li><li>Take control of a super-sensate enemy that is as fierce as it is deadly.<br></li><li>Fight against the Galactic Federation for control of the galaxy.<br></li><li>Fight against the Galactic Empire for control of the galaxy.<br></li><li>Fight against an unknown adversary.<br></li><li>Explore the galaxy for resources and resources to build your empire.<br></li><li>Invite the galaxy to your side in diplomacy.<br></li><li>Find a new ally in the battle for control of the galaxy.</li></ul><|endoftext|>\n",
            "<|startoftext|><h2 class=\"bb_tag\">The Story:</h2><br><img src=\"https://steamcdn-a.akamaihd.net/steam/apps/439590/extras/steam_header_tango_2_0.png?t=152865296\" ><br><br>For generations, the people of Bishambara have been on the edge of war. They fight for and against each other, and the peace of the world hangs in the balance.<br><br>It is the year of the Edo-Meiji Restoration. The Edo Shogunate is in the grip of a revolution that threatens to take it over. The Edo Warring States Alliance is led by the Shinto emperor, Shintoism, and is led by the Shinto priest, Kukai. The Shinto spirit is on the rise.<br><br>The Edo Rebellion is one of the most complex conflicts of the Edo period.<br><br>It is a conflict between two super-powered factions, the Shinto and Shintoism, where they have a shared goal to make war on each other. The Shinto and Shintoism\n",
            "====================\n",
            "\n"
          ],
          "name": "stdout"
        }
      ]
    },
    {
      "cell_type": "code",
      "metadata": {
        "id": "jrZBWas662k_",
        "colab_type": "code",
        "colab": {
          "base_uri": "https://localhost:8080/",
          "height": 202
        },
        "outputId": "81abad3c-1f43-4e50-a92d-25c7c50128a8"
      },
      "source": [
        "gpt2.generate(sess,\n",
        "              run_name=run_name,\n",
        "              nsamples=num_samples,\n",
        "              batch_size=num_batches,\n",
        "              temperature=temperature,              \n",
        "              prefix='<|startoftext|>Half-Life 3 is the long-awaited sequel in the Half-Life franchise developped by Valve',\n",
        "              truncate='<|endoftext|>')"
      ],
      "execution_count": 15,
      "outputs": [
        {
          "output_type": "stream",
          "text": [
            "<|startoftext|>Half-Life 3 is the long-awaited sequel in the Half-Life franchise developped by Valve. Two years into the future, humanity has nearly conquered the planet and is seeking peace in the wake of the collapse of the human civilization. Humanity is divided in two warring factions and two interstellar conflicts are playing out. In the wake of these events, the Half-Life 3 is the first in a series of Half-Life games. The main focus of the game is a new hub in the Half-Life universe, Half-Life 3. The Half-Life 3 universe is loosely based on the Half-Life universe of Valve and Half-Life 2, and contains Half-Life, the Half-Life 2: Episode One, Half-Life 2 (glossary), Half-Life 3, Half-Life 3+ and Half-Life 2+. The Half-Life 3 game takes place in the near future after the events of Half-Life 2. The crew of the Enterprise is stranded on the moon after being assaulted by unknown assailants. The crew is forced to escape from the moon and, after several attempts, the crew is rescued by the UNSC near Mars. The crew of the Enterprise is in in the hands of the enigmatic leader of a secret cult on Mars. The cult leader has been hiding the crew's location for a long time, and has been planning to execute them all. The crew of the Enterprise is on their way to Mars. The crew of the Enterprise is in the hands of the enigmatic leader of a secret cult on Mars. The cult leader has been hiding the crew's location for a long time, and has been planning to execute them all. The crew of the Enterprise is in the hands of the enigmatic leader of a secret cult on Mars. The cult leader has been hiding the crew's location for a long time, and has been planning to execute them all. The crew of the Enterprise is in the hands of the enigmatic leader of a secret cult on Mars. The cult leader has been hiding the crew's location for a long time, and has been planning to execute them all. <br><br><br>Features:<br><br><ul class=\"bb_ul\"><li>The Half-Life universe is loosely based on the Half-Life universe of Valve and Half-Life 2, and contains Half-Life, the Half-Life 2: Episode One, Half-Life 2 (glossary), Half-Life 3, Half-Life 3+ and Half-Life 2+. The Half-Life 3 game takes place in the near future after the events of Half-Life 2. The crew of the Enterprise is stranded on the moon after being assaulted by unknown assailants. The crew is forced to escape from the moon and, after several attempts, the crew is rescued by the UNSC near Mars. The crew of the Enterprise is in the hands of the enigmatic leader of a secret cult on Mars. The cult leader has been hiding the crew's location for a long time, and has been planning to execute them all. The crew of the Enterprise is in the hands of the enigmatic leader of a secret cult on Mars. The cult leader has been hiding the crew's location for a long time, and has been planning to execute them all. <br></li><li>The Half-Life universe is loosely based on the Half-Life universe of Valve and Half-Life 2, and contains Half-Life, the Half-Life 2: Episode One, Half-Life 2 (glossary), Half-Life 3, Half-Life 3+ and Half-Life 2+. The Half-Life 3 game takes place in the near future after the events of Half-Life 2. The crew of the Enterprise is stranded on the moon after being assaulted by unknown assailants. The crew is forced to escape from the moon and, after several attempts, the crew is rescued by the UNSC near Mars. The crew of the Enterprise is in the hands of the enigmatic leader of a secret cult on Mars. The cult leader has been hiding the crew's location for a long time, and has been planning to execute them all. The crew of the Enterprise is in the hands of the enigmatic leader of a secret cult on Mars. The cult leader has been hiding the crew's location for a long time, and has been planning to execute them all. The crew of the Enterprise is in the hands of the enigmatic leader of a secret cult on Mars. The cult leader has been hiding the crew's location for a long time, and has been planning to execute them all. <br></li><li>The Half-Life universe is loosely based on the Half-Life universe of Valve and Half-Life 2, and contains Half-Life, the Half-Life 2: Episode One, Half-Life 2 (glossary), Half-Life 3, Half-Life 3+ and Half-Life 2+. The Half-Life 3 game takes place in the near future after the events of Half-Life 2. The crew of the Enterprise is stranded on the moon after being assaulted by unknown assailants. The crew members are\n",
            "====================\n",
            "\n",
            "<|startoftext|>Half-Life 3 is the long-awaited sequel in the Half-Life franchise developped by Valve and published by Valve.  Half-Life 3 takes the gameplay of Half-Life 2 and expands it for the modern era, with new ways to play, more content, more features and improvements.  The game is best played with a friend, and some people may be annoyed to hear the game is only available with one player.  If you are, you can play with up to four players on one or two-player local-coop.  Half-Life 3 is still a work in progress, and we’re working on the game's story and the events that took place in Half-Life 2.  We’ve also added new weapons, items, and new vehicles to the game, and we’ve also changed the way players interact with each other, including calling friends, clicking on a friend’s map, and joining the server.<h2 class=\"bb_tag\"><strong>Important information and key features</strong></h2><br><ul class=\"bb_ul\"><li>The original Half-Life engine is now available on Steam, including the Half-Life 2 mod and Half-Life 3's art, music, and soundtracks.<br></li><li>The Half-Life 2 mod was released on Steam as part of the Half-Life 2: Episode One mod.  Half-Life 2: Episode Two, released on Steam, will be available on Steam as part of the Half-Life 2: Episode Three mod.<br></li><li>The Half-Life 2: Episode Three mod was released on Steam as part of the Half-Life 2: Episode Two soundtrack.<br></li><li>The Half-Life 2 community still has support for the Half-Life 2 mod, as well as the Half-Life 2: Episode Two mod, which was released on Steam as part of the Half-Life 2: Episode Three mod.                                                                                                                                                                                                                                                                                                                                                                                                                                                                                                                                                                                                                                                          \n",
            "====================\n",
            "\n",
            "<|startoftext|>Half-Life 3 is the long-awaited sequel in the Half-Life franchise developped by Valve and published by Valve. Half-Life 3 will add a new story to the Half-Life universe set in a post-human world. Its development started in April 2013 and will be completed in late 2015.<h2 class=\"bb_tag\">Story</h2><br>After the events of Half-Life 2, Gordon Freeman is forced back to Earth as the sentient artificial organism Nihilus, who is responsible for the events of the previous Half-Life. Freeman has to fight to lead the human race back to the stars. The human race was a successful project on Earth, however, and has evolved to become a viable interstellar colony. But the planet is not equipped to support a colony. It is now surrounded by hostile galactic environments. To survive, Freeman must team up with a small group of friends to form a team of explorers and colonists to explore the world. The team of explorers is made up of Gabe Newell and the members of the crew of the Deep Space 9 (DS9) spaceship. The expedition will be led by Gabe Newell as lead engineer, Sam and Marty Freeman as crew members, and Chris and Louise Coleman as scientists.<h2 class=\"bb_tag\">Features</h2><br>- Gordon Freeman’s main objective is to find a way to survive and build a colony.<br>- The crew of the DS9 spaceship has been equipped to survive the hostile environment. You must not only survive the hostile environment, but you must also find a way to survive.<br>- To survive you need to rely on the crew, each of them are equipped to survive the hostile environment.<br>- The crew of the Deep Space 9 (DS9) spaceship contains a small group of humans, but they are not equipped to survive in the hostile environment.<br>- You must find a way to survive in the hostile environment.<br>- To survive, the crew of the Deep Space 9 (DS9) spaceship have to continue to find a way to survive and build a colony.<br>- You must help the crew of the Deep Space 9 (DS9) spaceship. You need to find a way to survive, otherwise it is no longer a colony.\n",
            "====================\n",
            "\n"
          ],
          "name": "stdout"
        }
      ]
    },
    {
      "cell_type": "code",
      "metadata": {
        "id": "UjHTB5Mg9rno",
        "colab_type": "code",
        "colab": {
          "base_uri": "https://localhost:8080/",
          "height": 661
        },
        "outputId": "5fdb18ce-24eb-4591-8663-3afa0e7e47f6"
      },
      "source": [
        "gpt2.generate(sess,\n",
        "              run_name=run_name,\n",
        "              nsamples=num_samples,\n",
        "              batch_size=num_batches,\n",
        "              temperature=temperature,              \n",
        "              prefix='<|startoftext|>Spelunky 2 is the sequel of the most acclaimed rogue-like platformer of all-time',\n",
        "              truncate='<|endoftext|>')              "
      ],
      "execution_count": 16,
      "outputs": [
        {
          "output_type": "stream",
          "text": [
            "<|startoftext|>Spelunky 2 is the sequel of the most acclaimed rogue-like platformer of all-time, Spelunky, and features improvements and refinements to the engine, new levels and high-quality features.<br></li><li>Enhanced graphics, smooth scrolling and physics are all core features of the game.<br></li><li>New level design and game-modes to suit the needs of the widest range of players:</li></ul>\n",
            "====================\n",
            "\n",
            "<|startoftext|>Spelunky 2 is the sequel of the most acclaimed rogue-like platformer of all-time, Spelunky. We've taken the classic design of the original and improved it with new features and ideas. Check out our new Spelunky 2 preview for the latest gameplay and features. If you liked Spelunky 1, then this is a game you will love. It's a game with a whole lot of polish to it and a lot of love for its characters. <br> <br><br><br><img src=\"https://steamcdn-a.akamaihd.net/steam/apps/867420/extras/Spelunky-2D.png?t=1539480623\" ><h2 class=\"bb_tag\">Key Features</h2><br><ul class=\"bb_ul\"><li> <strong>Powers &amp; Abilities</strong> - The original Spelunky offered the classic powers and abilities, but with new abilities, powers and abilities. Spelunky 2 adds a whole new realm of possibilities. Some powers are quite powerful, but some are just plain nonsensical. In addition to the classic powers, new powers and abilities are also available in the game, and some are even more awesome than the original. <br> <br><br></li><li> <strong>Character Oriented Design &amp; Mechanics</strong> - The original Spelunky was designed to be a game about exploration and discovery. The new Spelunky 2 is harder than ever to beat, but more fun to play and explore with the addition of a whole new realm of possibilities. <br> <br><br></li><li> <strong>Weird, Creative and Unique Characters</strong> - The original Spelunky offered a bunch of unique characters, but the new Spelunky 2 introduces a whole new world of possibilities. Each character has a different personality, skill set and story. The original Spelunky had a great cast, but the new Spelunky 2 is filled with characters that seek adventure and danger. <br> <br><br></li><li> <strong>Weird, Creative and Unique Art</strong> - The original Spelunky was designed to be a game about exploration and discovery. The new Spelunky 2 is far more about exploration and creation. What was once a farm building and exploring is now a fortress, a castle, a city, a game level, a maze, a mine shaft, a cave, a mine, a smelter, a mine cart, a horse, a horse cart, a ship, a path, a staircase, a village, a village village village, a cave, a river, a train, a bridge, a large, barren mountain and a large, desolate plain. <br> <br><br></li><li> <strong>Dynamic Story and Characters</strong> - The original Spelunky was incredibly immersive. In addition to the story, the game offers a whole new world of possibilities. Each of the seven Spelunky characters is unique. A new character will be introduced to the game with a whole new story. <br> <br><br></li><li> <strong>Weird, Creative and Unique Environment</strong> - The original Spelunky was designed to be a game about exploration and discovery. The new Spelunky 2 is far more about exploration and creation. Spelunky 2 is a world full of unique environments, puzzles, traps and secrets. <br> <br><br></li><li> <strong>Weird, Creative and Unique Characters</strong> - The original Spelunky was designed to be a game about exploration and discovery. The new Spelunky 2 is far more about exploration and creation. In addition to the new characters, new characters are also available in the game, and some are even more awesome than the original. <br> <br><br></li><li> <strong>Weird, Creative and Unique Art</strong> - The original Spelunky was designed to be a game about exploration and discovery. The new Spelunky 2 is far more about exploration and creation. In addition to the new characters, new characters are also available in the game, and some are even more awesome than the original. <br> <br><br></li><li> <strong>Weird, Creative and Unique Music</strong> - The original Spelunky was designed to be a game about exploration and discovery. The new Spelunky 2 is a world full of unique music and sounds. Spelunky 2 is a world full of unique sounds and music. <br> <br><br></li><li> <strong>Weird, Creative and Unique Environment</strong> - The original Spelunky was designed to be a game about exploration and discovery. The new Spelunky 2 is a world full of unique environments, puzzles, traps and secrets. <br> <br> <br><br></li><li> </li><\n",
            "====================\n",
            "\n",
            "<|startoftext|>Spelunky 2 is the sequel of the most acclaimed rogue-like platformer of all-time. The 2nd episode is released on Steam on the 9th of October, and is the perfect time to start your journey! <br />\n",
            "<br />\n",
            "Spelunky is a roguelike hybrid game where you explore the vast, uncharted world of Spelunky, the most ambitious roguelike ever made. <br />\n",
            "<br />\n",
            "The game features a unique structure, where you explore each level in a unique way. You can play the levels in either the traditional roguelike fashion, or the completely new game mode, where you explore each level in whatever way you want, based on what you want to do in the game. <br />\n",
            "<br />\n",
            "The game features a procedurally generated world, with dynamic events that will always happen, even if you die. This means that you will always have the choice to start the game over, you have no choice but to trust the NPCs as they return from their respective journeys. <br />\n",
            "<br />\n",
            "The game features a four-character story campaign, a loot system, and a new type of character that I am calling the \"Sneak\". <br />\n",
            "<br />\n",
            "The story campaign is filled with new surprises, new environments, and new enemies. In addition, there are new game modes for you to try, and a new way to play the game. <br />\n",
            "<br />\n",
            "The loot system is completely different from the roguelike world, where you collect things to upgrade your character. Instead, you will be able to purchase things that will help you in the way you want. You can even spend your money on new equipment, which you can use to gain extra levels, boost your stats, and perform other useful tasks. <br />\n",
            "<br />\n",
            "In addition, you can also use the loot system to upgrade your character, making them able to become even stronger, or even give them new abilities, or even new powers, depending on what you want to do. For example, you can choose to be able to accept an offer from an NPC, and if you accept, you will gain an item that will allow you to become stronger or even increase your stats. <br />\n",
            "<br />\n",
            "The new game mode is called the \"Sneak\", and is full of new puzzles, traps, and enemies. In this mode, you can either play the level against the AI, or play it on your own. The AI is completely human-like, and the challenge of the new game mode is to figure out a way to win the game without starting over. <br />\n",
            "<br />\n",
            "The complete soundtrack has been added to the game. It is truly beautiful, and I are so happy to have this game be playable on my PC, with my friends and family. <br />\n",
            "<br />\n",
            "This game is a 100% free game, and I just got some awesome feedback from a community member about the design of the game. I want to add the following:<br />\n",
            "<br />\n",
            "-The graphics are made by a third-party artist. I will be giving this artist the credit of making the graphics, and if there is enough support from the community, I would be happy to add more art and textures to the game. <br />\n",
            "-I know there are many players that want more replayability, in which case I will add these features:<br />\n",
            "-An option to disable the first-person camera when playing the game. <br />\n",
            "-An option to disable the first-person camera when playing single player, and the option to play the game in the first person mode.\n",
            "====================\n",
            "\n"
          ],
          "name": "stdout"
        }
      ]
    }
  ]
}