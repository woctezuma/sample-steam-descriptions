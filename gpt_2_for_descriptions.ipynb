{
  "nbformat": 4,
  "nbformat_minor": 0,
  "metadata": {
    "colab": {
      "name": "gpt_2_for_descriptions.ipynb",
      "version": "0.3.2",
      "provenance": [],
      "collapsed_sections": []
    },
    "kernelspec": {
      "name": "python3",
      "display_name": "Python 3"
    },
    "accelerator": "GPU"
  },
  "cells": [
    {
      "metadata": {
        "id": "5u6MjGQAuzWN",
        "colab_type": "text"
      },
      "cell_type": "markdown",
      "source": [
        "# Sample Steam Store Descriptions with GPT-2\n",
        "Code inspired from https://github.com/woctezuma/sample-steam-descriptions"
      ]
    },
    {
      "metadata": {
        "id": "2KjP9yVVveN1",
        "colab_type": "text"
      },
      "cell_type": "markdown",
      "source": [
        "## Setting the GPT-2 model"
      ]
    },
    {
      "metadata": {
        "colab_type": "text",
        "id": "A1zEYHxh304_"
      },
      "cell_type": "markdown",
      "source": [
        "Install the Python package\n",
        "\n",
        "Reference: https://github.com/minimaxir/gpt-2-simple"
      ]
    },
    {
      "metadata": {
        "id": "_1ruwgwCuEHd",
        "colab_type": "code",
        "outputId": "e3b19724-d703-462d-d3b9-759254492aa3",
        "colab": {
          "base_uri": "https://localhost:8080/",
          "height": 311
        }
      },
      "cell_type": "code",
      "source": [
        "!pip install gpt_2_simple"
      ],
      "execution_count": 1,
      "outputs": [
        {
          "output_type": "stream",
          "text": [
            "Collecting gpt_2_simple\n",
            "  Downloading https://files.pythonhosted.org/packages/b6/cf/4003c7d85425af353e15d938bc0d87a0bdedd6b00229e1f7808c2524b518/gpt_2_simple-0.2.tar.gz\n",
            "Requirement already satisfied: regex in /usr/local/lib/python3.6/dist-packages (from gpt_2_simple) (2018.1.10)\n",
            "Requirement already satisfied: requests in /usr/local/lib/python3.6/dist-packages (from gpt_2_simple) (2.18.4)\n",
            "Requirement already satisfied: tqdm in /usr/local/lib/python3.6/dist-packages (from gpt_2_simple) (4.28.1)\n",
            "Requirement already satisfied: numpy in /usr/local/lib/python3.6/dist-packages (from gpt_2_simple) (1.16.2)\n",
            "Requirement already satisfied: urllib3<1.23,>=1.21.1 in /usr/local/lib/python3.6/dist-packages (from requests->gpt_2_simple) (1.22)\n",
            "Requirement already satisfied: idna<2.7,>=2.5 in /usr/local/lib/python3.6/dist-packages (from requests->gpt_2_simple) (2.6)\n",
            "Requirement already satisfied: certifi>=2017.4.17 in /usr/local/lib/python3.6/dist-packages (from requests->gpt_2_simple) (2019.3.9)\n",
            "Requirement already satisfied: chardet<3.1.0,>=3.0.2 in /usr/local/lib/python3.6/dist-packages (from requests->gpt_2_simple) (3.0.4)\n",
            "Building wheels for collected packages: gpt-2-simple\n",
            "  Building wheel for gpt-2-simple (setup.py) ... \u001b[?25ldone\n",
            "\u001b[?25h  Stored in directory: /root/.cache/pip/wheels/51/d0/bd/293c80200f60bcd75a0f4028684e55e959da3a2727858d98a0\n",
            "Successfully built gpt-2-simple\n",
            "Installing collected packages: gpt-2-simple\n",
            "Successfully installed gpt-2-simple-0.2\n"
          ],
          "name": "stdout"
        }
      ]
    },
    {
      "metadata": {
        "id": "nTkq7wEQwEkZ",
        "colab_type": "text"
      },
      "cell_type": "markdown",
      "source": [
        "Download the pre-trained model"
      ]
    },
    {
      "metadata": {
        "id": "_pdkhHU6wd12",
        "colab_type": "code",
        "colab": {}
      },
      "cell_type": "code",
      "source": [
        "import gpt_2_simple as gpt2\n",
        "from datetime import datetime\n",
        "from google.colab import files"
      ],
      "execution_count": 0,
      "outputs": []
    },
    {
      "metadata": {
        "id": "0ggC2Mc75BnB",
        "colab_type": "text"
      },
      "cell_type": "markdown",
      "source": [
        "## Downloading GPT-2"
      ]
    },
    {
      "metadata": {
        "id": "_-If30nT4ZCb",
        "colab_type": "code",
        "outputId": "cee60283-192a-455b-c927-2250465714c2",
        "colab": {
          "base_uri": "https://localhost:8080/",
          "height": 146
        }
      },
      "cell_type": "code",
      "source": [
        "gpt2.download_gpt2()"
      ],
      "execution_count": 3,
      "outputs": [
        {
          "output_type": "stream",
          "text": [
            "Fetching checkpoint: 1.00kit [00:00, 330kit/s]                                                      \n",
            "Fetching encoder.json: 1.04Mit [00:00, 49.3Mit/s]                                                   \n",
            "Fetching hparams.json: 1.00kit [00:00, 323kit/s]                                                    \n",
            "Fetching model.ckpt.data-00000-of-00001: 498Mit [00:09, 54.4Mit/s]                                  \n",
            "Fetching model.ckpt.index: 6.00kit [00:00, 2.95Mit/s]                                               \n",
            "Fetching model.ckpt.meta: 472kit [00:00, 35.9Mit/s]                                                 \n",
            "Fetching vocab.bpe: 457kit [00:00, 37.1Mit/s]                                                       \n"
          ],
          "name": "stderr"
        }
      ]
    },
    {
      "metadata": {
        "id": "AkpviYXh4tHL",
        "colab_type": "text"
      },
      "cell_type": "markdown",
      "source": [
        "## Mounting Google Drive"
      ]
    },
    {
      "metadata": {
        "id": "0D4hzKfk4rIp",
        "colab_type": "code",
        "colab": {}
      },
      "cell_type": "code",
      "source": [
        "gpt2.mount_gdrive()"
      ],
      "execution_count": 0,
      "outputs": []
    },
    {
      "metadata": {
        "id": "e9sI2rah5OyB",
        "colab_type": "text"
      },
      "cell_type": "markdown",
      "source": [
        "## Uploading a Text File to be Trained to Colaboratory"
      ]
    },
    {
      "metadata": {
        "colab_type": "text",
        "id": "d3NlwR97DRGt"
      },
      "cell_type": "markdown",
      "source": [
        "#### Either get the data by yourself"
      ]
    },
    {
      "metadata": {
        "id": "u6h_g-wpDSSh",
        "colab_type": "text"
      },
      "cell_type": "markdown",
      "source": [
        "Currently not possible because you:\n",
        "-   either need app details (slow to download),\n",
        "-   or aggregate.json (stored with Git LFS, not installed on Google Colab.)"
      ]
    },
    {
      "metadata": {
        "id": "7LPbkB998g-B",
        "colab_type": "text"
      },
      "cell_type": "markdown",
      "source": [
        "#### Or get a data snapshot from me"
      ]
    },
    {
      "metadata": {
        "id": "FIR9fBid5U2w",
        "colab_type": "code",
        "outputId": "41b5e779-cbb8-4434-daaf-158b8d3ea85b",
        "colab": {
          "base_uri": "https://localhost:8080/",
          "height": 72
        }
      },
      "cell_type": "code",
      "source": [
        "!curl -O https://raw.githubusercontent.com/woctezuma/sample-steam-descriptions/master/data/concatenated_store_descriptions.txt"
      ],
      "execution_count": 5,
      "outputs": [
        {
          "output_type": "stream",
          "text": [
            "  % Total    % Received % Xferd  Average Speed   Time    Time     Time  Current\n",
            "                                 Dload  Upload   Total   Spent    Left  Speed\n",
            "100 43.1M  100 43.1M    0     0  36.8M      0  0:00:01  0:00:01 --:--:-- 36.8M\n"
          ],
          "name": "stdout"
        }
      ]
    },
    {
      "metadata": {
        "id": "AjmpOgoa5y7Q",
        "colab_type": "text"
      },
      "cell_type": "markdown",
      "source": [
        "## Finetune GPT-2"
      ]
    },
    {
      "metadata": {
        "id": "7WDz30tL5-yf",
        "colab_type": "code",
        "colab": {}
      },
      "cell_type": "code",
      "source": [
        "file_name='concatenated_store_descriptions.txt'"
      ],
      "execution_count": 0,
      "outputs": []
    },
    {
      "metadata": {
        "id": "Bfg4HYZl56JJ",
        "colab_type": "code",
        "outputId": "aaffd206-b71b-44de-a231-7c849365f874",
        "colab": {
          "base_uri": "https://localhost:8080/",
          "height": 423
        }
      },
      "cell_type": "code",
      "source": [
        "sess = gpt2.start_tf_sess()\n",
        "\n",
        "gpt2.finetune(sess,\n",
        "              run_name='descriptions',\n",
        "              dataset=file_name,\n",
        "              steps=1000,\n",
        "              restore_from='fresh',   # change to 'latest' to resume training\n",
        "              print_every=10,   # how many steps between printing progress\n",
        "              sample_every=200,   # how many steps to print a demo sample\n",
        "              save_every=500   # how many steps between saving checkpoint              \n",
        "              )"
      ],
      "execution_count": 0,
      "outputs": [
        {
          "output_type": "stream",
          "text": [
            "WARNING:tensorflow:From /usr/local/lib/python3.6/dist-packages/tensorflow/python/framework/op_def_library.py:263: colocate_with (from tensorflow.python.framework.ops) is deprecated and will be removed in a future version.\n",
            "Instructions for updating:\n",
            "Colocations handled automatically by placer.\n",
            "WARNING:tensorflow:From /usr/local/lib/python3.6/dist-packages/gpt_2_simple/src/sample.py:51: to_float (from tensorflow.python.ops.math_ops) is deprecated and will be removed in a future version.\n",
            "Instructions for updating:\n",
            "Use tf.cast instead.\n",
            "WARNING:tensorflow:From /usr/local/lib/python3.6/dist-packages/gpt_2_simple/src/sample.py:53: multinomial (from tensorflow.python.ops.random_ops) is deprecated and will be removed in a future version.\n",
            "Instructions for updating:\n",
            "Use tf.random.categorical instead.\n",
            "WARNING:tensorflow:From /usr/local/lib/python3.6/dist-packages/tensorflow/python/ops/math_ops.py:3066: to_int32 (from tensorflow.python.ops.math_ops) is deprecated and will be removed in a future version.\n",
            "Instructions for updating:\n",
            "Use tf.cast instead.\n",
            "WARNING:tensorflow:From /usr/local/lib/python3.6/dist-packages/tensorflow/python/ops/math_grad.py:102: div (from tensorflow.python.ops.math_ops) is deprecated and will be removed in a future version.\n",
            "Instructions for updating:\n",
            "Deprecated in favor of operator or tf.math.divide.\n",
            "Loading checkpoint models/117M/model.ckpt\n",
            "WARNING:tensorflow:From /usr/local/lib/python3.6/dist-packages/tensorflow/python/training/saver.py:1266: checkpoint_exists (from tensorflow.python.training.checkpoint_management) is deprecated and will be removed in a future version.\n",
            "Instructions for updating:\n",
            "Use standard file APIs to check for files with this prefix.\n",
            "INFO:tensorflow:Restoring parameters from models/117M/model.ckpt\n"
          ],
          "name": "stdout"
        },
        {
          "output_type": "stream",
          "text": [
            "\r  0%|          | 0/1 [00:00<?, ?it/s]"
          ],
          "name": "stderr"
        },
        {
          "output_type": "stream",
          "text": [
            "Loading dataset...\n"
          ],
          "name": "stdout"
        }
      ]
    },
    {
      "metadata": {
        "id": "NAyu3yNP6Uls",
        "colab_type": "code",
        "colab": {}
      },
      "cell_type": "code",
      "source": [
        "gpt2.copy_checkpoint_to_gdrive()"
      ],
      "execution_count": 0,
      "outputs": []
    },
    {
      "metadata": {
        "id": "BEwkRvCn6XZW",
        "colab_type": "text"
      },
      "cell_type": "markdown",
      "source": [
        "## Load a Trained Model Checkpoint"
      ]
    },
    {
      "metadata": {
        "id": "dELSgpoC6Z-O",
        "colab_type": "code",
        "colab": {}
      },
      "cell_type": "code",
      "source": [
        "gpt2.copy_checkpoint_from_gdrive()"
      ],
      "execution_count": 0,
      "outputs": []
    },
    {
      "metadata": {
        "id": "dqDaWVAo6cn9",
        "colab_type": "code",
        "colab": {}
      },
      "cell_type": "code",
      "source": [
        "sess = gpt2.start_tf_sess()\n",
        "\n",
        "gpt2.load_gpt2(sess,\n",
        "               run_name='descriptions')"
      ],
      "execution_count": 0,
      "outputs": []
    },
    {
      "metadata": {
        "id": "vX8KFoKR6g-o",
        "colab_type": "text"
      },
      "cell_type": "markdown",
      "source": [
        "## Generate Text From The Trained Model"
      ]
    },
    {
      "metadata": {
        "id": "KYC30GEi6kPv",
        "colab_type": "code",
        "colab": {}
      },
      "cell_type": "code",
      "source": [
        "num_samples = 3\n",
        "num_batches = 3 # Unique to GPT-2, you can pass a batch_size to generate multiple samples in parallel, giving a massive speedup.\n",
        "\n",
        "gpt2.generate(sess,\n",
        "              nsamples=num_samples,\n",
        "              batch_size=num_batches)"
      ],
      "execution_count": 0,
      "outputs": []
    },
    {
      "metadata": {
        "id": "jrZBWas662k_",
        "colab_type": "code",
        "colab": {}
      },
      "cell_type": "code",
      "source": [
        "gpt2.generate(sess,\n",
        "              nsamples=num_samples,\n",
        "              batch_size=num_batches,\n",
        "              prefix='Half-Life 3 is the long-awaited sequel in the Half-Life franchise developped by Valve')"
      ],
      "execution_count": 0,
      "outputs": []
    },
    {
      "metadata": {
        "id": "UjHTB5Mg9rno",
        "colab_type": "code",
        "colab": {}
      },
      "cell_type": "code",
      "source": [
        "gpt2.generate(sess,\n",
        "              nsamples=num_samples,\n",
        "              batch_size=num_batches,\n",
        "              prefix='Spelunky 2 is the sequel of the most acclaimed rogue-like platformer of all-time')"
      ],
      "execution_count": 0,
      "outputs": []
    }
  ]
}