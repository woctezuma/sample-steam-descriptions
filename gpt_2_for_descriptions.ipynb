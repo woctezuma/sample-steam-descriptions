{
  "nbformat": 4,
  "nbformat_minor": 0,
  "metadata": {
    "colab": {
      "name": "gpt_2_for_descriptions.ipynb",
      "version": "0.3.2",
      "provenance": [],
      "collapsed_sections": []
    },
    "kernelspec": {
      "name": "python3",
      "display_name": "Python 3"
    },
    "accelerator": "GPU"
  },
  "cells": [
    {
      "cell_type": "markdown",
      "metadata": {
        "id": "5u6MjGQAuzWN",
        "colab_type": "text"
      },
      "source": [
        "# Sample Steam Store Descriptions with GPT-2\n",
        "Code inspired from https://github.com/woctezuma/sample-steam-descriptions"
      ]
    },
    {
      "cell_type": "markdown",
      "metadata": {
        "id": "2KjP9yVVveN1",
        "colab_type": "text"
      },
      "source": [
        "## Setting the GPT-2 model"
      ]
    },
    {
      "cell_type": "markdown",
      "metadata": {
        "colab_type": "text",
        "id": "A1zEYHxh304_"
      },
      "source": [
        "Install the Python package\n",
        "\n",
        "Reference: https://github.com/minimaxir/gpt-2-simple"
      ]
    },
    {
      "cell_type": "code",
      "metadata": {
        "id": "_1ruwgwCuEHd",
        "colab_type": "code",
        "outputId": "a2d7e25c-5a7d-4b43-d9cf-3ecebad2059b",
        "colab": {
          "base_uri": "https://localhost:8080/",
          "height": 201
        }
      },
      "source": [
        "!pip install gpt_2_simple"
      ],
      "execution_count": 0,
      "outputs": [
        {
          "output_type": "stream",
          "text": [
            "Requirement already satisfied: gpt_2_simple in /usr/local/lib/python3.6/dist-packages (0.5)\n",
            "Requirement already satisfied: tqdm in /usr/local/lib/python3.6/dist-packages (from gpt_2_simple) (4.28.1)\n",
            "Requirement already satisfied: toposort in /usr/local/lib/python3.6/dist-packages (from gpt_2_simple) (1.5)\n",
            "Requirement already satisfied: regex in /usr/local/lib/python3.6/dist-packages (from gpt_2_simple) (2018.1.10)\n",
            "Requirement already satisfied: requests in /usr/local/lib/python3.6/dist-packages (from gpt_2_simple) (2.21.0)\n",
            "Requirement already satisfied: numpy in /usr/local/lib/python3.6/dist-packages (from gpt_2_simple) (1.16.3)\n",
            "Requirement already satisfied: idna<2.9,>=2.5 in /usr/local/lib/python3.6/dist-packages (from requests->gpt_2_simple) (2.8)\n",
            "Requirement already satisfied: urllib3<1.25,>=1.21.1 in /usr/local/lib/python3.6/dist-packages (from requests->gpt_2_simple) (1.24.3)\n",
            "Requirement already satisfied: certifi>=2017.4.17 in /usr/local/lib/python3.6/dist-packages (from requests->gpt_2_simple) (2019.3.9)\n",
            "Requirement already satisfied: chardet<3.1.0,>=3.0.2 in /usr/local/lib/python3.6/dist-packages (from requests->gpt_2_simple) (3.0.4)\n"
          ],
          "name": "stdout"
        }
      ]
    },
    {
      "cell_type": "markdown",
      "metadata": {
        "id": "nTkq7wEQwEkZ",
        "colab_type": "text"
      },
      "source": [
        "Import"
      ]
    },
    {
      "cell_type": "code",
      "metadata": {
        "id": "_pdkhHU6wd12",
        "colab_type": "code",
        "colab": {}
      },
      "source": [
        "import gpt_2_simple as gpt2\n",
        "from datetime import datetime\n",
        "from google.colab import files"
      ],
      "execution_count": 0,
      "outputs": []
    },
    {
      "cell_type": "markdown",
      "metadata": {
        "id": "0ggC2Mc75BnB",
        "colab_type": "text"
      },
      "source": [
        "## Downloading GPT-2"
      ]
    },
    {
      "cell_type": "markdown",
      "metadata": {
        "id": "6r3939YUqT9K",
        "colab_type": "text"
      },
      "source": [
        "Choose between `117M` and `345M` models"
      ]
    },
    {
      "cell_type": "code",
      "metadata": {
        "id": "NW4vZzlyqOnc",
        "colab_type": "code",
        "colab": {}
      },
      "source": [
        "# model_name = '117M'\n",
        "model_name = '345M'"
      ],
      "execution_count": 0,
      "outputs": []
    },
    {
      "cell_type": "markdown",
      "metadata": {
        "id": "4_hrBy2DqR5M",
        "colab_type": "text"
      },
      "source": [
        "Download the pre-trained model"
      ]
    },
    {
      "cell_type": "code",
      "metadata": {
        "id": "_-If30nT4ZCb",
        "colab_type": "code",
        "outputId": "d5b6c543-61ed-4e10-f598-49a4b6929363",
        "colab": {
          "base_uri": "https://localhost:8080/",
          "height": 146
        }
      },
      "source": [
        "gpt2.download_gpt2(model_name=model_name)"
      ],
      "execution_count": 0,
      "outputs": [
        {
          "output_type": "stream",
          "text": [
            "Fetching checkpoint: 1.00kit [00:00, 741kit/s]                                                      \n",
            "Fetching encoder.json: 1.04Mit [00:00, 47.6Mit/s]                                                   \n",
            "Fetching hparams.json: 1.00kit [00:00, 393kit/s]                                                    \n",
            "Fetching model.ckpt.data-00000-of-00001: 1.42Git [00:20, 68.9Mit/s]                                 \n",
            "Fetching model.ckpt.index: 11.0kit [00:00, 2.77Mit/s]                                               \n",
            "Fetching model.ckpt.meta: 927kit [00:00, 47.0Mit/s]                                                 \n",
            "Fetching vocab.bpe: 457kit [00:00, 39.2Mit/s]                                                       \n"
          ],
          "name": "stderr"
        }
      ]
    },
    {
      "cell_type": "markdown",
      "metadata": {
        "id": "e9sI2rah5OyB",
        "colab_type": "text"
      },
      "source": [
        "## Uploading a Text File to be Trained to Colaboratory"
      ]
    },
    {
      "cell_type": "markdown",
      "metadata": {
        "colab_type": "text",
        "id": "d3NlwR97DRGt"
      },
      "source": [
        "### Either get the data by yourself"
      ]
    },
    {
      "cell_type": "markdown",
      "metadata": {
        "id": "u6h_g-wpDSSh",
        "colab_type": "text"
      },
      "source": [
        "Currently not possible because you:\n",
        "-   either need app details (slow to download),\n",
        "-   or aggregate.json (stored with Git LFS, not installed on Google Colab.)"
      ]
    },
    {
      "cell_type": "markdown",
      "metadata": {
        "id": "7LPbkB998g-B",
        "colab_type": "text"
      },
      "source": [
        "### Or get a data snapshot from me"
      ]
    },
    {
      "cell_type": "code",
      "metadata": {
        "id": "FIR9fBid5U2w",
        "colab_type": "code",
        "outputId": "1a80ed31-2bcf-42cb-9eb4-197188f4b5b1",
        "colab": {
          "base_uri": "https://localhost:8080/",
          "height": 72
        }
      },
      "source": [
        "!curl -O https://raw.githubusercontent.com/woctezuma/sample-steam-descriptions/master/data/with_delimiters/concatenated_store_descriptions.txt"
      ],
      "execution_count": 0,
      "outputs": [
        {
          "output_type": "stream",
          "text": [
            "  % Total    % Received % Xferd  Average Speed   Time    Time     Time  Current\n",
            "                                 Dload  Upload   Total   Spent    Left  Speed\n",
            "\r  0     0    0     0    0     0      0      0 --:--:-- --:--:-- --:--:--     0\r  0 44.2M    0     0    0     0      0      0 --:--:-- --:--:-- --:--:--     0\r100 44.2M  100 44.2M    0     0   151M      0 --:--:-- --:--:-- --:--:--  150M\n"
          ],
          "name": "stdout"
        }
      ]
    },
    {
      "cell_type": "markdown",
      "metadata": {
        "id": "AjmpOgoa5y7Q",
        "colab_type": "text"
      },
      "source": [
        "## Finetune GPT-2"
      ]
    },
    {
      "cell_type": "code",
      "metadata": {
        "id": "7WDz30tL5-yf",
        "colab_type": "code",
        "colab": {}
      },
      "source": [
        "file_name = 'concatenated_store_descriptions.txt'\n",
        "\n",
        "run_name = model_name + '_descriptions'"
      ],
      "execution_count": 0,
      "outputs": []
    },
    {
      "cell_type": "code",
      "metadata": {
        "id": "Bfg4HYZl56JJ",
        "colab_type": "code",
        "outputId": "d7fddd9b-68c1-444d-de86-f81dcb27f076",
        "colab": {
          "base_uri": "https://localhost:8080/",
          "height": 3508
        }
      },
      "source": [
        "sess = gpt2.start_tf_sess()\n",
        "\n",
        "gpt2.finetune(sess,\n",
        "              run_name=run_name,\n",
        "              dataset=file_name,\n",
        "              model_name=model_name,\n",
        "              steps=1000,\n",
        "              restore_from='fresh', # change to 'latest' to resume training\n",
        "              print_every=10,       # how many steps between printing progress\n",
        "              sample_every=200,     # how many steps to print a demo sample\n",
        "              save_every=500        # how many steps between saving checkpoint              \n",
        "              )"
      ],
      "execution_count": 0,
      "outputs": [
        {
          "output_type": "stream",
          "text": [
            "WARNING:tensorflow:From /usr/local/lib/python3.6/dist-packages/tensorflow/python/framework/op_def_library.py:263: colocate_with (from tensorflow.python.framework.ops) is deprecated and will be removed in a future version.\n",
            "Instructions for updating:\n",
            "Colocations handled automatically by placer.\n",
            "WARNING:tensorflow:From /usr/local/lib/python3.6/dist-packages/gpt_2_simple/src/sample.py:71: to_float (from tensorflow.python.ops.math_ops) is deprecated and will be removed in a future version.\n",
            "Instructions for updating:\n",
            "Use tf.cast instead.\n",
            "WARNING:tensorflow:From /usr/local/lib/python3.6/dist-packages/gpt_2_simple/src/sample.py:77: multinomial (from tensorflow.python.ops.random_ops) is deprecated and will be removed in a future version.\n",
            "Instructions for updating:\n",
            "Use tf.random.categorical instead.\n",
            "WARNING:tensorflow:From /usr/local/lib/python3.6/dist-packages/tensorflow/python/ops/math_ops.py:3066: to_int32 (from tensorflow.python.ops.math_ops) is deprecated and will be removed in a future version.\n",
            "Instructions for updating:\n",
            "Use tf.cast instead.\n",
            "WARNING:tensorflow:From /usr/local/lib/python3.6/dist-packages/tensorflow/python/ops/math_grad.py:102: div (from tensorflow.python.ops.math_ops) is deprecated and will be removed in a future version.\n",
            "Instructions for updating:\n",
            "Deprecated in favor of operator or tf.math.divide.\n",
            "Loading checkpoint models/345M/model.ckpt\n",
            "WARNING:tensorflow:From /usr/local/lib/python3.6/dist-packages/tensorflow/python/training/saver.py:1266: checkpoint_exists (from tensorflow.python.training.checkpoint_management) is deprecated and will be removed in a future version.\n",
            "Instructions for updating:\n",
            "Use standard file APIs to check for files with this prefix.\n",
            "INFO:tensorflow:Restoring parameters from models/345M/model.ckpt\n"
          ],
          "name": "stdout"
        },
        {
          "output_type": "stream",
          "text": [
            "\r  0%|          | 0/1 [00:00<?, ?it/s]"
          ],
          "name": "stderr"
        },
        {
          "output_type": "stream",
          "text": [
            "Loading dataset...\n"
          ],
          "name": "stdout"
        },
        {
          "output_type": "stream",
          "text": [
            "\r100%|██████████| 1/1 [01:09<00:00, 69.26s/it]\n"
          ],
          "name": "stderr"
        },
        {
          "output_type": "stream",
          "text": [
            "dataset has 12183978 tokens\n",
            "Training...\n",
            "[10 | 24.55] loss=3.09 avg=3.09\n",
            "[20 | 41.46] loss=2.91 avg=3.00\n",
            "[30 | 58.72] loss=2.73 avg=2.91\n",
            "[40 | 75.46] loss=2.02 avg=2.68\n",
            "[50 | 91.90] loss=2.78 avg=2.70\n",
            "[60 | 108.36] loss=2.26 avg=2.63\n",
            "[70 | 124.95] loss=2.71 avg=2.64\n",
            "[80 | 141.65] loss=2.50 avg=2.62\n",
            "[90 | 158.27] loss=2.57 avg=2.62\n",
            "[100 | 174.87] loss=2.86 avg=2.64\n",
            "[110 | 191.54] loss=2.61 avg=2.64\n",
            "[120 | 208.18] loss=2.01 avg=2.58\n",
            "[130 | 224.85] loss=3.32 avg=2.64\n",
            "[140 | 241.53] loss=3.03 avg=2.67\n",
            "[150 | 258.24] loss=2.02 avg=2.63\n",
            "[160 | 274.95] loss=2.28 avg=2.60\n",
            "[170 | 291.66] loss=1.52 avg=2.53\n",
            "[180 | 308.34] loss=1.90 avg=2.50\n",
            "[190 | 325.00] loss=2.44 avg=2.49\n",
            "[200 | 341.63] loss=2.74 avg=2.51\n",
            "======== SAMPLE 1 ========\n",
            "70 | Lair:2 | Learned a level 3 spell: Portal Projectile | HP: 45/62 MP: 0/15 10881 | Lair:3 | Learned a level 5 spell: Lightning Bolt | HP: 50/73 MP: 0/15 10887 | Lair:4 | Reached skill level 14 in Conjurations | HP: 46/82 MP: 0/16 11145 | Lair:4 | Learned a level 1 spell: Apportation | HP: 53/85 MP: 0/16 11151 | Lair:4 | Learned a level 8 spell: Controlled Blink | HP: 49/90 MP: 0/16 11220 | Lair:4 | Learned a level 3 spell: Swiftness | HP: 50/71 MP: 0/16 11234 | Lair:4 | Noticed the eight-headed Lernaean hydra | HP: 51/100 MP: 0/16 11370 | Lair:4 | Acquired Sif Muna's first power 11901 | Lair:4 | Found an iron altar of Okawaru. 11905 | Lair:4 | Found a hole to the Spider Nest. 12062 | Lair:4 | Noticed an eight-headed hydra 12313 | Lair:4 | HP: 42/106 MP: 0/16 12319 | Lair:4 | HP: 37/107 MP: 0/17 12329 | Lair:4 | HP: 27/101 MP: 0/17 12347 | Lair:4 | HP: 44/105 MP: 0/18 12403 | Lair:4 | Found a labyrinth entrance. 12403 | Lab | Entered a labyrinth 12400 | Lab | Reached skill level 1 in Charms | HP: 49/85 MP: 0/19 12407 | Lair:4 | Found a basalt altar of Yredelemnul. 12409 | Lair:4 | Reached skill level 10 in Spellcasting 12934 | Lair:2 | Learned a level 2 spell: Blink | HP: 42/105 MP: 0/20 12940 | Lair:2 | Learned a level 4 spell: Fireball | HP: 51/108 MP: 0/21 12989 | Lair:2 | Learned a level 5 spell: Control Teleport | HP: 53/110 MP: 0/22 13102 | Lair:2 | Reached skill level 5 in Charms | HP: 38/110 MP: 23/22 13133 | Lair:2 | Learned a level 3 spell: Regeneration | HP: 40/98 MP: 0/23 13151 | Lair:2 | Reached skill level 2 in Translocations | HP: 33/110 MP: 0/24 13846 | Lair:4 | Reached skill level 1 in Air Magic | HP: 52/130 MP: 0/25 13931 | Lair:4 | Found a staircase to the Swamp. 14057 | Lair:4 | Noticed a five-headed hydra 14069 | Lair:4 | Killed a five-headed hydra 14117 | Lair:4 | Reached skill level 6 in Charms | HP: 33/130 MP: 23/26 14129 | Lair:4 | Acquired Sif Muna's second power 14145 | Lair:4 | Learned a level 4 spell: Iskenderun's Mystic Blast | HP: 60/130 MP: 23/26 14148 | Lair:4 | Learned a level 2 spell: Control Teleport | HP: 40/108 MP: 27/27 14157 | Lair:4 | Learned a level 2 spell: Swiftness | HP: 38/115 MP: 27/28 14166 | Lair:4 | Reached skill level 3 in Translocations | HP: 44/132 MP: 27/28 14166 | Lair:4 | Reached XP level 16. HP: 44/149 MP: 16/27 14172 | Lair:4 | Reached skill level 1 in Poison Magic | HP: 50/130 MP: 23/27 14180 | Lair:5 | Learned a level 3 spell: Summon Hydra | HP: 46/135 MP: 0/29 14193 | Lair:5 | Reached skill level 3 in Spellcasting | HP: 49/136 MP: 0/37 14201 | Lair:5 | Learned a level 2 spell: Blink | HP: 47/112 MP: 19/29 14205 | Lair:5 | Noticed a six-headed hydra 14209 | Lair:5 | Killed a six-headed hydra 14204 | Lair:5 | Reached skill level 4 in Translocations | HP: 45/136 MP: 27/28 14226 | Lair:5 | Learned a level 5 spell: Summon Dragon | HP: 56/142 MP: 20/30 14225 | Lair:5 | Reached skill level 5 in Charms | HP: 34/146 MP: 27/31 14261 | Lair:5 | Learned a level 2 spell: Blink | HP: 46/135 MP: 26/31 14261 | Lair:5 | Reached XP level 17. HP\n",
            "\n",
            "[210 | 382.88] loss=2.62 avg=2.51\n",
            "[220 | 399.57] loss=2.81 avg=2.53\n",
            "[230 | 416.27] loss=2.49 avg=2.53\n",
            "[240 | 432.96] loss=2.38 avg=2.52\n",
            "[250 | 449.63] loss=2.02 avg=2.50\n",
            "[260 | 466.30] loss=2.64 avg=2.50\n",
            "[270 | 482.96] loss=2.93 avg=2.52\n",
            "[280 | 499.60] loss=2.87 avg=2.53\n",
            "[290 | 516.19] loss=2.53 avg=2.53\n",
            "[300 | 532.81] loss=2.37 avg=2.53\n",
            "[310 | 549.48] loss=1.80 avg=2.50\n",
            "[320 | 566.15] loss=2.50 avg=2.50\n",
            "[330 | 582.85] loss=2.31 avg=2.49\n",
            "[340 | 599.53] loss=1.50 avg=2.46\n",
            "[350 | 616.18] loss=1.80 avg=2.44\n",
            "[360 | 632.80] loss=2.55 avg=2.44\n",
            "[370 | 649.39] loss=2.31 avg=2.44\n",
            "[380 | 665.98] loss=2.53 avg=2.44\n",
            "[390 | 682.57] loss=2.09 avg=2.43\n",
            "[400 | 699.19] loss=2.70 avg=2.44\n",
            "======== SAMPLE 1 ========\n",
            " to secure victory, and if you are not powerful enough to hold on, there is the strength with which you can be the one who can prevail.  [1] (Videogames and other video games) ---------------------------------------------------------------------------<br />\n",
            "<br />\n",
            "- A very simple game, this is made by our own <br />\n",
            "<br />\n",
            "- A very good game, for beginners who are afraid of new, cool, and challenging games.<br />\n",
            "- A very good game, for intermediate players who want to play the best, and for those who only want a good, fun RPG game. In some other games you might miss out and you will see a lot of players only in a very small portion of the world. The game is in the process of improvement.<br />\n",
            "- There is no single idea of a game that is perfect and every game has different ideas of its own.<br />\n",
            "- The game is created by the designers of the game community who did not want the world for their own money but made the game for their own love. They can make the best games and the players of the world will make their own games (though sometimes it will be very difficult for the best game). It is our pleasure to offer this great game to the players, if you really like this game, you can support us by purchasing the game.<|endoftext|>\n",
            "<|startoftext|>We are a simple group of players who love to explore new worlds and learn new things. We will do our best to create new adventures from the end of the world till the end of time. <br><br>Today, in a big world we can´ve reached in the beginning of the last week, we decided to launch a new quest. We have created a new world, the world of the first inhabitants. They are humans, who will be living on the next world. We are a group of players who want to live there and the journey is an honor to them. We do not have anything in mind but to explore this world and explore our way, and to bring into our power through playing our way.<br><br>The only way to move forward is to go through the journey to the right, and to make a path to the end of our path towards the place to be filled with monsters. A way to make a way to a place as deep as the world to be the most secure, the right path. There will be monsters that are hiding in hiding in each direction but you will face the danger of every direction and at the end of a route we will be able to say with an image that everything was to this place. <br><br>Your journey to that point and at that point you will be a part of the next world, the world of the first people. And, once you have created a path, we are all together in the world of the first humans. We will meet and go through the next world, the world to be filled with monsters. We will face all dangers on every route, and we will go through a large portion of the world.<br><br>There are things in the World of the first people that we should not take lightly or that can cause dangerous surprises, they are known as the bosses that you will face.<|endoftext|>\n",
            "<|startoftext|>You are alone in a giant house, it was built by your old family, you will be living in it for some time but you can not be the only one in this house, also you and the other living will have children with that house, one of them will leave and go to another place. Every person will have a family and will have a spouse that comes up to him the next day. It has three doors. You do not see your family or spouse, you do not have a name or a relationship, but you do have children and grandchildren. You can build your own house and you will have one of your children. The children will all have a spouse and will have a husband. But, if you or your spouse dies, then you will have your younger child as a joint-wife, then you will have a husband and a wife, and so on. There are 3 children in his family, one of them is your younger daughter, she can look, dress and hear you as a child. She will marry you, and then if her husband dies, then she will be your youngest child and she will have children. At the time of marriage, you have a third son from your past wife. If you have a second wife by a different way and she dies, you can create a daughter from her. She can take your older sons and create two other sons, but if she doesn´t die, you have a son that you had in your past wife and the youngest daughter will have one older son. The youngest child will have a younger daughter, and so on. And, if you and your husband die, then your younger\n",
            "\n",
            "[410 | 737.91] loss=2.76 avg=2.45\n",
            "[420 | 754.45] loss=2.65 avg=2.45\n",
            "[430 | 771.07] loss=1.35 avg=2.42\n",
            "[440 | 787.74] loss=2.67 avg=2.43\n",
            "[450 | 804.43] loss=2.75 avg=2.44\n",
            "[460 | 821.14] loss=3.29 avg=2.46\n",
            "[470 | 837.82] loss=2.92 avg=2.47\n",
            "[480 | 854.46] loss=2.73 avg=2.48\n",
            "[490 | 871.10] loss=2.60 avg=2.48\n",
            "[500 | 887.72] loss=2.51 avg=2.48\n",
            "Saving checkpoint/345M_descriptions/model-500\n",
            "[510 | 916.03] loss=2.41 avg=2.48\n",
            "[520 | 933.20] loss=2.62 avg=2.48\n",
            "[530 | 950.28] loss=2.55 avg=2.49\n",
            "[540 | 966.88] loss=2.80 avg=2.49\n",
            "[550 | 983.32] loss=2.46 avg=2.49\n",
            "[560 | 999.87] loss=2.14 avg=2.48\n",
            "[570 | 1016.59] loss=2.76 avg=2.49\n",
            "[580 | 1033.36] loss=2.45 avg=2.49\n",
            "[590 | 1050.02] loss=2.60 avg=2.49\n",
            "[600 | 1066.61] loss=2.45 avg=2.49\n",
            "======== SAMPLE 1 ========\n",
            " in your own way and decide you want to focus solely on the gameplay; not the story.<|endoftext|>\n",
            "<|startoftext|>Fate Breaker combines an action RPG and a first-person shooter with a stealth, puzzle and mystery approach. Players use their own skills to thwart the evil plans of Dark Elders. Once successful, players can build their own faction to lead their armies through epic battles and unlock powerful artifacts to help them fight the evil ones. With a massive cast, epic battles and a cinematic soundtrack, Fate Breaker gives players an unforgettable experience.<|endoftext|>\n",
            "<|startoftext|>You are standing on your doorstep, waiting for your baby daughter to arrive in a house that will be her mother's home forever. Little does the family know that the girl is a spy sent by their father to spy on the family, but beware, if the girl is discovered when the baby comes home, her mother may just lose all of her family, including the baby herself. The boy's father, who has just received her for birth, is now in the clutches of the Dark Elders, and the child might be his last chance to get revenge, if anything happens to the woman he loves. In Fate Breaker, you will be able to play as either his mother, boyfriend, or girlfriend. As the girl, you'll meet strangers, talk to your family in hopes of helping them solve their problems, and help others with your skills. You can go around giving different advice to help a person solve problems or for the best way to make money and protect the family by helping people out by doing their chores or working and taking care of their home. Some missions require you to work with other people or to steal from others to gain the Dark Elders' trust in order to progress the plot. The story has lots of unique puzzles to solve, and you'll have the opportunity to make choices to influence events, change events and choose what your actions will be. The choices you make affect how the story happens, as well as what happens to the characters you meet along the way. Each of the four endings in the game, each of which gives you different rewards or consequences, is there because you chose your own way to solve the problem in your story.<br><br><ul class=\"bb_ul\"><li> <strong>4 different endings</strong> – the story comes to its conclusion if you decide to complete each of the 4 possible endings in the game</li></ul><|endoftext|>\n",
            "<|startoftext|><strong>Harmful</strong><br><br>You wake up, having just had a seizure. Your mind's gone, the rest is dark, but you're alive, and you're in possession of a strange metal, which threatens to destroy, the human race. This metal is the true identity of the Metal Goddess, and she is in control of all things metallic. <br>This game includes over 25 metal bosses which make use of your skills, and over 100 unique Metal-types. Make sure you take care, you may get lucky in the Metal's, to discover secrets of Metal. If you get hurt... go to the doctor and have a look. Or perhaps you should do that, maybe you get scared, but you can still get hurt, so use the Metal's power, and you can have a chance to survive. There are 20 Metal Weapons. There's also a Machine and an Engineer with special abilities. <br><br>You get bonus experience level once you have a metal of the correct type, or you can buy weapons for extra experience if you get into trouble. You can also try to get a Metal in your inventory, from which you get new Metal Type. But remember: Metal-Types are made up of metals, so make sure you understand where you're coming from. And you have to be careful how you use the Metal. You have to be careful with metal types because you can destroy them with a hammer, or a firebomb or maybe a plasma grenade. You can also get a special damage effect, like burning metal with an electrical bolt, maybe even taking out more metal with a plasma beam. <h2 class=\"bb_tag\">FEATURES</h2><ul class=\"bb_ul\"><li>30 Metal Types to destroy or improve your weapons. A real variety of metallic elements that you get from any Metal. Or better: you get the best metal of each Metal!<br><li>7 different machines, with special powers: Electric, Fire, Flame, Plasma, Plasma, Flamethrower. There's also an Engineer, who helps you with Metal Types and gives you a different type of metal. And you can use metal types to make your weapons faster, stronger, more efficient, with better results.<br><li>5 Metal types: Metal of metal types, Fire, Water, Electricity, and Earth. Which Metal is in control of your Metal? This Metal is\n",
            "\n",
            "[610 | 1105.69] loss=2.79 avg=2.50\n",
            "[620 | 1122.30] loss=2.18 avg=2.49\n",
            "[630 | 1138.91] loss=2.08 avg=2.48\n",
            "[640 | 1155.50] loss=2.27 avg=2.48\n",
            "[650 | 1172.09] loss=2.16 avg=2.47\n",
            "[660 | 1188.72] loss=1.99 avg=2.46\n",
            "[670 | 1205.36] loss=2.38 avg=2.46\n",
            "[680 | 1222.01] loss=2.13 avg=2.45\n",
            "[690 | 1238.69] loss=2.92 avg=2.46\n",
            "[700 | 1255.37] loss=2.33 avg=2.46\n",
            "[710 | 1272.05] loss=2.50 avg=2.46\n",
            "[720 | 1288.72] loss=2.10 avg=2.45\n",
            "[730 | 1305.39] loss=2.42 avg=2.45\n",
            "[740 | 1322.05] loss=0.77 avg=2.42\n",
            "[750 | 1338.70] loss=2.47 avg=2.42\n",
            "[760 | 1355.33] loss=2.53 avg=2.42\n",
            "[770 | 1371.99] loss=2.29 avg=2.42\n",
            "[780 | 1388.62] loss=2.26 avg=2.42\n",
            "[790 | 1405.24] loss=2.85 avg=2.43\n",
            "[800 | 1421.83] loss=2.69 avg=2.43\n",
            "======== SAMPLE 1 ========\n",
            "2:<br />\n",
            "- 20+ levels with 20 different levels<br />\n",
            "- Collect coins to buy new items as you progress through the story<br />\n",
            "- Play as either a woman or a man<h2 class=\"bb_tag\">Key Features</h2><ul class=\"bb_ul\"><li>20+ Levels<br></li><li>Character customization<br></li><li>Play as either a female or a male<|endoftext|>\n",
            "<|startoftext|>Explore a futuristic city full of possibilities and challenge in the new action-adventure RPG from 2K Games™. <br />\n",
            "<br />\n",
            "Featuring:<br />\n",
            "<br />\n",
            "- Unique combat system where your actions are determined by the environment you are in</br />\n",
            "<br />\n",
            "- New weapons and armour to make the world feel even more alive and vibrant<br />\n",
            "<br />\n",
            "&quot;You can't turn your enemies into toys!&quot; - Official RPG Maker™ Blog<|endoftext|>\n",
            "<|startoftext|><strong>Landslide: An Epic Tale of a Lost City comes to PC from Steam, Steam Workshop and Android!</strong><br />\n",
            "<br />\n",
            "You're a young merchant in the distant East, as you move across the treacherous seas to find your way to the heart of the island in the hopes of finding a way to return home. You are joined in your journey by the ever-growing army of mysterious ships - each time the battle becomes more desperate, the further you must risk to go and find the one path that will bring you home. <br />\n",
            "<br />\n",
            "It is the adventure RPG genre's last frontier to bring to PC – the ultimate adventure game experience. It's a great game, with a huge cast of characters to choose from, a massive level of detail and graphics to provide, and a strong narrative to guide you along the way. And like the games itself, it offers an immersive story line, one of the first steps towards bringing a truly emergent RPG to PC.<|endoftext|>\n",
            "<|startoftext|>In this action-packed shooter from award-winning video game studio, you go head-to-head against the ruthless mercenary forces on the ground. <br />\n",
            "<br />\n",
            "Your main goal in this epic series of battles is the destruction of your evil employer's rivals, the Guild of Assassins. This is your task – now. <br />\n",
            "<br />\n",
            "<br />\n",
            "Featuring a huge cast of characters all with their own specific set of skills and traits, each with a distinct personality, you must survive to meet the challenge of a new world. <br />\n",
            "<br />\n",
            "Each character has his own unique set of skills and traits, and your skills and attributes will change with each playthrough. Every character has their own story, every character has their own unique style of gameplay. <br />\n",
            "<br />\n",
            "Each of the characters has their own style of weapon and skill tree. Each of their skill trees offer new gameplay possibilities. Play as one of the Guild of Assassins and use your skills to defeat your enemies. You are not alone! <br />\n",
            "<br />\n",
            "Key features of this game:<br />\n",
            "<br />\n",
            "+ 15 different characters with unique skills and traits to discover and play with <br />\n",
            "<br />\n",
            "+ 8 classes with special skills. A range of unique characters with their own unique style of gameplay, their own motivations, and their own unique weapons. Every character has her own skill tree. With skill trees coming in the near future, every character will have more skills. <br />\n",
            "<br />\n",
            "+ Achievements and Leaderboards. Completing achievements and getting them for free will be an all or nothing proposition.<|endoftext|>\n",
            "<|startoftext|><img src=\"https://steamcdn-a.akamaihd.net/steam/apps/464930/extras/Description_Sylvester.jpg?t=152117076\" ><br><br><br>You are a merchant, traveling the world searching for supplies. One day you find yourself stuck on a ship, caught in a situation beyond your imagination… You don't know what happened, but you do know you’ll never be the same. <br><br>You are forced to decide between returning to your old home and becoming embroiled in a world that demands your utmost loyalty. What else...<br><br><br><img src=\"https://steamcdn-a.akamaihd.net/steam/apps/464930/extras/Description_Stalker.jpg?t=152117076\" ><br><br><br><img src=\"https://steamcdn-a.akamaihd.net/\n",
            "\n",
            "[810 | 1460.63] loss=1.98 avg=2.42\n",
            "[820 | 1477.17] loss=2.12 avg=2.42\n",
            "[830 | 1493.79] loss=2.71 avg=2.42\n",
            "[840 | 1510.55] loss=2.41 avg=2.42\n",
            "[850 | 1527.26] loss=2.90 avg=2.43\n",
            "[860 | 1543.89] loss=2.70 avg=2.44\n",
            "[870 | 1560.46] loss=2.49 avg=2.44\n",
            "[880 | 1577.08] loss=1.93 avg=2.43\n",
            "[890 | 1593.77] loss=2.26 avg=2.42\n",
            "[900 | 1610.49] loss=2.25 avg=2.42\n",
            "[910 | 1627.19] loss=2.79 avg=2.43\n",
            "[920 | 1643.89] loss=1.90 avg=2.42\n",
            "[930 | 1660.56] loss=1.88 avg=2.41\n",
            "[940 | 1677.23] loss=2.73 avg=2.42\n",
            "[950 | 1693.89] loss=2.57 avg=2.42\n",
            "[960 | 1710.52] loss=2.52 avg=2.42\n",
            "[970 | 1727.18] loss=2.15 avg=2.42\n",
            "[980 | 1743.82] loss=2.42 avg=2.42\n",
            "[990 | 1760.46] loss=2.49 avg=2.42\n",
            "[1000 | 1777.09] loss=2.53 avg=2.42\n",
            "Saving checkpoint/345M_descriptions/model-1000\n",
            "WARNING:tensorflow:From /usr/local/lib/python3.6/dist-packages/tensorflow/python/training/saver.py:966: remove_checkpoint (from tensorflow.python.training.checkpoint_management) is deprecated and will be removed in a future version.\n",
            "Instructions for updating:\n",
            "Use standard file APIs to delete files with this prefix.\n"
          ],
          "name": "stdout"
        }
      ]
    },
    {
      "cell_type": "markdown",
      "metadata": {
        "id": "DlHGcNdYucbT",
        "colab_type": "text"
      },
      "source": [
        "## Save a Trained Model Checkpoint"
      ]
    },
    {
      "cell_type": "code",
      "metadata": {
        "colab_type": "code",
        "id": "INqqMtTjlFuD",
        "colab": {}
      },
      "source": [
        "# gpt2.mount_gdrive()"
      ],
      "execution_count": 0,
      "outputs": []
    },
    {
      "cell_type": "code",
      "metadata": {
        "id": "OHD_aIEhMVcI",
        "colab_type": "code",
        "colab": {}
      },
      "source": [
        "# gpt2.copy_checkpoint_to_gdrive(run_name=run_name)"
      ],
      "execution_count": 0,
      "outputs": []
    },
    {
      "cell_type": "markdown",
      "metadata": {
        "id": "BEwkRvCn6XZW",
        "colab_type": "text"
      },
      "source": [
        "## Load a Trained Model Checkpoint"
      ]
    },
    {
      "cell_type": "code",
      "metadata": {
        "id": "shTR7bzRgTkS",
        "colab_type": "code",
        "colab": {}
      },
      "source": [
        "# gpt2.mount_gdrive()"
      ],
      "execution_count": 0,
      "outputs": []
    },
    {
      "cell_type": "code",
      "metadata": {
        "id": "JILs1rBXfiEA",
        "colab_type": "code",
        "colab": {}
      },
      "source": [
        "# gpt2.copy_checkpoint_from_gdrive(run_name=run_name)"
      ],
      "execution_count": 0,
      "outputs": []
    },
    {
      "cell_type": "markdown",
      "metadata": {
        "id": "vX8KFoKR6g-o",
        "colab_type": "text"
      },
      "source": [
        "## Generate Text From The Trained Model"
      ]
    },
    {
      "cell_type": "code",
      "metadata": {
        "id": "hzAzQvF8v8KH",
        "colab_type": "code",
        "colab": {}
      },
      "source": [
        "temperature=1.0 # Default is 0.7, but you may want to increase the temperature, especially if your dataset is small, to avoid copying text.\n",
        "top_k = 40      # Default: 0   ; Recommended: 40  ; useless parameter if top_p > 0.0\n",
        "top_p = 0.9     # Default: 0.0 ; Recommended: 0.9 ; no need for top_k if top_p > 0.0"
      ],
      "execution_count": 0,
      "outputs": []
    },
    {
      "cell_type": "code",
      "metadata": {
        "id": "2VAKaZjeir3U",
        "colab_type": "code",
        "colab": {}
      },
      "source": [
        "num_samples = 3\n",
        "num_batches = 3 # Unique to GPT-2, you can pass a batch_size to generate multiple samples in parallel, giving a massive speedup."
      ],
      "execution_count": 0,
      "outputs": []
    },
    {
      "cell_type": "code",
      "metadata": {
        "id": "KYC30GEi6kPv",
        "colab_type": "code",
        "outputId": "7d52107b-1749-4fd5-95e5-3e19b801d414",
        "colab": {
          "base_uri": "https://localhost:8080/",
          "height": 478
        }
      },
      "source": [
        "gpt2.generate(sess,\n",
        "              run_name=run_name,\n",
        "              nsamples=num_samples,             \n",
        "              batch_size=num_batches,\n",
        "              temperature=temperature,\n",
        "              top_k=top_k,\n",
        "              top_p=top_p,\n",
        "              truncate='<|endoftext|>')"
      ],
      "execution_count": 0,
      "outputs": [
        {
          "output_type": "stream",
          "text": [
            "A U-turn, maybe? Probably no!<br />\n",
            "<br />\n",
            "Maybe! Maybe?!<br />\n",
            "<br />\n",
            "Whatever it is, it is uncharacteristic of the big campus for a departure time. What with all the events, unknown events, that are unlikely to get resolved.<br />\n",
            "<br />\n",
            "Uptown campus is being shaken and won't take its mind off the excitement. So it is virtually closed until the process is over.<br />\n",
            "<br />\n",
            "In the unlikely event that everything goes well, the Time travel factor will simply teleport the atmosphere in multiple directions. Be careful, whatever you choose, what you choose will be a unique mix of events!\n",
            "====================\n",
            "\n",
            "RS2·ROUGHT</h2>RISK OR EASY TO ATTACK. Proven Battlegrounds - More than 100 important buildings on the battlefield in your hands! Grinding your skills will test your skills and bring you far from total failure! <br><br><img src=\"https://steamcdn-a.akamaihd.net/steam/apps/788100/extras/ad_numbers.png?t=15494925994\" ><h2 class=\"bb_tag\">P1 WITH A RUNDOWN</h2><h2 class=\"bb_tag\">HARD ACCESSORIES</h2>Get a smooth ride in the sky carriages as you continue your campaign as the bird-man! Collect tokens to bolster your damage! <br><br><img src=\"https://steamcdn-a.akamaihd.net/steam/apps/788100/extras/demo.png?t=154925994\" ><h2 class=\"bb_tag\">TOP-FOOTER MANAGEMENT</h2><h2 class=\"bb_tag\">GIVE A NATION YOUR FORECAST</h2>Your elements represent all of the battle systems in the game - the universe is nearly infinite! Target the enemy's positions to earn credit and free tokens! <br><br><img src=\"https://steamcdn-a.akamaihd.net/steam/apps/788100/extras/storedires.png?t=154925994\" ><h2 class=\"bb_tag\">TRIQUET[/h2>Master all 13 abilities, earning hundreds of colorful tokens at a time and you’ll be one step closer to conquering the world! Try to beat your highest score to claim the top spot and become a true legend! <br><br><img src=\"https://steamcdn-a.akamaihd.net/steam/apps/788100/extras/race.png?t=154925994\" >\n",
            "====================\n",
            "\n",
            "The award-winning shooter was first developed by The Game Studio, a studio founded by renowned shooter veteran Chris Grant and newly-minted C++ / C# team member Reisa Fujimoto. <br />\n",
            "<br />\n",
            "Featuring a unique, evolving game mechanic, cRPG<br />\n",
            "Enter a new world and customize your character into an epic gaming experience unlike any other game. <br />\n",
            "<br />\n",
            "SAFE - We understand that many games require you to expend valuable lives in order to survive, and cRPG embraces this concept perfectly.  Kill animals to replenish your health, the ocean to heal, or cyborg pieces of rock to create hard to kill zombies. <br />\n",
            "<br />\n",
            "C++ - Hero &amp; player building created on the Unreal Engine 4, with the use of Steam Workshop integration.  Loads of tooltips, custom control, and more – we want you to have the tools to succeed as a cRPG leader!\n",
            "====================\n",
            "\n"
          ],
          "name": "stdout"
        }
      ]
    },
    {
      "cell_type": "code",
      "metadata": {
        "id": "jrZBWas662k_",
        "colab_type": "code",
        "outputId": "1b34a6c7-cc43-4891-90b2-d2d0152541ef",
        "colab": {
          "base_uri": "https://localhost:8080/",
          "height": 257
        }
      },
      "source": [
        "gpt2.generate(sess,\n",
        "              run_name=run_name,\n",
        "              nsamples=num_samples,\n",
        "              batch_size=num_batches,\n",
        "              temperature=temperature,          \n",
        "              top_k=top_k,\n",
        "              top_p=top_p,              \n",
        "              prefix='<|startoftext|>Half-Life 3 is the long-awaited sequel in the Half-Life franchise developped by Valve',\n",
        "              truncate='<|endoftext|>')"
      ],
      "execution_count": 0,
      "outputs": [
        {
          "output_type": "stream",
          "text": [
            "<|startoftext|>Half-Life 3 is the long-awaited sequel in the Half-Life franchise developped by Valve Studios’Rise 3.  It's the natural evolution of the most acclaimed Half-Life games, all based on original design concepts.  Featuring a number of new features, fans and players alike will be intrigued by the game’s intriguing narrative and massive variety of gameplay with eight routes to complete the many scenarios set.  Return to the Half-Life 3 foundation is an immersive experience and a lot of fun for all who participated in the Half-Life 2/3 campaigns.</h2><br>Mark your description with the unique  badge, unleash a powerful power-up and enjoy the breathtaking environment, driving, rocket-firing, and grappling gizmo Gungy flying in your game pocket.<h2 class=\"bb_tag\">Skateport Multiplayer (Team Deathmatch)</h2>Team Deathmatch is the easiest way to experience multiplayer shooter multiplayer.  In the traditional Half-Life scenario, make enemies cry as you defeat them.<h2 class=\"bb_tag\">Singleplayer Campaign</h2>Team Deathmatch consists of seven scenarios ranging from classic rally cars to mind-bending puzzles.  In many scenarios, the player will battle the AI on the street, or in hidden targets or traps.   On a few cases, you can gain special powers by defeating your opponents with incredible reflexes.  But beware of how you handle your powers!  Your patience is slowly consuming you, so stay out of danger as you build and advance through the campaign.<h2 class=\"bb_tag\">Open World Multiplayer (Three-Player Local Multiplayer)</h2>Two-player multiplayer multiplayer will bring plenty of different challenges and emergent gameplay to the player.  There are countless deep, open open-world environments to discover along the way.  Fight against hungry robots and cops in you’s team, or addictive minions and opponents.  Manage your team and cooperate with a wide variety of different factions in this all-new Multiplayer game.  <br>Use your unique skills and combine actions to take advantage of the environment.  <br>Foil allies, take out their strongholds, increase your survivability and extend your survival.  Grow your gang, master the vanquish enemy with massive powers and grow your name, or receive death and die trying.<h2 class=\"bb_tag\">Health &amp; Damage</h2>While Half-Life offers many of the familiar qualities of what fans of the original have come to expect, certain changes have come about from the ground up.  This is only the beginning of Half-Life 4: save GLaDOS by using the new and improved plantable guts and experiment with gravity-bending abilities.  Kill aliens in new and exciting ways by keeping a close eye on your gun, cracking the last ship's hatch.  Hacks and miscalculations may lead to your death.  Work together with your team, and compete with other players for the top spot.   Know your crew members, and chat with a wide variety of AI: all except special abilities, bots, zombies, snipers and even craftbots and forges.\n",
            "====================\n",
            "\n",
            "<|startoftext|>Half-Life 3 is the long-awaited sequel in the Half-Life franchise developped by Valve Software and published by Rockstar Games. After rescuing former teammates, players will fight the...\n",
            "<|startoftext|><h2 class=\"bb_tag\">BUILD Your Team</h2><br>Get your people on the line! Run outside jobs for cash. Stalk nearby landmarks. More importantly, produce ice, smoke, or use Half-Life 2-themed explosives to gather plants, crates, spikes, and bookshelves. <br><br>Half-Life 3 is divided into 4 massive districts - Portal, Happy Hour, Factory, and the Second Zone - each with their own narrative missions and objectives. Each district also contains their own themes and gameplay, bringing unique levels to play. <br><br>The New York area, for example, is transformed from a dusty wasteland into an art deco masterpiece. But the well-known tourist trap in the Manhattan apartment block is restored with an all new interior. Toss a lantern into a pneumatic tube to cool yourself before entering the apartment. Or capture pigeons through a snowman wearing your gaming mask. You can talk with your friends at the cafeterias, hang out on the docks with Half-Life 2 posters, or cut each other's throat with a fan from the dog.<br><br><img src=\"https://steamcdn-a.akamaihd.net/steam/apps/262640/extras/Half2Games_Image1.png?t=1548884745\" ><h2 class=\"bb_tag\">SMASH STRIKE POINTS</h2><br>At the start of a new level, you'll fight each other in a frenetic game of bling versus blowtorch. Use any weapon at your disposal in a limited range to disable your enemies and defeat your enemies. Persevere and challenge your intelligence and creative instinct. A knife will slow you down, but the best weapon for clearing obstacles is a regular. Your level breaks will force you to scan for weapons and engage with the familiar enemies that await you on your next run.<h2 class=\"bb_tag\">THE MANY NEW QUESTS AND CHARACTER INFO</h2><br>Red Ringer was founded with the aim to help reinvigorate the lead-up to Half-Life 3. Players have earned the right to do much more than bash their opponents while wearing half-gloves.  You can easily improve your character by interacting with objects, by entering jobs, and most importantly, by developing communication and interactions.<br><br><img src=\"https://steamcdn-a.akamaihd.net/steam/apps/262640/extras/Hall41_gif_02_steam_12_0.jpg?t=1548884745\" ><h2 class=\"bb_tag\">NEW SHOPS</h2><br>One of the most important things to take back the Factory is making sure your people are loaded with expert weaponry. Place traps, pick locks, shoot enemies, and unload your own cargo with containers from the factory floor. And get stuck in the elevator that connects from Wall Street to Columbia? Careful here. There are many platforms, people, and elevators you can use. Take a different route to find alternate access to your objective. <br><br><img src=\"https://steamcdn-a.akamaihd.net/steam/apps/262640/extras/Hall42_gif_03_wallstreet.jpg?t=1548884745\" ><h2 class=\"bb_tag\">UNLEASHES<h2 class=\"bb_tag\">The New York Chain Reaction</h2><br>Don't want to come home alone? Shoot with your shotguns at their base or the party-goers waiting in the oncoming mall. You can find anything valuable in the underground levels, but beware: There are many electrical devices and fuel generators that can be placed to solve puzzles. But really, why would you go over the Long Island Railroad if it's only a door-to-door delivery service? <br><br><img src=\"https://steamcdn-a.akamaihd.net/steam/apps/262640/extras/Half2Games_Edition_Min3_1.jpg?t=1548884745\" ><h2 class=\"bb_tag\">TOUR IN NEW YORK</h2><br>New Yorkers will be suffering this to the bitter end and this all-new game will give you unique cars and locations to discover. Free your research machine by visiting every little street corner. A mutated virus rots away the life from all living things, creating vicious mutant offspring that will try to eat you whole.\n",
            "====================\n",
            "\n",
            "<|startoftext|>Half-Life 3 is the long-awaited sequel in the Half-Life franchise developped by Valve founder Gabe Newell in 2000 with the original Half-Life Online, and its sequel Half-Life 3: Left Behind. Back in the city you'll find yourself amidst the thrills and spills of an anti-immigrant crackdown after the much-loved Half-Life 2 created the dream of an open-world Half-Life series. <br />\n",
            "Get lost in the immersive, player-driven campaign in the most recognizable Half-Life games. In Half-Life 3, your choices dictate how your characters will take their sweet sprengt…or send their worlds straight back to the coldest depths of the Black Mesa laboratory. <br />\n",
            "Atmospheric VR is the world’s first and only level-based, immersive, VR video game. See beyond the veil of fog to blow open a portal, board an enemy vessel, drop blocks and access more destinations than you can ever hope to achieve in a Half-Life game! Get acquainted with the environments as you build your vehicles, explore treacherous wilds and collect their secrets. Discover the secrets of the terrorist organization Black Mesa’s technology in the emergent reality of Half-Life’s original environment.\n",
            "====================\n",
            "\n"
          ],
          "name": "stdout"
        }
      ]
    },
    {
      "cell_type": "code",
      "metadata": {
        "id": "UjHTB5Mg9rno",
        "colab_type": "code",
        "outputId": "491214e2-9326-4f64-ef8c-1505927045c4",
        "colab": {
          "base_uri": "https://localhost:8080/",
          "height": 202
        }
      },
      "source": [
        "gpt2.generate(sess,\n",
        "              run_name=run_name,\n",
        "              nsamples=num_samples,\n",
        "              batch_size=num_batches,\n",
        "              temperature=temperature,          \n",
        "              top_k=top_k,\n",
        "              top_p=top_p,              \n",
        "              prefix='<|startoftext|>Spelunky 2 is the sequel of the most acclaimed rogue-like platformer of all-time',\n",
        "              truncate='<|endoftext|>')              "
      ],
      "execution_count": 0,
      "outputs": [
        {
          "output_type": "stream",
          "text": [
            "<|startoftext|>Spelunky 2 is the sequel of the most acclaimed rogue-like platformer of all-time. Steam trading cards are now included as content for your games. Beat a number of absurdly difficult levels to expand your collection and unlock new ones!<h2 class=\"bb_tag\">Touched by Rogue One</h2>Dark Shadows will bring you new strategies, plus you will be able to participate in online tournaments where you can battle your friends! When you need to find all the coins in a treasure chest, use Dark Shadows to collect them from each of the targets! <br><ul class=\"bb_ul\"><li>Each level is made up of 15 randomly generated tiles that are visually and functionally identical to tilesets from Spyro the Dragon Age. <br></li><li>Eight exciting skill sections, each one featuring over 50 skill combinations that will test your skills against opponents.<br></li><li>Fast-paced, intense combat.<br></li><li>Solve puzzles, collect treasure chests, and help Dark Shadows fulfill its most important purpose.<br></li><li>Enter powerful new animals, monsters, and enemies, each with their own special skills and strategies.<br></li><li>And much more!</li></ul>\n",
            "====================\n",
            "\n",
            "<|startoftext|>Spelunky 2 is the sequel of the most acclaimed rogue-like platformer of all-time - Spelunky - set in the world of a beautiful post-apocalyptic New Generation alternate dimension. You are Commander Gordon Campbell, a rookie CPU officer trained by the world's top software testers to rule the galaxy with a new crew of upstarts. Search the galaxy for a new home, join a deadly trade group or build an aggressive collection of new hardware to slay overwhelming bosses, alien bio-warfare monsters or a variety of rival factions. Each of the iconic weapons and upgradeable weaponry will give you an edge over enemies and your teammates, as well as grant you more powerful resources and each other! Don't be fooled by the fast, lethal gameplay – Spelunky 2 is a game of smart strategic exploration with deliberate feedback to force players into dangerous situations. Enter combat immediately to expand the supplies, repair systems or strengthen your squad to make the most of your wide range of weapons. Every key decision can lead to a spectacular outcome!<br><br><ul class=\"bb_ul\"><li>Mission-based exploration and deadly combat. Leaderboards, movement, technologies and more all combine to aid you as you reach new destinations. Stealth, exploration, sabotage and trading are not off limits as you compete with your peers for the absolute best of the world in the fastest paced cooperative challenge!<br></li><li>Upgrade your hardware by collecting and using vast quantities of upgrades, equipment and systems at every location on the galaxy. And yes, even planet-bound planets!<br></li><li>Build and customize your fleet with your equipment from the remarkable, award-winning fleet building system, or join a fleet for battle as you search for a new home. <br></li><li>Explore and uncover hidden secrets, technology and creatures as you progress to unlock their power.<br></li><li>Explore over 200 celestial bodies for resources, machinery and antiquities.<br></li><li>Free from violence and threats, the galaxy is a peaceful place – your crewmates will always protect your planet from an onslaught of hostile forces, as well as pirates and Space Pirates alike.<br></li><li>Play the free pilot mode to practice with your weapons, AI and vehicles. Finally, play and survive the full time-difficulty mode to take on more challenging new foes and upgrade the skills of your crewmates.<br></li><li>Infrastructure on the back of your ship, your new weapon systems and entirely new vehicle mods!<br></li><li>The score is your destiny: go for glory, a new home or survival in a quest for galactic glory!<br></li><li>Command a rebel rebel fleet and save yourself from losing everything you own! <br></li><li>You can earn rewards from killing evil foes on your way to an afterlife.<br></li><li>Your crewmates will always protect you – not only is the loyal soldier alive, but you too can learn to stand against the oppressive forces of the galaxy. <br></li><li>Don't let your crewmates get away from you – whether you are trapped on an abandoned space station, captive on a shipwreck or forgotten and forgotten by your superiors. A scavenger or warlord can claim their revenge at your disposal. <br></li><li>Drifting through a randomly generated galaxy, Spelunky 2 has a wide variety of turn based, random level mechanics, events and missions to explore, gather and learn about in order to advance the story.</li></ul>\n",
            "====================\n",
            "\n",
            "<|startoftext|>Spelunky 2 is the sequel of the most acclaimed rogue-like platformer of all-time!<br><br><strong>Features:</strong><br>- Deadly traps and hidden objects.<br>- Game engine based on two distinct realities.<br>- Expansive levels where the elements come from multiple sources.<br>- Ambient soundscape. (Screaming, breath-holding, an exploding tree branch, etc.)<br>- Maps based on locations from the original Spelunky.<br>- Free play with a gamemode and a matchmaking-ready server.<br>- New hero, character, enemy, weapon, and item combinations.<br>- Updated bots. (Can now use a robot turret instead of a fighter)<br>- New levels, soundtrack, animations, and dialogue.\n",
            "====================\n",
            "\n"
          ],
          "name": "stdout"
        }
      ]
    }
  ]
}