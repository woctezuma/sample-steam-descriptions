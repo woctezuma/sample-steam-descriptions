{
  "nbformat": 4,
  "nbformat_minor": 0,
  "metadata": {
    "colab": {
      "name": "gpt_2_for_descriptions.ipynb",
      "version": "0.3.2",
      "provenance": [],
      "collapsed_sections": []
    },
    "kernelspec": {
      "name": "python3",
      "display_name": "Python 3"
    },
    "accelerator": "GPU"
  },
  "cells": [
    {
      "metadata": {
        "id": "5u6MjGQAuzWN",
        "colab_type": "text"
      },
      "cell_type": "markdown",
      "source": [
        "# Sample Steam Store Descriptions with GPT-2\n",
        "Code inspired from https://github.com/woctezuma/sample-steam-descriptions"
      ]
    },
    {
      "metadata": {
        "id": "2KjP9yVVveN1",
        "colab_type": "text"
      },
      "cell_type": "markdown",
      "source": [
        "## Setting the GPT-2 model"
      ]
    },
    {
      "metadata": {
        "colab_type": "text",
        "id": "A1zEYHxh304_"
      },
      "cell_type": "markdown",
      "source": [
        "Install the Python package\n",
        "\n",
        "Reference: https://github.com/minimaxir/gpt-2-simple"
      ]
    },
    {
      "metadata": {
        "id": "_1ruwgwCuEHd",
        "colab_type": "code",
        "outputId": "f8204627-9948-4d6b-9e1c-789131d5dd17",
        "colab": {
          "base_uri": "https://localhost:8080/",
          "height": 182
        }
      },
      "cell_type": "code",
      "source": [
        "!pip install gpt_2_simple"
      ],
      "execution_count": 30,
      "outputs": [
        {
          "output_type": "stream",
          "text": [
            "Requirement already satisfied: gpt_2_simple in /usr/local/lib/python3.6/dist-packages (0.2)\n",
            "Requirement already satisfied: tqdm in /usr/local/lib/python3.6/dist-packages (from gpt_2_simple) (4.28.1)\n",
            "Requirement already satisfied: regex in /usr/local/lib/python3.6/dist-packages (from gpt_2_simple) (2018.1.10)\n",
            "Requirement already satisfied: requests in /usr/local/lib/python3.6/dist-packages (from gpt_2_simple) (2.18.4)\n",
            "Requirement already satisfied: numpy in /usr/local/lib/python3.6/dist-packages (from gpt_2_simple) (1.16.2)\n",
            "Requirement already satisfied: urllib3<1.23,>=1.21.1 in /usr/local/lib/python3.6/dist-packages (from requests->gpt_2_simple) (1.22)\n",
            "Requirement already satisfied: certifi>=2017.4.17 in /usr/local/lib/python3.6/dist-packages (from requests->gpt_2_simple) (2019.3.9)\n",
            "Requirement already satisfied: idna<2.7,>=2.5 in /usr/local/lib/python3.6/dist-packages (from requests->gpt_2_simple) (2.6)\n",
            "Requirement already satisfied: chardet<3.1.0,>=3.0.2 in /usr/local/lib/python3.6/dist-packages (from requests->gpt_2_simple) (3.0.4)\n"
          ],
          "name": "stdout"
        }
      ]
    },
    {
      "metadata": {
        "id": "nTkq7wEQwEkZ",
        "colab_type": "text"
      },
      "cell_type": "markdown",
      "source": [
        "Download the pre-trained model"
      ]
    },
    {
      "metadata": {
        "id": "_pdkhHU6wd12",
        "colab_type": "code",
        "colab": {}
      },
      "cell_type": "code",
      "source": [
        "import gpt_2_simple as gpt2\n",
        "from datetime import datetime\n",
        "from google.colab import files"
      ],
      "execution_count": 0,
      "outputs": []
    },
    {
      "metadata": {
        "id": "0ggC2Mc75BnB",
        "colab_type": "text"
      },
      "cell_type": "markdown",
      "source": [
        "## Downloading GPT-2"
      ]
    },
    {
      "metadata": {
        "id": "_-If30nT4ZCb",
        "colab_type": "code",
        "outputId": "46587e89-e155-44d0-f0de-a491b316ee34",
        "colab": {
          "base_uri": "https://localhost:8080/",
          "height": 146
        }
      },
      "cell_type": "code",
      "source": [
        "gpt2.download_gpt2()"
      ],
      "execution_count": 0,
      "outputs": [
        {
          "output_type": "stream",
          "text": [
            "Fetching checkpoint: 1.00kit [00:00, 353kit/s]                                                      \n",
            "Fetching encoder.json: 1.04Mit [00:00, 49.2Mit/s]                                                   \n",
            "Fetching hparams.json: 1.00kit [00:00, 417kit/s]                                                    \n",
            "Fetching model.ckpt.data-00000-of-00001: 498Mit [00:06, 72.5Mit/s]                                  \n",
            "Fetching model.ckpt.index: 6.00kit [00:00, 2.25Mit/s]                                               \n",
            "Fetching model.ckpt.meta: 472kit [00:00, 38.8Mit/s]                                                 \n",
            "Fetching vocab.bpe: 457kit [00:00, 36.7Mit/s]                                                       \n"
          ],
          "name": "stderr"
        }
      ]
    },
    {
      "metadata": {
        "id": "AkpviYXh4tHL",
        "colab_type": "text"
      },
      "cell_type": "markdown",
      "source": [
        "## Mounting Google Drive"
      ]
    },
    {
      "metadata": {
        "id": "0D4hzKfk4rIp",
        "colab_type": "code",
        "outputId": "2217e4d5-5ca6-4faa-cad9-6f9d5fdc5bdb",
        "colab": {
          "base_uri": "https://localhost:8080/",
          "height": 35
        }
      },
      "cell_type": "code",
      "source": [
        "gpt2.mount_gdrive()"
      ],
      "execution_count": 32,
      "outputs": [
        {
          "output_type": "stream",
          "text": [
            "Drive already mounted at /content/drive; to attempt to forcibly remount, call drive.mount(\"/content/drive\", force_remount=True).\n"
          ],
          "name": "stdout"
        }
      ]
    },
    {
      "metadata": {
        "id": "e9sI2rah5OyB",
        "colab_type": "text"
      },
      "cell_type": "markdown",
      "source": [
        "## Uploading a Text File to be Trained to Colaboratory"
      ]
    },
    {
      "metadata": {
        "colab_type": "text",
        "id": "d3NlwR97DRGt"
      },
      "cell_type": "markdown",
      "source": [
        "#### Either get the data by yourself"
      ]
    },
    {
      "metadata": {
        "id": "u6h_g-wpDSSh",
        "colab_type": "text"
      },
      "cell_type": "markdown",
      "source": [
        "Currently not possible because you:\n",
        "-   either need app details (slow to download),\n",
        "-   or aggregate.json (stored with Git LFS, not installed on Google Colab.)"
      ]
    },
    {
      "metadata": {
        "id": "7LPbkB998g-B",
        "colab_type": "text"
      },
      "cell_type": "markdown",
      "source": [
        "#### Or get a data snapshot from me"
      ]
    },
    {
      "metadata": {
        "id": "FIR9fBid5U2w",
        "colab_type": "code",
        "outputId": "7570163e-0566-455c-c194-08ff750d553b",
        "colab": {
          "base_uri": "https://localhost:8080/",
          "height": 72
        }
      },
      "cell_type": "code",
      "source": [
        "!curl -O https://raw.githubusercontent.com/woctezuma/sample-steam-descriptions/master/data/concatenated_store_descriptions.txt"
      ],
      "execution_count": 0,
      "outputs": [
        {
          "output_type": "stream",
          "text": [
            "  % Total    % Received % Xferd  Average Speed   Time    Time     Time  Current\n",
            "                                 Dload  Upload   Total   Spent    Left  Speed\n",
            "100 43.1M  100 43.1M    0     0  51.8M      0 --:--:-- --:--:-- --:--:-- 51.7M\n"
          ],
          "name": "stdout"
        }
      ]
    },
    {
      "metadata": {
        "id": "AjmpOgoa5y7Q",
        "colab_type": "text"
      },
      "cell_type": "markdown",
      "source": [
        "## Finetune GPT-2"
      ]
    },
    {
      "metadata": {
        "id": "7WDz30tL5-yf",
        "colab_type": "code",
        "colab": {}
      },
      "cell_type": "code",
      "source": [
        "file_name = 'concatenated_store_descriptions.txt'\n",
        "\n",
        "run_name = 'descriptions'"
      ],
      "execution_count": 0,
      "outputs": []
    },
    {
      "metadata": {
        "id": "Bfg4HYZl56JJ",
        "colab_type": "code",
        "outputId": "b8c5db70-77f3-4532-fa96-106404612815",
        "colab": {
          "base_uri": "https://localhost:8080/",
          "height": 1837
        }
      },
      "cell_type": "code",
      "source": [
        "sess = gpt2.start_tf_sess()\n",
        "\n",
        "gpt2.finetune(sess,\n",
        "              run_name=run_name,\n",
        "              dataset=file_name,\n",
        "              steps=5000,\n",
        "              restore_from='latest',   # change to 'latest' to resume training\n",
        "              print_every=10,   # how many steps between printing progress\n",
        "              sample_every=200,   # how many steps to print a demo sample\n",
        "              save_every=500   # how many steps between saving checkpoint              \n",
        "              )"
      ],
      "execution_count": 0,
      "outputs": [
        {
          "output_type": "stream",
          "text": [
            "WARNING:tensorflow:From /usr/local/lib/python3.6/dist-packages/tensorflow/python/framework/op_def_library.py:263: colocate_with (from tensorflow.python.framework.ops) is deprecated and will be removed in a future version.\n",
            "Instructions for updating:\n",
            "Colocations handled automatically by placer.\n",
            "WARNING:tensorflow:From /usr/local/lib/python3.6/dist-packages/gpt_2_simple/src/sample.py:51: to_float (from tensorflow.python.ops.math_ops) is deprecated and will be removed in a future version.\n",
            "Instructions for updating:\n",
            "Use tf.cast instead.\n",
            "WARNING:tensorflow:From /usr/local/lib/python3.6/dist-packages/gpt_2_simple/src/sample.py:53: multinomial (from tensorflow.python.ops.random_ops) is deprecated and will be removed in a future version.\n",
            "Instructions for updating:\n",
            "Use tf.random.categorical instead.\n",
            "WARNING:tensorflow:From /usr/local/lib/python3.6/dist-packages/tensorflow/python/ops/math_ops.py:3066: to_int32 (from tensorflow.python.ops.math_ops) is deprecated and will be removed in a future version.\n",
            "Instructions for updating:\n",
            "Use tf.cast instead.\n",
            "WARNING:tensorflow:From /usr/local/lib/python3.6/dist-packages/tensorflow/python/ops/math_grad.py:102: div (from tensorflow.python.ops.math_ops) is deprecated and will be removed in a future version.\n",
            "Instructions for updating:\n",
            "Deprecated in favor of operator or tf.math.divide.\n",
            "Loading checkpoint checkpoint/descriptions/model-4400\n",
            "WARNING:tensorflow:From /usr/local/lib/python3.6/dist-packages/tensorflow/python/training/saver.py:1266: checkpoint_exists (from tensorflow.python.training.checkpoint_management) is deprecated and will be removed in a future version.\n",
            "Instructions for updating:\n",
            "Use standard file APIs to check for files with this prefix.\n",
            "INFO:tensorflow:Restoring parameters from checkpoint/descriptions/model-4400\n"
          ],
          "name": "stdout"
        },
        {
          "output_type": "stream",
          "text": [
            "\r  0%|          | 0/1 [00:00<?, ?it/s]"
          ],
          "name": "stderr"
        },
        {
          "output_type": "stream",
          "text": [
            "Loading dataset...\n"
          ],
          "name": "stdout"
        },
        {
          "output_type": "stream",
          "text": [
            "\r100%|██████████| 1/1 [01:07<00:00, 67.52s/it]\n"
          ],
          "name": "stderr"
        },
        {
          "output_type": "stream",
          "text": [
            "dataset has 11714797 tokens\n",
            "Training...\n",
            "[4410 | 29.48] loss=2.49 avg=2.49\n",
            "[4420 | 53.68] loss=2.30 avg=2.39\n",
            "[4430 | 79.21] loss=2.24 avg=2.34\n",
            "[4440 | 104.01] loss=1.93 avg=2.24\n",
            "[4450 | 128.61] loss=2.39 avg=2.27\n",
            "[4460 | 153.61] loss=2.37 avg=2.29\n",
            "[4470 | 178.75] loss=2.09 avg=2.26\n",
            "[4480 | 203.44] loss=2.32 avg=2.27\n",
            "[4490 | 228.39] loss=2.39 avg=2.28\n",
            "Saving checkpoint/descriptions/model-4500\n",
            "[4500 | 257.82] loss=2.33 avg=2.29\n",
            "[4510 | 282.55] loss=2.11 avg=2.27\n",
            "[4520 | 307.87] loss=2.40 avg=2.28\n",
            "[4530 | 332.64] loss=2.37 avg=2.29\n",
            "[4540 | 357.30] loss=2.22 avg=2.28\n",
            "[4550 | 382.31] loss=2.58 avg=2.30\n",
            "[4560 | 407.52] loss=2.08 avg=2.29\n",
            "[4570 | 432.24] loss=2.09 avg=2.28\n",
            "[4580 | 457.02] loss=2.09 avg=2.26\n",
            "[4590 | 482.12] loss=2.28 avg=2.27\n",
            "======== SAMPLE 1 ========\n",
            "ory</li></ul><br><img src=\"https://steamcdn-a.akamaihd.net/steam/apps/996940/extras/Banner_1.png?t=1554245910\" ><br><br>Fishing: Ecosystem, is a singleplayer fishing simulator. <strong>The game is extremely easy to play with high difficulty.</strong>.  In Fish, players control one fish.  By using your favorite fish and fishing techniques, you can catch lots of fish. You don’t have to do too much work though, it’s just your fish.  Fishing is done in a very relaxing way.  Fish are very friendly, quick to learn, and the more you practice, the better your catches are. And all the while the fish stays in the water for long (around 10-12 hours).<br><br>Players can choose several fish.  Different types of fish:<br><ul class=\"bb_ul\"><li><strong>Chicken</strong> - A well known type of fish, like chicken bones, chicken bellies and chicken feet.  <br></li><li><strong>Cockle</strong> - A smaller type of fish, that lives in the bottom. <br></li><li><strong>Sea Fox</strong> - Larger fish and is better at catching and eating fish. This can create a lot of stress and frustration for your fish. The more you work in the game, the easier it gets.<br></li><li><strong>Laffusia</strong> - Small fish like fish and rays that usually don't have time to work.  <br></li><li><strong>Lapin</strong> - A smaller fish like fish that lives in the bottom.  <br></li><li><strong>Pheasant</strong> - Small fish like fish and rays that usually don’t have time to work.  <br></li><li><strong>Panther</strong> - Small fish like fish and ray that usually don’t have time to work.  <br></li><li><strong>Parrot</strong> - Large fish like fish and rays that usually don’t have time to work.  <br></li><li><strong>Bark</strong> - Small fish like fish and ray that usually don't have time to work.  <br></li><li><strong>Pigtail</strong> - Small fish like fish and ray that usually don’t have time to work.  <br></li><li><strong>Longhorn</strong> - Small fish like fish and rays that usually don’t have time to work.  <br></li><li><strong>Sheep</strong> - Small fish like fish and ray that usually don’t have time to work.  <br></li><li><strong>Jack-of-all-trades</strong> - Small fish like fish and rays that usually don’t have time to work.  <br></li><li><strong>Labrador Retriever</strong> - Small fish like fish and rays that usually don’t have time to work.  <br></li><li><strong>Labrador Retriever</strong> - Small fish like fish and rays that usually don’t have time to work.  <Bracken Retriever</strong> - Small fish like fish and rays that usually don’t have time to work.  <br></li><li><strong>Gardening</strong> - A small fish like fish and rays that usually don’t have time to work.  <br></li><li><strong>Labrador Retriever</strong> - Small fish like fish and rays that usually don’t have time to work. </li></ul>\n",
            "<strong>The Complete Edition of “Mister Wrench: The Mister Wrench”</strong><br><br>Welcome to the mansion of one mad scientist, “Mister Wrench”! <br><br>In this first chapter in the “Mister Wrench” series of games, you play Mister, a doctor who has been on the hospital's most secret assassination attempt for more than five decades. Your task is to eliminate those responsible for the death of John F., but you quickly learn that you can only do it on a case-by-case basis.<br><br><strong>“Master Wrench: The Mister Wrench®”</strong><br><br>Key Features<br><ul class=\"bb_ul\"><li>A unique combination of mystery, suspense and comedy filled gameplay<br></li><li>An action-packed singleplayer campaign with the original �\n",
            "\n",
            "[4600 | 519.77] loss=2.50 avg=2.28\n",
            "[4610 | 544.67] loss=2.62 avg=2.30\n",
            "[4620 | 569.51] loss=2.23 avg=2.29\n",
            "[4630 | 594.22] loss=2.23 avg=2.29\n",
            "[4640 | 619.26] loss=2.33 avg=2.29\n",
            "[4650 | 644.45] loss=2.20 avg=2.29\n",
            "[4660 | 669.18] loss=2.10 avg=2.28\n",
            "[4670 | 694.03] loss=2.00 avg=2.27\n",
            "[4680 | 719.32] loss=2.17 avg=2.26\n",
            "[4690 | 744.14] loss=1.83 avg=2.25\n",
            "[4700 | 768.86] loss=2.23 avg=2.25\n",
            "[4710 | 793.99] loss=2.17 avg=2.24\n",
            "[4720 | 818.90] loss=2.45 avg=2.25\n",
            "[4730 | 843.62] loss=2.43 avg=2.26\n",
            "[4740 | 868.67] loss=2.27 avg=2.26\n",
            "[4750 | 893.63] loss=2.37 avg=2.26\n",
            "[4760 | 918.40] loss=2.45 avg=2.27\n",
            "[4770 | 943.24] loss=2.29 avg=2.27\n",
            "[4780 | 968.17] loss=2.53 avg=2.28\n",
            "[4790 | 992.99] loss=2.43 avg=2.28\n",
            "======== SAMPLE 1 ========\n",
            "pacos_4\" target=\"_blank\" rel=\"noreferrer\"  >https://steamcommunity.com/linkfilter/?url=https://www.facebook.com/VVN_Games</a></strong>\n",
            "An epic adventure full of challenges, humor and stunning graphics as you explore the world of Zula!<br>After a very exciting development process, this final version will be published with a huge amount of content in the final version!<br>We have been continuously working towards adding many more content, from improvements to the game (e.g. more creatures and weapons) to improvements to make it even better, in order to make the final version even more enjoyable!  We have not included many features for the player's enjoyment, but you can play your favorite creatures from the Zula game!<br>The game is currently in Early Access stage and is in danger of being closed down for full development.<br>After the final version is released, all platforms (including mobile) will support Zula!<br>So if you have any questions or feedbacks, we encourage you to share it with us in our social network!<br><br><strong>About the game:</strong><br>Zula is an Adventure Game about a world filled with monsters and mysteries and this is where it all starts! <br>The world of Zula is full of mysteries, characters, locations and the characters have many parts to them, you will find them all on your own journey!<br>At this time its a Early Access, we don't intend to wait any more, because we want you to share with us!<br><br><img src=\"https://steamcdn-a.akamaihd.net/steam/apps/514860/extras/Zula_Final.jpg?t=1534663093\" ><br><br>This game contains many levels. Every level starts small, the journey can expand as you play, sometimes death in the process becomes the key to finally reach the big goal! This game is meant to be experienced by as many players as possible, if you get bored with any levels, please make sure to unlock them for free, if you are a player but have your head still shaking we will send them back to their home country if they are too stubborn! If you have any requests let us know through our social network, or even in the community forum, we would love for you to enjoy the game to the fullest! That way all your purchase would go directly to the development of the game, and not just some extra goodies for you to spend!\n",
            "In <strong>Starlord: The Ascension</strong>, a massive multiplayer game in which you guide the armies of an ancient alien civilization toward victory against your foes. With over 60 types of enemies, more than 2,500 weapons, hundreds of characters, and hundreds of vehicles, the Ascension campaign offers a huge battle simulation experience, complete with quests, new ships and units, and massive maps.<h2 class=\"bb_tag\">Key Features</h2><br><ul class=\"bb_ul\"><li>Over 60 different units<br></li><li>Over 60 different types of enemies, weapons and vehicles<br></li><li>Hundreds of different battle maps<br></li><li>Play with your friends with custom maps<br></li><li>New races and ships: more than 40 different race and unit types<br></li><li>Steam achievements<br></li><li>In-game tips and tricks</li></ul><br>The game is a must for every PvP gaming group, whether playing online with friends, competing in multiplayer, or just trying to improve your skills in competitive tournaments.<h2 class=\"bb_tag\">Starlord: The Ascension</h2>The first game to be launched on Steam; now with improved features, more weapons, more ships, more maps, more characters, better missions, and more of the new playable races and units! And more quests!\n",
            "Animated Kingdoms is a role-playing game set in the early history of the Roman Empire. The story follows the adventures of Marcus Tiberius and his young son Colos, as they battle and conquer enemies in a quest for vengeance against the infamous Roman tyrant Nicanor.  The main character's story begins in the year 14 BC, where it goes to great lengths to find out who the dictator's father was.  This leads him down a dark path of tragedy, and ultimately to his eventual defeat.<br><img src=\"https://steamcdn-a.akamaihd.net/steam/apps/513000/extras/Story.jpg?t=1546617686\" > <br>Marcus is suddenly kidnapped. His son is missing. The plot thickens and more horrible things start happening, such as war, economic collapse, rebellion, and civil war. There isn't\n",
            "\n",
            "[4800 | 1028.69] loss=2.37 avg=2.28\n",
            "[4810 | 1053.44] loss=1.97 avg=2.27\n",
            "[4820 | 1078.15] loss=1.87 avg=2.26\n",
            "[4830 | 1103.06] loss=2.22 avg=2.26\n",
            "[4840 | 1128.10] loss=1.98 avg=2.25\n",
            "[4850 | 1152.85] loss=2.00 avg=2.25\n",
            "[4860 | 1177.57] loss=2.22 avg=2.25\n",
            "[4870 | 1202.53] loss=2.07 avg=2.24\n",
            "[4880 | 1227.46] loss=2.26 avg=2.24\n",
            "[4890 | 1252.20] loss=2.05 avg=2.24\n",
            "[4900 | 1277.07] loss=2.28 avg=2.24\n",
            "[4910 | 1302.24] loss=2.31 avg=2.24\n",
            "[4920 | 1326.98] loss=2.36 avg=2.24\n",
            "[4930 | 1351.76] loss=2.44 avg=2.25\n",
            "[4940 | 1376.97] loss=2.33 avg=2.25\n",
            "[4950 | 1401.85] loss=2.24 avg=2.25\n",
            "[4960 | 1426.59] loss=2.20 avg=2.25\n",
            "[4970 | 1451.72] loss=2.25 avg=2.25\n",
            "[4980 | 1476.65] loss=2.53 avg=2.25\n",
            "[4990 | 1501.32] loss=2.05 avg=2.25\n",
            "Saving checkpoint/descriptions/model-5000\n",
            "WARNING:tensorflow:From /usr/local/lib/python3.6/dist-packages/tensorflow/python/training/saver.py:966: remove_checkpoint (from tensorflow.python.training.checkpoint_management) is deprecated and will be removed in a future version.\n",
            "Instructions for updating:\n",
            "Use standard file APIs to delete files with this prefix.\n"
          ],
          "name": "stdout"
        }
      ]
    },
    {
      "metadata": {
        "id": "NAyu3yNP6Uls",
        "colab_type": "code",
        "colab": {
          "base_uri": "https://localhost:8080/",
          "height": 35
        },
        "outputId": "ebbde33f-a22a-438f-93d3-0d72d5af7dcb"
      },
      "cell_type": "code",
      "source": [
        "from google.colab import drive\n",
        "\n",
        "mount_folder = '/content/gdrive'\n",
        "drive.mount(mount_folder)"
      ],
      "execution_count": 7,
      "outputs": [
        {
          "output_type": "stream",
          "text": [
            "Drive already mounted at /content/gdrive; to attempt to forcibly remount, call drive.mount(\"/content/gdrive\", force_remount=True).\n"
          ],
          "name": "stdout"
        }
      ]
    },
    {
      "metadata": {
        "id": "NpbP2iERGfu5",
        "colab_type": "code",
        "colab": {}
      },
      "cell_type": "code",
      "source": [
        "# !mkdir -p '/content/gdrive/My Drive/checkpoint/'\n",
        "# !cp -r checkpoint/descriptions '/content/gdrive/My Drive/checkpoint/'\n",
        "\n",
        "# gpt2.copy_checkpoint_to_gdrive()"
      ],
      "execution_count": 0,
      "outputs": []
    },
    {
      "metadata": {
        "id": "BEwkRvCn6XZW",
        "colab_type": "text"
      },
      "cell_type": "markdown",
      "source": [
        "## Load a Trained Model Checkpoint"
      ]
    },
    {
      "metadata": {
        "id": "dELSgpoC6Z-O",
        "colab_type": "code",
        "colab": {}
      },
      "cell_type": "code",
      "source": [
        "# !mkdir -p checkpoint/\n",
        "# !cp -r '/content/gdrive/My Drive/checkpoint/descriptions' checkpoint/\n",
        "\n",
        "# gpt2.copy_checkpoint_from_gdrive()"
      ],
      "execution_count": 0,
      "outputs": []
    },
    {
      "metadata": {
        "id": "dqDaWVAo6cn9",
        "colab_type": "code",
        "colab": {}
      },
      "cell_type": "code",
      "source": [
        "# sess = gpt2.start_tf_sess()\n",
        "\n",
        "# gpt2.load_gpt2(sess,\n",
        "#                run_name=run_name)"
      ],
      "execution_count": 0,
      "outputs": []
    },
    {
      "metadata": {
        "id": "vX8KFoKR6g-o",
        "colab_type": "text"
      },
      "cell_type": "markdown",
      "source": [
        "## Generate Text From The Trained Model"
      ]
    },
    {
      "metadata": {
        "id": "KYC30GEi6kPv",
        "colab_type": "code",
        "outputId": "0d2df61d-8737-40a6-9f52-fbda010f387e",
        "colab": {
          "base_uri": "https://localhost:8080/",
          "height": 313
        }
      },
      "cell_type": "code",
      "source": [
        "num_samples = 3\n",
        "num_batches = 3 # Unique to GPT-2, you can pass a batch_size to generate multiple samples in parallel, giving a massive speedup.\n",
        "\n",
        "gpt2.generate(sess,\n",
        "              run_name=run_name,\n",
        "              nsamples=num_samples,\n",
        "              batch_size=num_batches)"
      ],
      "execution_count": 0,
      "outputs": [
        {
          "output_type": "stream",
          "text": [
            "</strong><br><br>You are a survivor of the substance crash and the crash accident, you have been evacuated to a hospital. The hospital is a huge building big enough to accommodate as many people as you can fit inside. After a while, you notice that there is no one left. You can continue to explore the hospital and find clues to get a little information. You are given a chance to get a bag of supplies, but soon you find that no one has left the hospital and there is nothing left to do. You are given a chance to get a flashlight and to get out. You find yourself in a forest, which you can't see, you have no idea what is happening and you don't know how to get out. You find a room that is inhabited by a girl. She doesn't speak much but she tells you that she is a survivor of the substance crash and the crash accident. She explains that she has been evacuated to a hospital. She also says that she has no memory of what happened to her. She is a survivor of the crash and the accident.\n",
            "They say you can't imagine that feeling when you are waiting for a train to arrive. It is a classic point &amp; click adventure, but it still feels very real, with the world you've visited in hand. You've been given one choice - either to travel to a haven in the mountains, or to find a way out, or to find a reason to be on a train.<br><br>This is a game made for the Virtual Reality, where a view can be changed at any time. It's a game that you won't hesitate to look at it from a different perspective. The game is made to be played by your friends, not against them. It's not for everyone, however, it is for everyone, and you can play it with them!<h2 class=\"bb_tag\">Features:</h2><ul class=\"bb_ul\"><li>No micro transactions<br></li><li>Simple controls<br></li><li>Great soundtrack<br></li><li>Achievements<br></li><li>Steam Trading Cards<br></li><li>Steam Achievements</li></ul>\n",
            "<strong>Alice is a short story with a twist: she's a child, and you are her guardian!</strong><br><br>Orbital Drift is a puzzle game that allows you to control a ship, and jump through a series of beautiful and strangely-shaped curves. The game is designed to be played with or without VR, and you can interact with objects by grabbing, rotating and zooming your ship. The game uses an innovative physics system that allows you to move objects in space, and position them in any desired configuration with the help of the ships' physics. You can also place obstacles such as lasers, bombs, and bombs with the help of the procedural tool belt.<br><br>Discover the history of the world of Orbital Drift in the full game, and have fun with the game in it's unique 3D rendering features. In the game, you will be able to embark on an adventure that will take you far from vast, desolate worlds, and explore the strange and mysterious worlds of Orbital Drift. <br><br><strong>Features</strong><br><br>•\t3D, physics-based puzzle gameplay<br>•\tBeautiful 3D environments<br>•\tBeautiful, 3D ships<br>•\tShadowing, 3D planes<br>•\tAdvanced physics system<br>•\tBeautiful, 3D puzzles<br>•\tBeautiful artwork<br>•\tHumorous characters<br>•\tAchievements<br>•\tSteam Trading Cards<br>•\tSteam Achievements<br>•\tSteam Cloud<br>•\tSteam Profile\n",
            "<img src=\"https://steamcdn-a.akamaihd.net/steam/apps/813300/extras/THE_STORY.gif?t=1554392532\" ><br><br>A century ago, a group of explorers, who had explored the world for many years, found a new planet that became an uninhabitable desert, and the only civilization that existed there. Those explorers, who were the only ones who could find a new home in the desert, ended up in a strange world.<br><br>Now, a new, new world is waiting for you. You are one of them - an unfamiliar world, which is absorbed in the texture of a small, white substance. The new world is known as the Desert, and the desert is its source of life.<br><br>Each of you - a lone explorer, a lone mountain goat, a lone bison, and a lone snow leopard - is a part of a group that travels between the vast expanse of the desert, trying to find a new home.\n",
            "====================\n",
            "\n",
            "War Machine: The Wizardry</strong> is a digital conversion of the first game in the award-winning &quot;War Machine: The Wizardry&quot; series.<br><br><strong><h2 class=\"bb_tag\">Features:</h2></strong><br><ul class=\"bb_ul\"><li>Fast-paced, turn based combat<br></li><li>Diverse battle styles across 5 different scenarios<br></li><li>Unlock and play new characters<br></li><li>Use unique skill sets, weapons and abilities to adapt to the game<br></li><li>Variety of items, spells and new skills</li></ul><br><strong><h2 class=\"bb_tag\">Q: Will digital conversion work?</h2></strong><br>We are the only ones who can create the ultimate version of War Machine. We are working hard on a complete conversion. Every copy of the game can be bought and we will work on it as soon as possible. Thank you for your support and we hope you enjoy playing the game!<br><br><strong><h2 class=\"bb_tag\">Q: Will the digital version of War Machine work?</h2></strong><br>We do our best and we are always listening to player suggestions. We will continue to add new features in order to make War Machine the best version we can possibly make it. You can tell us your thoughts in our forum: <a href=\"https://steamcommunity.com/app/803670/discussions/0/1779831363148225617/\" target=\"_blank\" rel=\"noreferrer\"  >https://steamcommunity.com/app/803670/discussions/0/1779831363148225617/</a><br><br><strong><h2 class=\"bb_tag\">Q: Will the digital version of War Machine work?</h2></strong><br>We are currently working on a digital conversion. We are currently working on a digital conversion. You can tell us your thoughts in our forum: <a href=\"https://steamcommunity.com/app/803670/discussions/0/1779831363148225615/\" target=\"_blank\" rel=\"noreferrer\"  >https://steamcommunity.com/app/803670/discussions/0/1779831363148225615/</a><br><br><strong><h2 class=\"bb_tag\">Q: Will the digital version of War Machine work?</h2></strong><br>We are currently working on a digital conversion. We are currently working on a digital conversion. You can tell us your thoughts in our forum: <a href=\"https://steamcommunity.com/app/803670/discussions/0/1779831363148225615/\" target=\"_blank\" rel=\"noreferrer\"  >https://steamcommunity.com/app/803670/discussions/0/1779831363148225615/</a><br><br><strong><h2 class=\"bb_tag\">Q: Will the digital version of War Machine work?</h2></strong><br>We are currently working on a digital conversion. We are currently working on a digital conversion. You can tell us your thoughts in our forum: <a href=\"https://steamcommunity.com/app/803670/discussions/0/1779831363148225615/\" target=\"_blank\" rel=\"noreferrer\"  >https://steamcommunity.com/app/803670/discussions/0/1779831363148225615/</a><br><br><strong><h2 class=\"bb_tag\">Q: Will the digital version of War Machine work?</h2></strong><br>We are currently working on a digital conversion. We are currently working on a digital conversion. You can tell us your thoughts in our forum: <a href=\"https://steamcommunity.com/app/803670/discussions/0/1779831363148225615/\" target=\"_blank\" rel=\"noreferrer\"  >https://steamcommunity.com/app/803670/discussions/0/1779831363148225615/</a><br><br><strong><h2 class=\"bb_tag\">Q: Will the digital version of War Machine work?</h2></strong><br>We are currently working on a digital conversion. We are currently working on a digital conversion. You can tell us your thoughts in our forum: <a href=\"https://steamcommunity.com/app/803670/discussions/0/17\n",
            "====================\n",
            "\n",
            " class=\"bb_tag\">Features</h2><ul class=\"bb_ul\"><li> Tactical, strategic, and tactical game play.<br></li><li> 5 Unique Units to train, each with specific strengths and weaknesses.<br></li><li> Build your armies with dozens of different units.<br></li><li> Build your economy.<br></li><li> Supply your armies with weapons, armor and more.<br></li><li> Train your armies with a variety of units.<br></li><li> Expand your territories with cities, castles, mining and siege engines.<br></li><li> Conquer the world by conquering your opponents.<br></li><li> Create your own armies and nations and build them using the powerful custom army builder.</li></ul>\n",
            "<img src=\"https://steamcdn-a.akamaihd.net/steam/apps/810470/extras/eng.png?t=1528574380\" ><br><br>Flux Train is a high speed, competitive, <strong>fast-paced</strong> flight game. Think of it as <strong>flight school</strong>.<br><br>Fly fast and <strong>fight</strong> your way through the game, collecting upgrades to your fighter.<br><br>You will pilot your fighter in a variety of levels. At each level you will earn XP and your power will be upgraded. <br><br>You can choose from <strong>various</strong> jetpacks, <strong>skis</strong>, <strong>tail-docking</strong> and <strong>overhead</strong> aircraft.<br><br>The game has a wide array of levels and game modes, and will be <strong>full-featured</strong> with an impressive array of game physics and <strong>customization</strong>.<br><br><img src=\"https://steamcdn-a.akamaihd.net/steam/apps/810470/extras/eng.png?t=1528574380\" ><br><br>Flux Train will have players flying through the sky and battling each other with a wide array of <strong>fibbage</strong> after garbage flying.<br><br><img src=\"https://steamcdn-a.akamaihd.net/steam/apps/810470/extras/eng.png?t=1528574380\" ><br><br>Flux Train will be <strong>updated</strong> with new content, new levels and new game modes.<br><br><img src=\"https://steamcdn-a.akamaihd.net/steam/apps/810470/extras/eng.png?t=1528574380\" ><br><br><a href=\"https://steamcommunity.com/linkfilter/?url=https://springboardvr.com?game_verification=5690fc0-34a0-11e9-8f3e-f9c96fba22fc\" target=\"_blank\" rel=\"noopener\"  ><img src=\"https://steamcdn-a.akamaihd.net/steam/apps/810470/extras/banner2.png?t=1528574380\" ></a>\n",
            "<img src=\"https://steamcdn-a.akamaihd.net/steam/apps/810480/extras/banner3.png?t=1528574380\" ><br><br>In this retro game you have to help the Professor of the laboratory who collected the eels and knows their truth, to finally discover the secrets of the universe. But be careful, the professor has many secrets and he only wants to do what he can to get his child's biological parents back.<br><br>Features<br><br>- Retro Game<br>- Old School<br>- Cool Sound<br>- Cool Collectibles<br><br>Are you ready to help the Professor of the laboratory?\n",
            "<img src=\"https://steamcdn-a.akamaihd.net/steam/apps/810570/extras/about.png?t=1548593448\" ><br><br>A modern, fully-flowing platformer with a unique and gorgeous art style!<br><br>Explore the world of the Moon in this pixel-art platformer, and solve puzzles to rescue your kidnapped parents from the clutches of the Animal Planet!<br><br>Are you up for the challenge?<br><br><img src=\"https://steamcdn-a.akamaihd.net/steam/apps/810570/extras/gameplay.png?t=154859\n",
            "====================\n",
            "\n"
          ],
          "name": "stdout"
        }
      ]
    },
    {
      "metadata": {
        "id": "jrZBWas662k_",
        "colab_type": "code",
        "outputId": "7ddaede7-17b5-45eb-a78a-fc5b8f757338",
        "colab": {
          "base_uri": "https://localhost:8080/",
          "height": 294
        }
      },
      "cell_type": "code",
      "source": [
        "gpt2.generate(sess,\n",
        "              run_name=run_name,\n",
        "              nsamples=num_samples,\n",
        "              batch_size=num_batches,\n",
        "              prefix='Half-Life 3 is the long-awaited sequel in the Half-Life franchise developped by Valve')"
      ],
      "execution_count": 0,
      "outputs": [
        {
          "output_type": "stream",
          "text": [
            "H-Life 3 is the long-awaited sequel in the Half-Life franchise developped by Valve from the creators of <a href=\"http://store.steampowered.com/app/260080/\" target=\"_blank\" rel=\"noreferrer\"  >Half-Life 2</a> and <a href=\"http://store.steampowered.com/app/280150/\" target=\"_blank\" rel=\"noreferrer\"  >Half-Life 2</a> back in 1998.<br><br>When Valve originally released Half-Life 3 on PC in 2001, the game created numerous critical and commercial successes. <br><br>The game enjoyed critical acclaim from the game community, including:<br><br><ul class=\"bb_ul\"><li> <a href=\"http://www.IGN.com/The-End-of-Life-3-Concept/\" target=\"_blank\" rel=\"noreferrer\"  >IGN.com</a><br></li><li> <a href=\"http://www.pcgamer.com/the-end-of-life-3-concept/\" target=\"_blank\" rel=\"noreferrer\"  >PC Gamer</a><br></li><li> <a href=\"http://www.pcgamer.com/2014/6/the-end-of-life-3-game-final-design-final-work/\" target=\"_blank\" rel=\"noreferrer\"  >PC Gamer</a><br></li><li> <a href=\"http://www.pcgamer.com/2014/6/the-end-of-life-3-final-design/\" target=\"_blank\" rel=\"noreferrer\"  >PC Gamer</a><br></li><li> <a href=\"http://www.pcgamer.com/2014/6/the-end-of-life-3-game-final-design/\" target=\"_blank\" rel=\"noreferrer\"  >PC Gamer</a><br></li><li> <a href=\"http://www.pcgamer.com/2014/6/the-end-of-life-3-game-final-design/\" target=\"_blank\" rel=\"noreferrer\"  >PC Gamer</a></li></ul><br>Full of humor, fun and all around great game, Half-Life 3 is a must-have for all old-school gamers.\n",
            "<strong>TINY MOMENTUM:</strong> is a 2D platformer about a toy robot who was thrown into a space station full of cute robots.<br><br>You play as a toy robot named Minimal and your task is to survive the endless levels. As Minimal, you have to collect all the toy robots to survive. And don't forget the weapons, the robots can be armed, get your personal best or use them to <strong>fight </strong>on your enemies. And don't forget the mode, you can customize your robot and make it your own.<br><br><strong>TINY MOMENTUM:</strong> includes:<br><br>- <strong>DIFFERENT SHOOTING MODES</strong> – We have 5 different shooting modes including Single Shot, Sub-One, Super-One and Super-One.<br><br>- <strong>HUNT</strong> – The most challenging mode is the hunting mode. You can hunt down all the enemies and bosses that you have to defeat to survive.<br><br>- <strong>BRAINS</strong> – You can fight with all the enemies that you can find and collect as well as collect your score.<br><br>- <strong>BALLES</strong> – You can try and shoot balls in different ways and you can also collect Fireballs.<br><br>- <strong>DELUXE</strong> – You can get more energy by collecting and using energy pickups.<br><br><br><strong>GAMEPLAY FEATURES:</strong><br><br>- <strong>IMPROVED NEW GAMEPLAY</strong> – More power-ups.<br><br>- <strong>SIMPLE CONTROLS</strong> – No more typing! You can just press the mouse right click and choose your way.<br><br>- <strong>DESIGNED LEVEL EDITOR</strong> - Single death mode, easy to learn but difficult to master<br><br>- <strong>COMMAND YOUR ROBOT</strong> - Choose your robot from 9 different weapons.<br><br>- <strong>PLAY WITH FRIENDS</strong> - You can play with your friend or play with bots.<br><br>- <strong>TOUCH UP</strong> - You can grab the highest score points by hitting the ground with a ball to get\n",
            "====================\n",
            "\n",
            "H-Life 3 is the long-awaited sequel in the Half-Life franchise developped by Valve for the Steam release. It features the following:<br><br><ul class=\"bb_ul\"><li>Play as a Half-Life character, including new abilities and weapons<br></li><li>Original audio track, including the original song with actor John Carpenter<br></li><li>Play as the player character for the first time as a Half-Life character<br></li><li>Play as the player character for the first time as a Half-Life character<br></li><li>First playable character in Half-Life since the original Half-Life<br></li><li>Play as a Half-Life character for the first time as a Half-Life character<br></li><li>Play as the player character for the first time as a Half-Life character<br></li><li>Play as the player character for the first time as a Half-Life character<br></li><li>Play as the player character for the first time as a Half-Life character<br></li><li>Play as the player character for the first time as a Half-Life character<br></li><li>Play as the player character for the first time as a Half-Life character</li></ul><br><strong>Gameplay features include:</strong><br><br><ul class=\"bb_ul\"><li>Useful utilities: Medi Gun, Hyperspace, Scrap magazine, Accessory to buy new items<br></li><li>Full body locomotion<br></li><li>Interactive objects: Room HUD, Camera, HMD, and HUD panels<br></li><li>Story-based gameplay<br></li><li>Levels with randomized items and items<br></li><li>6 levels with randomly generated areas<br></li><li>3 new multiplayer modes<br></li><li>Survival mode<br></li><li>Additional gameplay features and tools: Weapons, Items, and More<br></li><li>Levels with random items and items<br></li><li>Levels without randomized items and items<br></li><li>Full body locomotion<br></li><li>Levels with randomized items and items<br></li><li>Levels without randomized items and items<br></li><li>New environments: East Coast, West Coast, and South Coast of the United States<br></li><li>New weapon types: Shotgun, Rifle, Handgun, Shotgun, Rifle, Handgun, Shotgun</li></ul>\n",
            "The sequel to Half-Life 2, Half-Life 3: Ace Mission is the sequel to the award-winning videogame that changed the gaming world by adding an entirely new level of freedom to players.  Play as both John and Glenn in the first game, and as both Mike and Mike are on the path to freedom. You play as Mike, a former military officer and sniper, who is now in charge of an elite team of elite agents and the Army. Throughout the game, the player will find many choices that affect the way the story plays out, and will also interact with Mike and Glenn as they progress through the game.  The player will also have the opportunity to explore the world of Half-Life 3 and learn more about the world, characters, and events as they progress.  The game is set in a fictional, open world environment, and the player can choose to play as Mike, Mike, Glenn, or both Mike and Glenn on their own or with one of the two playable characters. \n",
            "<img src=\"https://steamcdn-a.akamaihd.net/steam/apps/342310/extras/InGame_desc_1.png?t=1550044216\" ><br><br><img src=\"https://steamcdn-a.akamaihd.net/steam/apps/342310/extras/InGame_desc_2.png?t=1550044216\" ><br><br><img src=\"https://steamcdn-a.akamaihd.net/steam/apps/342310/extras/InGame_desc_3.png?t=1550044216\" ><br><br><br>In the year 2060 humanity is on the brink of extinction. Humanity is on the brink of extinction. You are a GAMER.  You are the GAMER.  <br><br>You are the GAMER, after all.  And this is the way to be a GAMER.  <br><br>But there is one aspect of you that is NOT a GAMER.  <br><br>You know the difference between GAMING and CHAKING.  <br><br>You know the difference between CHAKING and CHAKING.  <br><br><br><br>You\n",
            "====================\n",
            "\n",
            "H-Life 3 is the long-awaited sequel in the Half-Life franchise developped by Valve.  <br><br> <br>Experience the astonishing return of the Half-Life modding community and share your creations with the world!  <br><br>Half-Life 2 is a sequel to the award-winning game that brought the franchise to life.  <br><br>Thanks for supporting us!   <br><br><strong>Coming Soon:</strong><br><br>Half-Life 2 will be the single-player first person survival game that will allow players to explore the world of Half-Life 3 and become a part of the community.  <br><br>Half-Life 2 will reimagine the groundbreaking game developed by Valve and Valve Studios for the original Half-Life, with new gameplay and gameplay enhancements that will make it the definitive version of the game.  <br><br>We're excited to bring you a new chapter in the Half-Life saga that is more than a sequel, but more than a game, it's a living, breathing community.  <br><br>Half-Life 2 is the official sequel to the award-winning game that brought the franchise to life.  <br><br>Play as one of the original six members of the Half-Life team, including Sam, Gordon, Ivan, Mike, and Gabe Newell.   <br><br>Half-Life 2 will be the first original game to be created by a new studio.  <br><br>Half-Life 2 will be released as a standalone title that will allow users to continue their adventures with the original Half-Life.  <br><br>Half-Life 2 will be released in four different genres:<br><br><ul class=\"bb_ul\"><li>Action <br></li><li>Classics<br></li><li>Simulation <br></li><li>RPG<br></li><li>Strategy <br></li><li>Roguelike <br></li><li>Puzzle Game <br></li><li>RPG <br></li><li>Puzzle Platformer <br></li><li>Real Time Strategy <br></li><li>The Source <br></li><li>Shareware</li></ul><br><img src=\"https://steamcdn-a.akamaihd.net/steam/apps/366910/extras/banner_steam.png?t=1447360356\" >\n",
            "<strong>You'll get a new perspective on the world as you play </strong><br><br>The game is currently in Early Access and is a first/second person action game that will be released as an Early Access title. Our plan is to release the game as many times as we can and to release the game as much as we can.<br><br>I want to make this game as realistic as possible, so we decided to use a real 3rd person perspective.<br><br>There are a lot of things we would like to change in the game as well as in the world. We would like to make it as interesting as possible while still keeping a large amount of content.<br><br>I want to make this game as immersive as possible, so we would like to release the game as much as we can.<br><br>I want to make this game as challenging as possible, so we would like to release the game as much as we can. We would like to make the player feel as if they can get a high score and have fun. We would like to make the player feel as if they need to think about what they're doing. We would like to make the player feel as if they need to think about what they might be doing. We would like to make the player feel as if they need to think about what they're doing.<br><br>I would like to make this game as enjoyable as possible, so we would like to release the game as much as we can. I want to make this game as difficult as possible, so we would like to release the game as much as we can. I want to make the player feel as if they need to feel like they need to think about what they're doing. I would like to make the player feel as if they need to think about what they're doing. I want to make the player feel as if they need to think about what they're doing.\n",
            "<strong>Join the elite squad and make history!</strong><br><br>In this fast-paced, vertical shoot 'em up, you are controlling a squad of mercenaries, armed with a variety of weapons and upgrades. <br><br>Use your unique style of shooting to destroy your enemies and defeat the enemies with your custom, custom-built characters.<br><br>Enjoy a unique, fast-paced shooter experience that can never be bored!<br><br><br><br>Features:<br>\n",
            "====================\n",
            "\n"
          ],
          "name": "stdout"
        }
      ]
    },
    {
      "metadata": {
        "id": "UjHTB5Mg9rno",
        "colab_type": "code",
        "outputId": "1f8bbebb-72af-4afa-ee85-20c23ae27352",
        "colab": {
          "base_uri": "https://localhost:8080/",
          "height": 404
        }
      },
      "cell_type": "code",
      "source": [
        "gpt2.generate(sess,\n",
        "              run_name=run_name,\n",
        "              nsamples=num_samples,\n",
        "              batch_size=num_batches,\n",
        "              prefix='Spelunky 2 is the sequel of the most acclaimed rogue-like platformer of all-time')"
      ],
      "execution_count": 0,
      "outputs": [
        {
          "output_type": "stream",
          "text": [
            "Selunky 2 is the sequel of the most acclaimed rogue-like platformer of all-time. The game never felt so good, and so dark. It is a love letter to old-school games like Super Meat Boy, Myst and Nintendogs and the Super Nintendo classic, Metroid.<br><br>After a total of six years of development, the game has finally been published on Steam! Now you can experience the game yourself in the form of a digital version, where you can view your progress in the Steam Workshop, or play the game in our dedicated Quick Time mode.<h2 class=\"bb_tag\">Key Features</h2><br><ul class=\"bb_ul\"><li><strong>Pirate Mode:</strong> The player controls a &quot;Pirate&quot; that can be captured by killing enemies. It can also be used to shoot enemies from an angle.<br></li><li><strong>Shoot Mode:</strong> Players have to shoot with a few shots to break the &quot;Pirate&quot;. To do this, press the &quot;&quot;&quot; key combination.<br></li><li><strong>Brand New:</strong> Players will receive a brand new version of the game, which will be available during Early Access. The brand new version of the game will include the following:<br></li><li><strong>New Enemies:</strong> Players will receive new enemies with new types of moves and new special attacks. For example, the new enemies are a pair of double-jointed shuriken, a double-jointed rifle, a double-jointed claw, and a double-jointed stinger. <br></li><li><strong>New Enemies:</strong> Players will receive new enemies with new attacks and will also receive brand new weapons. For example, the new enemies will be double-jointed sharpshooters, double-jointed jammers, triple-jointed shuriken, double-jointed scopes, and triple-jointed buckshot.<br></li><li><strong>New Weapons:</strong> Players will receive new weapons with brand new moves. These weapons will be available during Early Access and will be available during Early Access. These weapons will have a huge range, with some of them being even more powerful than the previous weapons. For example, the triple-jointed buckshot can shoot out multiple bullets. <br></li><li><strong>New Enemies:</strong> Players will receive new enemies with new types of moves. These new enemies will be available during Early Access and will be available during Early Access. These new enemies will have a huge range, with some of them being even more powerful than the previous enemies. For example, the triple-jointed shuriken can shoot out several bullets. <br></li><li><strong>New Weapons:</strong> Players will receive new weapons with brand new moves. These weapons will be available during Early Access and will be available during Early Access. These weapons will have a huge range, with some of them being even more powerful than the previous weapons. For example, the triple-jointed scopes will shoot out multiple bullets. <br></li><li><strong>New Enemies:</strong> Players will receive new enemies with new moves. These enemies will be available during Early Access and will be available during Early Access. These new enemies will have a huge range, with some of them being even more powerful than the previous enemies. For example, the triple-jointed scopes will shoot out multiple bullets. <br></li><li><strong>New Enemies:</strong> Players will receive new enemies with new moves. These enemies will be available during Early Access and will be available during Early Access. These new enemies will have a huge range, with some of them being even more powerful than the previous enemies. For example, the triple-jointed scopes will shoot out multiple bullets. <br></li><li><strong>New Weapons:</strong> Players will receive new weapons with brand new moves. These weapons will be available during Early Access and will be available during Early Access. These weapons will have a huge range, with some of them being even more powerful than the previous weapons. For example, the triple-jointed scopes will shoot out multiple bullets. <br></li><li><strong>New Weapons:</strong> Players will receive new weapons with brand new moves. These weapons will be available during Early Access and will be available during Early Access. These weapons will have a huge range, with some of them being even more powerful than the previous weapons. For example, the triple-jointed scopes will shoot out multiple bullets.</li></ul>\n",
            "<strong>An atmospheric, musical, and educational game, &quot;Locked&quot; is a puzzle game where you can solve beautiful puzzles while listening to the music and discovering the universe. It's own mystery. Solace.<\n",
            "====================\n",
            "\n",
            "Selunky 2 is the sequel of the most acclaimed rogue-like platformer of all-time, Super Smash Bros. <br />\n",
            "<br />\n",
            "Super Smash Bros. is a fast-paced, melee-focused, online multiplayer platformer where you control a ball of plasma and blast your way through a sprawling world of demonic hordes and unbalance-inducing traps.<br />\n",
            "<br />\n",
            "As the world has collapsed, you must journey through a vast, open, and often twisted dimension to defeat the forces of darkness and save the world. As you progress through the levels, you'll unlock new abilities, new characters, and new powers, and you'll even be able to control multiple characters at the same time.\n",
            "<h2 class=\"bb_tag\">The Story</h2><br>It's been almost two years since she left home and she had no memories of her past. <br>No one has since. <br><br>Until now. <br><br>As she tries to find her lost sister, Lily, she discovers she has an incredible power - the power of She-Hulk. <br><br>Hulk. <br><br>Her powers are enough to make anyone remotely familiar. <br><br>She-Hulk is a fast-paced, fast-paced, fast-paced, fast-paced shooter. <br><br>Simple controls, pure action, with no calling. <br><br>She-Hulk takes heavy inspiration from the arcade, arcade, and R-Type games that were the inspiration for the SNES and SNES. <br><br>Classic reaction times, no bombs, no jumping. <br><br>No slow-paced shooter, no jump. <br><br>She-Hulk is always fast, and always has to be. <br><br>She-Hulk is a classic action platformer that's easy to pick up and play, but hard to master. <br><br>Her abilities are a bit of a mixed bag. <br><br>She-Hulk is designed to be played casually, just a few minutes on and for all players. <br><br>Her abilities are very similar to the classic arcade shooters. <br><br>She-Hulk has a high skill ceiling. <br><br>Her abilities are similar to the classic arcade shooters. <br><br>The game's controls are easy to pick up and play. <br><br>She-Hulk has a high skill ceiling. <br><br>Her abilities are very similar to the classic arcade shooters. <br><br>Her abilities are very similar to the classic arcade shooters. <br><br>She-Hulk has an incredible skill ceiling.\n",
            "&quot;The Trivia Vault&quot; is a new interactive series designed to teach players how to solve brain teasing and brain teasing situations.                    <br><br>&quot;The Trivia Vault&quot; is a new interactive series designed to teach players how to solve brain teasing and brain teasing situations.                      <br><br>This is a special kind of game - a game in which you are given a set of simple questions and a set of pictures to fill the screen.                       <br><br>The game is a logical puzzle game. The puzzles are arranged in a set of boxes with dots and colored arrows.                      <br><br>What is the puzzle?                         <br><br>The rules of the game are simple:                        <br><br>The boxes in the game are arranged in a three- row grid.                         <br><br>If you can't solve the puzzle, you can play                       <br><br>There are a lot of ways to solve the puzzles.                       <br><br>There are also puzzles that need to be solved in different ways.                      <br><br><br>The puzzle in the game is a puzzle that needs to be solved in a set in\n",
            "====================\n",
            "\n",
            "Selunky 2 is the sequel of the most acclaimed rogue-like platformer of all-time: The Matrix.<br><br>You play as a group of scientists trying to escape from a violent mad scientist prison. Your task is to help them escape and fix their problems.<br><br>- Use a variety of tools to solve puzzles. <br><br>- Examine their data to learn more information.<br><br>- Use the tools at your disposal to listen to and learn from them.<br><br>- Explore the prison, its corridors, and the facility itself. <br><br>- Use the tools at your disposal to explore the facility and learn from their mistakes.<br><br>- And finally, find the exit.\n",
            "You play as a group of scientists trying to escape from a violent mad scientist prison. Your task is to help them escape and fix their problems.<br><br>- Use a variety of tools to solve puzzles. <br><br>- Examine their data to learn more information.<br><br>- Explore the facility, its corridors, and the facility itself. <br><br>- Use the tools at your disposal to explore the facility and learn from their mistakes.<br><br>- And finally, find the exit.\n",
            "This is a VR experience where you will beforced to shoot your way through a shooting gallery full of enemies. If you manage to survive the hordes of enemies that will be coming to kill you and there will be more to do. This app should help you get to the objective.<br><br>Features:<br><br><ul class=\"bb_ul\"><li>VR FPS<br></li><li>4 Playable Characters<br></li><li>15+ weapons<br></li><li>10+ Scenarios<br></li><li>Puzzle weapons and ammo<br></li><li>3 difficulty settings for all but hardcore players<br></li><li>Achievements<br></li><li>Steam Leaderboards</li></ul><br>Disclaimer:<br>This game is a work in progress and will be updated on coming months.\n",
            "<img src=\"https://steamcdn-a.akamaihd.net/steam/apps/974030/extras/steampage_description.png?t=1537982950\" ><br><br>Enter the world of Bombshell: an RPG in which the player is the hero who wishes to save the world from a merciless war. In order to save the world from the flames, he will have to face the enemies of the world, who are all of different kinds, from the evil hunters who will try to destroy everything in their path, to the tribal warriors who will fight for the survival of the world. As one of the heroes, you will have to face the great powers of the world, from the evil hunters, the tribesmen, to the gods that will be striving to destroy the world. You will have to design and build your own weapons, choose your own tactics and use them wisely.<br><br><br><img src=\"https://steamcdn-a.akamaihd.net/steam/apps/974030/extras/steampage_features.png?t=1537982950\" ><br><br><ul class=\"bb_ul\"><li>7 main quests with a variety of enemies<br></li><li>5 random skills<br></li><li>3 kinds of weapons<br></li><li>4 heroes<br></li><li>5 kinds of enemies<br></li><li>50+ items<br></li><li>Random environment<br></li><li>5 levels<br></li><li>2 bosses<br></li><li>50+ weapons<br></li><li>5 kinds of enemies<br></li><li>50+ items</li></ul>\n",
            "<img src=\"https://steamcdn-a.akamaihd.net/steam/apps/974080/extras/616x353.png?t=1538506910\" ><h2 class=\"bb_tag\">Story</h2><br>It is a time of great change in the world of magic.<br><br>A strange war begins in the land of Eros, where the people are forced to join forces with the forces of magic. Powerful magic has been corrupted by powerful wizards. The army is scattered and the world is plunged into chaos. The world is under attack from the right wing of the group, and only the most powerful wizards, and the most determined warriors are able to stand against their enemies.<br><br>The fate of Eros lies in your hands. Will you be a brave knight, a fearless warrior, or a coward, or both?<h2 class=\"bb_tag\">Features</h2><br><ul class=\"bb_ul class=\"\n",
            "====================\n",
            "\n"
          ],
          "name": "stdout"
        }
      ]
    }
  ]
}