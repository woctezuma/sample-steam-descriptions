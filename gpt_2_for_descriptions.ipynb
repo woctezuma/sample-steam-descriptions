{
  "nbformat": 4,
  "nbformat_minor": 0,
  "metadata": {
    "colab": {
      "name": "gpt_2_for_descriptions.ipynb",
      "version": "0.3.2",
      "provenance": [],
      "collapsed_sections": []
    },
    "kernelspec": {
      "name": "python3",
      "display_name": "Python 3"
    },
    "accelerator": "GPU"
  },
  "cells": [
    {
      "metadata": {
        "id": "5u6MjGQAuzWN",
        "colab_type": "text"
      },
      "cell_type": "markdown",
      "source": [
        "# Sample Steam Store Descriptions with GPT-2\n",
        "Code inspired from https://github.com/woctezuma/sample-steam-descriptions"
      ]
    },
    {
      "metadata": {
        "id": "2KjP9yVVveN1",
        "colab_type": "text"
      },
      "cell_type": "markdown",
      "source": [
        "## Setting the GPT-2 model"
      ]
    },
    {
      "metadata": {
        "colab_type": "text",
        "id": "A1zEYHxh304_"
      },
      "cell_type": "markdown",
      "source": [
        "Install the Python package\n",
        "\n",
        "Reference: https://github.com/minimaxir/gpt-2-simple"
      ]
    },
    {
      "metadata": {
        "id": "_1ruwgwCuEHd",
        "colab_type": "code",
        "outputId": "e3b19724-d703-462d-d3b9-759254492aa3",
        "colab": {
          "base_uri": "https://localhost:8080/",
          "height": 311
        }
      },
      "cell_type": "code",
      "source": [
        "!pip install gpt_2_simple"
      ],
      "execution_count": 1,
      "outputs": [
        {
          "output_type": "stream",
          "text": [
            "Collecting gpt_2_simple\n",
            "  Downloading https://files.pythonhosted.org/packages/b6/cf/4003c7d85425af353e15d938bc0d87a0bdedd6b00229e1f7808c2524b518/gpt_2_simple-0.2.tar.gz\n",
            "Requirement already satisfied: regex in /usr/local/lib/python3.6/dist-packages (from gpt_2_simple) (2018.1.10)\n",
            "Requirement already satisfied: requests in /usr/local/lib/python3.6/dist-packages (from gpt_2_simple) (2.18.4)\n",
            "Requirement already satisfied: tqdm in /usr/local/lib/python3.6/dist-packages (from gpt_2_simple) (4.28.1)\n",
            "Requirement already satisfied: numpy in /usr/local/lib/python3.6/dist-packages (from gpt_2_simple) (1.16.2)\n",
            "Requirement already satisfied: urllib3<1.23,>=1.21.1 in /usr/local/lib/python3.6/dist-packages (from requests->gpt_2_simple) (1.22)\n",
            "Requirement already satisfied: idna<2.7,>=2.5 in /usr/local/lib/python3.6/dist-packages (from requests->gpt_2_simple) (2.6)\n",
            "Requirement already satisfied: certifi>=2017.4.17 in /usr/local/lib/python3.6/dist-packages (from requests->gpt_2_simple) (2019.3.9)\n",
            "Requirement already satisfied: chardet<3.1.0,>=3.0.2 in /usr/local/lib/python3.6/dist-packages (from requests->gpt_2_simple) (3.0.4)\n",
            "Building wheels for collected packages: gpt-2-simple\n",
            "  Building wheel for gpt-2-simple (setup.py) ... \u001b[?25ldone\n",
            "\u001b[?25h  Stored in directory: /root/.cache/pip/wheels/51/d0/bd/293c80200f60bcd75a0f4028684e55e959da3a2727858d98a0\n",
            "Successfully built gpt-2-simple\n",
            "Installing collected packages: gpt-2-simple\n",
            "Successfully installed gpt-2-simple-0.2\n"
          ],
          "name": "stdout"
        }
      ]
    },
    {
      "metadata": {
        "id": "nTkq7wEQwEkZ",
        "colab_type": "text"
      },
      "cell_type": "markdown",
      "source": [
        "Download the pre-trained model"
      ]
    },
    {
      "metadata": {
        "id": "_pdkhHU6wd12",
        "colab_type": "code",
        "colab": {}
      },
      "cell_type": "code",
      "source": [
        "import gpt_2_simple as gpt2\n",
        "from datetime import datetime\n",
        "from google.colab import files"
      ],
      "execution_count": 0,
      "outputs": []
    },
    {
      "metadata": {
        "id": "0ggC2Mc75BnB",
        "colab_type": "text"
      },
      "cell_type": "markdown",
      "source": [
        "## Downloading GPT-2"
      ]
    },
    {
      "metadata": {
        "id": "_-If30nT4ZCb",
        "colab_type": "code",
        "outputId": "cee60283-192a-455b-c927-2250465714c2",
        "colab": {
          "base_uri": "https://localhost:8080/",
          "height": 146
        }
      },
      "cell_type": "code",
      "source": [
        "gpt2.download_gpt2()"
      ],
      "execution_count": 3,
      "outputs": [
        {
          "output_type": "stream",
          "text": [
            "Fetching checkpoint: 1.00kit [00:00, 330kit/s]                                                      \n",
            "Fetching encoder.json: 1.04Mit [00:00, 49.3Mit/s]                                                   \n",
            "Fetching hparams.json: 1.00kit [00:00, 323kit/s]                                                    \n",
            "Fetching model.ckpt.data-00000-of-00001: 498Mit [00:09, 54.4Mit/s]                                  \n",
            "Fetching model.ckpt.index: 6.00kit [00:00, 2.95Mit/s]                                               \n",
            "Fetching model.ckpt.meta: 472kit [00:00, 35.9Mit/s]                                                 \n",
            "Fetching vocab.bpe: 457kit [00:00, 37.1Mit/s]                                                       \n"
          ],
          "name": "stderr"
        }
      ]
    },
    {
      "metadata": {
        "id": "AkpviYXh4tHL",
        "colab_type": "text"
      },
      "cell_type": "markdown",
      "source": [
        "## Mounting Google Drive"
      ]
    },
    {
      "metadata": {
        "id": "0D4hzKfk4rIp",
        "colab_type": "code",
        "colab": {}
      },
      "cell_type": "code",
      "source": [
        "gpt2.mount_gdrive()"
      ],
      "execution_count": 0,
      "outputs": []
    },
    {
      "metadata": {
        "id": "e9sI2rah5OyB",
        "colab_type": "text"
      },
      "cell_type": "markdown",
      "source": [
        "## Uploading a Text File to be Trained to Colaboratory"
      ]
    },
    {
      "metadata": {
        "colab_type": "text",
        "id": "d3NlwR97DRGt"
      },
      "cell_type": "markdown",
      "source": [
        "#### Either get the data by yourself"
      ]
    },
    {
      "metadata": {
        "id": "u6h_g-wpDSSh",
        "colab_type": "text"
      },
      "cell_type": "markdown",
      "source": [
        "Currently not possible because you:\n",
        "-   either need app details (slow to download),\n",
        "-   or aggregate.json (stored with Git LFS, not installed on Google Colab.)"
      ]
    },
    {
      "metadata": {
        "id": "7LPbkB998g-B",
        "colab_type": "text"
      },
      "cell_type": "markdown",
      "source": [
        "#### Or get a data snapshot from me"
      ]
    },
    {
      "metadata": {
        "id": "FIR9fBid5U2w",
        "colab_type": "code",
        "outputId": "41b5e779-cbb8-4434-daaf-158b8d3ea85b",
        "colab": {
          "base_uri": "https://localhost:8080/",
          "height": 72
        }
      },
      "cell_type": "code",
      "source": [
        "!curl -O https://raw.githubusercontent.com/woctezuma/sample-steam-descriptions/master/data/concatenated_store_descriptions.txt"
      ],
      "execution_count": 5,
      "outputs": [
        {
          "output_type": "stream",
          "text": [
            "  % Total    % Received % Xferd  Average Speed   Time    Time     Time  Current\n",
            "                                 Dload  Upload   Total   Spent    Left  Speed\n",
            "100 43.1M  100 43.1M    0     0  36.8M      0  0:00:01  0:00:01 --:--:-- 36.8M\n"
          ],
          "name": "stdout"
        }
      ]
    },
    {
      "metadata": {
        "id": "AjmpOgoa5y7Q",
        "colab_type": "text"
      },
      "cell_type": "markdown",
      "source": [
        "## Finetune GPT-2"
      ]
    },
    {
      "metadata": {
        "id": "7WDz30tL5-yf",
        "colab_type": "code",
        "colab": {}
      },
      "cell_type": "code",
      "source": [
        "file_name='concatenated_store_descriptions.txt'"
      ],
      "execution_count": 0,
      "outputs": []
    },
    {
      "metadata": {
        "id": "Bfg4HYZl56JJ",
        "colab_type": "code",
        "outputId": "aaffd206-b71b-44de-a231-7c849365f874",
        "colab": {
          "base_uri": "https://localhost:8080/",
          "height": 661
        }
      },
      "cell_type": "code",
      "source": [
        "sess = gpt2.start_tf_sess()\n",
        "\n",
        "gpt2.finetune(sess,\n",
        "              run_name='descriptions',\n",
        "              dataset=file_name,\n",
        "              steps=1000,\n",
        "              restore_from='fresh',   # change to 'latest' to resume training\n",
        "              print_every=10,   # how many steps between printing progress\n",
        "              sample_every=200,   # how many steps to print a demo sample\n",
        "              save_every=500   # how many steps between saving checkpoint              \n",
        "              )"
      ],
      "execution_count": 7,
      "outputs": [
        {
          "output_type": "stream",
          "text": [
            "WARNING:tensorflow:From /usr/local/lib/python3.6/dist-packages/tensorflow/python/framework/op_def_library.py:263: colocate_with (from tensorflow.python.framework.ops) is deprecated and will be removed in a future version.\n",
            "Instructions for updating:\n",
            "Colocations handled automatically by placer.\n",
            "WARNING:tensorflow:From /usr/local/lib/python3.6/dist-packages/gpt_2_simple/src/sample.py:51: to_float (from tensorflow.python.ops.math_ops) is deprecated and will be removed in a future version.\n",
            "Instructions for updating:\n",
            "Use tf.cast instead.\n",
            "WARNING:tensorflow:From /usr/local/lib/python3.6/dist-packages/gpt_2_simple/src/sample.py:53: multinomial (from tensorflow.python.ops.random_ops) is deprecated and will be removed in a future version.\n",
            "Instructions for updating:\n",
            "Use tf.random.categorical instead.\n",
            "WARNING:tensorflow:From /usr/local/lib/python3.6/dist-packages/tensorflow/python/ops/math_ops.py:3066: to_int32 (from tensorflow.python.ops.math_ops) is deprecated and will be removed in a future version.\n",
            "Instructions for updating:\n",
            "Use tf.cast instead.\n",
            "WARNING:tensorflow:From /usr/local/lib/python3.6/dist-packages/tensorflow/python/ops/math_grad.py:102: div (from tensorflow.python.ops.math_ops) is deprecated and will be removed in a future version.\n",
            "Instructions for updating:\n",
            "Deprecated in favor of operator or tf.math.divide.\n",
            "Loading checkpoint models/117M/model.ckpt\n",
            "WARNING:tensorflow:From /usr/local/lib/python3.6/dist-packages/tensorflow/python/training/saver.py:1266: checkpoint_exists (from tensorflow.python.training.checkpoint_management) is deprecated and will be removed in a future version.\n",
            "Instructions for updating:\n",
            "Use standard file APIs to check for files with this prefix.\n",
            "INFO:tensorflow:Restoring parameters from models/117M/model.ckpt\n"
          ],
          "name": "stdout"
        },
        {
          "output_type": "stream",
          "text": [
            "\r  0%|          | 0/1 [00:00<?, ?it/s]"
          ],
          "name": "stderr"
        },
        {
          "output_type": "stream",
          "text": [
            "Loading dataset...\n"
          ],
          "name": "stdout"
        },
        {
          "output_type": "stream",
          "text": [
            "\r100%|██████████| 1/1 [01:08<00:00, 68.25s/it]\n"
          ],
          "name": "stderr"
        },
        {
          "output_type": "stream",
          "text": [
            "dataset has 11714797 tokens\n",
            "Training...\n",
            "[10 | 29.33] loss=2.80 avg=2.80\n",
            "[20 | 53.64] loss=2.79 avg=2.79\n",
            "[30 | 78.10] loss=2.63 avg=2.74\n",
            "[40 | 101.76] loss=2.56 avg=2.69\n",
            "[50 | 125.52] loss=2.72 avg=2.70\n",
            "[60 | 149.66] loss=2.70 avg=2.70\n",
            "[70 | 173.65] loss=3.05 avg=2.75\n",
            "[80 | 197.55] loss=2.86 avg=2.76\n",
            "[90 | 221.43] loss=2.81 avg=2.77\n",
            "Saving checkpoint/descriptions/model-100\n"
          ],
          "name": "stdout"
        }
      ]
    },
    {
      "metadata": {
        "id": "NAyu3yNP6Uls",
        "colab_type": "code",
        "colab": {}
      },
      "cell_type": "code",
      "source": [
        "gpt2.copy_checkpoint_to_gdrive()"
      ],
      "execution_count": 0,
      "outputs": []
    },
    {
      "metadata": {
        "id": "BEwkRvCn6XZW",
        "colab_type": "text"
      },
      "cell_type": "markdown",
      "source": [
        "## Load a Trained Model Checkpoint"
      ]
    },
    {
      "metadata": {
        "id": "dELSgpoC6Z-O",
        "colab_type": "code",
        "colab": {}
      },
      "cell_type": "code",
      "source": [
        "gpt2.copy_checkpoint_from_gdrive()"
      ],
      "execution_count": 0,
      "outputs": []
    },
    {
      "metadata": {
        "id": "dqDaWVAo6cn9",
        "colab_type": "code",
        "colab": {}
      },
      "cell_type": "code",
      "source": [
        "sess = gpt2.start_tf_sess()\n",
        "\n",
        "gpt2.load_gpt2(sess,\n",
        "               run_name='descriptions')"
      ],
      "execution_count": 0,
      "outputs": []
    },
    {
      "metadata": {
        "id": "vX8KFoKR6g-o",
        "colab_type": "text"
      },
      "cell_type": "markdown",
      "source": [
        "## Generate Text From The Trained Model"
      ]
    },
    {
      "metadata": {
        "id": "KYC30GEi6kPv",
        "colab_type": "code",
        "colab": {
          "base_uri": "https://localhost:8080/",
          "height": 349
        },
        "outputId": "5d147bff-af6e-4bb9-d5c2-902b79adc058"
      },
      "cell_type": "code",
      "source": [
        "num_samples = 3\n",
        "num_batches = 3 # Unique to GPT-2, you can pass a batch_size to generate multiple samples in parallel, giving a massive speedup.\n",
        "\n",
        "gpt2.generate(sess,\n",
        "              run_name='descriptions',\n",
        "              nsamples=num_samples,\n",
        "              batch_size=num_batches)"
      ],
      "execution_count": 10,
      "outputs": [
        {
          "output_type": "stream",
          "text": [
            "You can easily find the selection of your favorite songs by searching for them on our website, or by pressing and holding 'A' key on your keyboard.</li></ul>\n",
            "<img src=\"https://steamcdn-a.akamaihd.net/steam/apps/525620/extras/download.png?t=1451802498\" ><br><strong>Features:</strong><br><ul class=\"bb_ul\"><li>Classic songs with very catchy melodies<br></li><li>Extras to play all songs in the game<br></li><li>Keyboard shortcuts to select songs from the list<br></li><li>1) Easy to use game mode<br></li><li>2) Highly customizable soundtrack with numerous options<br></li><li>3) Support for both music and music apps</li></ul>\n",
            "<img src=\"https://steamcdn-a.akamaihd.net/steam/apps/525620/extras/Diede.png?t=1553820391\" ><br>Diede is a new game in the genre of RPGs.<br><br>Diede is an action-based, supernatural role-playing game where you play as the protagonist of the game. You'll have to master the game mechanic of the game, and try to outsmart your enemies.<br>You'll need to defeat your enemies, and even defeat the most powerful of the enemies. You'll have to learn the game mechanics and what to do at the time, and the mechanics of the game will be different from the game mechanics. <br>Diede is available now on Steam!<br><br><img src=\"https://steamcdn-a.akamaihd.net/steam/apps/525620/extras/2.gif?t=1553820391\" ><br><br>There is a devil that is holding the game. <br><br>He has a power that allows him to manipulate the game world while he's in the game world. He can hold it all in his hand while he's in the game world. He can cast spells, but he can't cast spells from his hand.<br>You can get money from the devil that holds it, and you can hold it in your hand. You can save money from the devil by hitting him and throwing him light spells and using their power.<br>You can get money from the devil if you're able to hit him while in the game world.<br><br><img src=\"https://steamcdn-a.akamaihd.net/steam/apps/525620/extras/Dried.png?t=1553820391\" ><br><br>Dried is a turn-based, turn-based RPG. You choose a hero, a hero with a power that lets him do all the things he wants. It's well suited to play in a dungeon, where you can solo and play with your friends with friends.<br>You'll have to beat the gameplay for the difficulty to reach the level that you want. <br>You can reach the level with difficulty from 10 to 20. You can also get the game through the Randomizer system.<br><br><img src=\"https://steamcdn-a.akamaihd.net/steam/apps/525620/extras/diede.gif?t=1553820391\" ><br>Diede is available on Steam!<br><br><img src=\"https://steamcdn-a.akamaihd.net/steam/apps/525620/extras/Diede.gif?t=1553820391\" ><br>Diede has a little bit of a twist. It starts out as a simple dungeon game where you're trying to get to the dungeon dungeon, but you can get through it and start to progress further. You can get all of the symbols that are on the map, and all of the symbols you can get to the dungeon dungeon.<br><br><img src=\"https://steamcdn-a.akamaihd.net/steam/apps/525620/extras/Diede.gif?t=1553820391\" ><br>Diede has a little bit of a twist. It starts out as a simple dungeon game where you're trying to get to the dungeon dungeon, but you can get through it and start to progress further. You can get all of the symbols that are on the map, and all of the symbols you can get to the dungeon dungeon.<br><br><img src=\"https://steamcdn-a.akamaihd.net/steam/apps/525620/extras/Diede.gif?t=1553820391\" ><br>D\n",
            "====================\n",
            "\n",
            "</li>A journey through the depths of the Deep Wildlands.<br><br><strong>- Darkly humorous storyline.</strong><br><br><strong>- Exploration and exploration of a vast, vast world.<br><br><strong>- Various characters.<br><br><strong>- The game has a unique story and atmosphere.<br><br><strong>- Touched a lot of people back in the day.<br><br><strong>- Various characters.<br><br><strong>- Combat. Every move is unique and interesting.<br><br><strong>- Various weapons and weapons.<br><br><strong>- Tons of NPCs.<br><br><strong>- Various enemies.<br><br><strong>- Various special items.<br><br><strong>- Various clothing items.<br><br><strong>- Various treasure chests.<br><br><strong>- Various items.<br><br><strong>- Various quests.<br><br><strong>- Various NPCs.<br><br><strong>- Various quests.<br><br><strong>- Various quests.<br><br><strong>- Various quests.<br><br><strong>- Various quests.<br><br><strong>- Various quests.<br><br><strong>- Various quests.<br><br><strong>- Various quests.<br><br><strong>- Various quests.<br><br><strong>- Various quests.<br><br><strong>- Various quests.<br><br><strong>- Various quests.<br><br><strong>- Various quests.<br><br><strong>- Various quests.<br><br><strong>- Various quests.<br><br><strong>- Various quests.<br><br><strong>- Various quests.<br><br><strong>- Various quests.<br><br><strong>- Various quests.<br><br><strong>- Various quests.<br><br><strong>- Various quests.<br><br><strong>- Various quests.<br><br><strong>- Various quests.<br><br><strong>- Various quests.<br><br><strong>- Various quests.<br><br><strong>- Various quests.<br><br>- Various quests.<br><br><strong>- Various quests.<br><br><strong>- Various quests.<br><br><strong>- Various quests.<br><br><strong>- Various quests.<br><br><strong>- Various quests.<br><br><strong>- Various quests.<br><br><strong>- Various quests.<br><br><strong>- Various quests.<br><br><br><strong>- Various quests.<br><br><strong>- Various quests.<br><br><strong>- Various quests.<br><br><strong>- Various quests.<br><br><strong>- Various quests.<br><br><strong>- Various quests.<br><br><strong>- Various quests.<br><br><strong>- Various quests.<br><br><strong>- Various quests.<br><br><strong>- Various quests.<br><br><strong>- Various quests.<br><br><strong>- Various quests.<br><br><strong>- Various quests.<br><br><strong>- Various quests.<br><br><strong>- Various quests.<br><br><strong>- Various quests.<br><br><strong>- Various quests.<br><br><strong>- Various quests.<br><br><strong>- Various quests.<br><br><strong>- Various quests.<br><br><strong>- Various quests.<br><br><strong>- Various quests.<br><br><strong>- Various quests.<br><br><strong>- Various quests.<br><br><strong>- Various quests.<br><br><strong>- Various quests.<br><br><strong>- Various quests.<br><br><strong>- Various quests.<br><br><strong>- Various quests.<br><br><strong>- Various quests.<br><br><strong>- Various quests.<br><br><strong>- Various quests.<br><br><strong>- Various quests.<br><br><strong>- Various quests.<br><br><strong>- Various quests.<br><br><strong>- Various quests.<br><br><strong>- Various quests.<br><br><strong>- Various quests.<br><br><strong>- Various quests.<br><br><strong>- Various quests.<br><br><strong>- Various quests.<br><br><strong>- Various quests.<br><br><strong>- Various quests.<br><br><strong>- Various quests.<br><br><strong>- Various quests.<br><br><strong>- Various quests.<br><br><strong>- Various quests.<br\n",
            "====================\n",
            "\n",
            "A MINERAL OF INCENTIVES\n",
            "The time has come to start the construction of a stable house. The house is a heavy duty residence built to hold the loads of the people of the Highland Country and its surrounding lands. It will be built from ground up, from all parts of the land in a single age. The land will be maintained by the farmer and his family, and the land will be razed and rebuilt. We have a set of tools to help us to accomplish the tasks. We will be able to build the house as a simple wooden structure with no hands nor tools. It will be free from the infestation of wild animals and become a stable house. The work will be done at the time of the construction, or as soon as we can get to the land. There is no need to get the land out of the way!\n",
            "The world is on the brink of disaster. The world is being threatened. The only way to save it is to create a world that can be saved, and then the world will be saved. The story of the Highland Country is the story of a man who has lost his life. He is the only man in the world who does not have the spirit of a man. He has fallen into the flames of the flames, and the girl he loves has been left behind. The girl has set out to join the family, and there is nothing left for her. She is the only person that can save her. So do you think the man is going to be the only one that can save her?\n",
            "SOUL is a 3D space exploration game for 4 to 8 players. You will explore the world as you explore, not only a new world, but also a majority of the planets in the game. You will eventually find an exit that leads to a different world where you will find the exit. The exit will have the same characteristics as the exit, but it will also have a darker atmosphere, and will eventually contain a large number of hostile creatures. You will also be able to use your space machines to create and create new worlds. You will be able to create new planets while you are exploring the world. You can create new planets with your space machine!\n",
            "The game is a physics based project game that is inspired by the physics in The Walking Dead. The game uses the physics engine for physics based gameplay. The game uses a number of weapons including grenades, plasma cannons, bullet launchers, and laser cannons. The game has many collectibles that you collect. The game is influenced by the cult of the Raven and the occult. The game is also influenced by the occultism. The game is also influenced by the occultism. The game is also influenced by the occultism. The game is also influenced by the occultism.\n",
            "The first game is a puzzle game set in a castle. The castle is surrounded by a horde of enemies and an evil dragon. It is very difficult to get through to the castle. You need to collect all the items that the castle can contain. You will be able to collect many items and various items of the enemy. You will not be able to use the controls to move on the castle.\n",
            "The land is surrounded by a horde of enemies. It is very difficult to get through to the castle. You need to collect all the items that the castle can contain. You will not be able to use the controls to move on the castle. You will be able to collect many items and various items of the enemy. You will not be able to use the controls to move on the castle. You will not be able to use the controls to move on the castle. There are three races you can recruit. One is your friend that you can recruit and one is your enemy. The enemy is the one that you can recruit. You will not be able to use your weapons, items and abilities to gain experience points. Your weapons and abilities will be unlocked. You will not be able to equip the weapons and abilities that you have. The army will be able to invade and conquer the land. There are three races that you can recruit. One is your friend that you can recruit and the other is your enemy. The enemy is the one that you can recruit. You will not be able to equip the weapons, items and abilities. Your weapons and abilities will be unlocked. You will not be able to equip the weapons and abilities that you have. The army will be able to invade and conquer the land. There are three races that you can recruit. One is your friend that you can recruit and the other is your enemy. The enemy is the one that you can recruit. You will not be able to equip the weapons, items and abilities that you have. The armies will be able to invade and conquer the land. There are three races that you can recruit. One is your friend that you can recruit and the other is your enemy. The enemy is the one that you can recruit. You will not be able to equip the weapons, items and abilities that you have. The\n",
            "====================\n",
            "\n"
          ],
          "name": "stdout"
        }
      ]
    },
    {
      "metadata": {
        "id": "jrZBWas662k_",
        "colab_type": "code",
        "colab": {
          "base_uri": "https://localhost:8080/",
          "height": 331
        },
        "outputId": "5c10a17b-7f34-454f-aa2f-51886ca82901"
      },
      "cell_type": "code",
      "source": [
        "gpt2.generate(sess,\n",
        "              run_name='descriptions',\n",
        "              nsamples=num_samples,\n",
        "              batch_size=num_batches,\n",
        "              prefix='Half-Life 3 is the long-awaited sequel in the Half-Life franchise developped by Valve')"
      ],
      "execution_count": 11,
      "outputs": [
        {
          "output_type": "stream",
          "text": [
            "H-Life 3 is the long-awaited sequel in the Half-Life franchise developped by Valve. Over the past year, we've been working hard to bring you the best Half-Life. From original Half-Life 2, to the latest, we are ready to do whatever we can to bring you the best Half-Life experience ever.\n",
            "<strong>PLAY as a single player</strong> <br>You will be able to play as a single player or as a co-op with other players on the team. <br><br>In order to play as a co-op, you will have to complete the 'Keys to a Free Ride' game mode, and the 'Necessary Combat' game mode. <br><br>In order to complete the 'Keys to a Free Ride' game mode, you will have to copy the keys from the game and place them on the map. <br><br>Once you have played the game, you will be able to select which of the game modes to play in a co-op. <br><br>Each co-op has its own rules. You will have to make sure that you are careful to not get lost. <br><br>You will need to pick up the game keys from the game that you want to play and place them on the map. <br><br>The most important thing is that you do not forget any keys you have. <br><br>In order to play in the co-op, you will still have to complete the 'Keys to a Free Ride' game mode, and the 'Necessary Combat' game mode. <br><br>In order to complete the 'Keys to a Free Ride' game mode, you will have to copy the keys from the game that you want to play. <br><br>For example, if you pick up a key on a map and you are playing solo, you will have to copy the keys from the game that you want to play in a co-op. <br><br>For example, if you pick up a key on a map and you are playing solo, you may need to copy the keys from the game that you want to play in a co-op. <br><br>For example, if you pick up a key on a map and you are playing solo, you may need to copy the keys from the game that you want to play in a co-op. <br><br>For example, if you pick up a key on a map and you are playing solo, you may need to copy the keys from the game that you want to play in a co-op. <br><br>For example, if you pick up a key on a map and you are playing solo, you may need to copy the keys from the game that you want to play in a co-op. <br><br>For example, if you pick up a key on a map and you are playing solo, you may need to copy the keys from the game that you want to play in a co-op. <br><br>To complete the 'Keys to a Free Ride' game mode, you will have to copy the keys from the game that you want to play in a co-op.\n",
            "<img src=\"https://steamcdn-a.akamaihd.net/steam/apps/619170/extras/duck_03.png?t=151736310\" ><br><br>This is a single player game. The player must be able to shoot and kill a variety of enemies. Each time they die, they receive a random number from their inventory. They also have a number of potions and a number of items that the player can purchase from the shop. <br><br>Since the game is singleplayer, you can also play a co-op game. You can play multiplayer with up to 4 players. You can also be an ally to another player and join the game.<br><br>In multiplayer, you can have 2 players, one with a gun and the other with a bow. The gun is a Small bow and the bow is a Small bow. The player that kills the other player will be the one that has the bow and the bow will be able to shoot them with the bow. The player that kills the other player will be the one that has the bow and the bow will be able to shoot them with the bow. The player that kills the other player will be the one that has the bow and the bow will be able to shoot them with the bow.\n",
            "<strong>Steam Workshop</strong> is a Steam Workshop where you can create custom Steam items and share them with others.\n",
            "<strong>Steam Workshop</strong> is a Steam Workshop where you can create custom Steam items and share them with others. <br><br>The Steam Workshop allows you to create custom items with the help of your Steam Workshop. <strong>Steam Workshop</strong>Steam Workshop</strong> which allows\n",
            "====================\n",
            "\n",
            "H-Life 3 is the long-awaited sequel in the Half-Life franchise developped by Valve. The game will allow players to experience the full range of Half-Life 3 gameplay from the core gameplay.\n",
            "<img src=\"https://steamcdn-a.akamaihd.net/steam/apps/5343/extras/HeadGrab.png?t=151327898\" ><br><br>HeadGrab is a very unique and unique Half-Life 3 experience. <br><img src=\"https://steamcdn-a.akamaihd.net/steam/apps/5343/extras/HeadGrab2.png?t=151327898\" >\n",
            "<strong>HeadGrab – The Striking Game</strong> is a game about throwing knives out of a bottle. <br>The two players are a girl and her boyfriend. You start the game by throwing your knife. Your boyfriend must follow the rules or you will be thrown out. The player is free to call out to the player, if she has a knife in her hand. <br>The player receives a short amount of time to get ready for the game. You can throw knives out of a bottle or you can choose to throw your knife in your hand to avoid getting thrown out. <br><img src=\"https://steamcdn-a.akamaihd.net/steam/apps/5343/extras/HeadGrab2.png?t=151327898\" ><br><br>The game is very simple and easy to learn. The game is played online or in a room. There is a mini-map of the game to see how the players move. During the game you can choose to move the knife in the hand or throw it in an open bottle. <br><img src=\"https://steamcdn-a.akamaihd.net/steam/apps/5343/extras/HeadGrab2.png?t=151327898\" ><br><br>It's also very easy to learn and control. Just throw your knife in your hand. You can have a knife in your hand as long as you throw it in the bottle. <br>The game is easy to learn and control. Just throw your knife in your hand. You can have a knife in your hand as long as you throw it in the bottle. <br>The game is very simple and easy to learn. The game is played online or in a room. There is a mini-map of the game to see how the players move. During the game you can choose to move the knife in the hand or throw it in an open bottle. <br><img src=\"https://steamcdn-a.akamaihd.net/steam/apps/5343/extras/HeadGrab2.png?t=151327898\" ><br><br>The game is also very easy to learn and control. Just throw your knife in your hand. You can have a knife in your hand as long as you throw it in the bottle. <br>The game is also easy to learn and control. Just throw your knife in your hand. You can have a knife in your hand as long as you throw it in the bottle. <br>The game is also easy to learn and control. Just throw your knife in your hand. You can have a knife in your hand as long as you throw it in the bottle. <br>The game is also easy to learn and control. Just throw your knife in your hand. You can have a knife in your hand as long as you throw it in the bottle. <br>The game is also easy to learn and control. Just throw your knife in your hand. You can have a knife in your hand as long as you throw it in the bottle. <br>The game is also easy to learn and control. Just throw your knife in your hand. You can have a knife in your hand as long as you throw it in the bottle. <br>The game is also easy to learn and control. Just throw your knife in your hand. You can have a knife in your hand as long as you throw it in the bottle. <br>The game is also easy to learn and control. Just throw your knife in your hand. You can have a knife in your hand as long as you throw it in the bottle. <br>The game is also easy to learn and control. Just throw your knife in your hand. You can have a knife in your hand as long as you throw it in the bottle. <br>The game is also easy to learn and control. Just throw your knife in your hand. You can have a knife in your hand as long as you throw it in the bottle. <br>The game is also easy to learn and control. Just throw your knife in your hand. You can have a knife in your hand as long as you throw it in the bottle. <br>\n",
            "<br /><br /><br\n",
            "====================\n",
            "\n",
            "H-Life 3 is the long-awaited sequel in the Half-Life franchise developped by Valve. The experience is much more than a single-player campaign where you work with your team, your friends, your friends' team, and your friends' friends' friends. All the team members are members of your team. You don't have to worry about getting killed in single-player or co-op. You don't need a team of friends to get a certain amount of kills and you do not need a team of players to make you kill more. Your friends are the ones that will be playing the game the most. And even though they don't have jetpacks, they are still the best friends we have, so we will have to play the game with one or two friends. But mostly we will have them not play the game. We will have them play the game with a lot of friends, but they will not be the best friends. Because we have a lot of friends we will have them not play the game as well. We will have them not play the game as well as we have them. But we will have them not play the game as well as we have them. But we will have them not play the game as well as we have them. But we will have them not play the game as well as we have them. But we will have them not play the game as well as we have them. So we will have them not play the game as well as we have them and we will have them not play the game as well as we have them. So we will have them not play the game as well as we have them. So we will have them not play the game as well as we have them. So we will have them not play the game as well as we have them. So we will have them not be able to play the game as well as we have them. So we will have them not be able to play the game as well as we have them. So we will have them not be able to play the game as well as we have them. So we will have them not be able to play the game as well as we have them. So we will have them not be able to play the game as well as we have them. So we will have them not be able to play the game as well as we have them. So we will have them not be able to play the game as well as we have them. So we will have them not be able to play the game as well as we have them. So we will have them not be able to play the game as well as we have them. So we will have them not be able to play the game as well as we have them. So we will have them not be able to play the game as well as we have them. So we will have them not be able to play the game as well as we have them. So we will have them not be able to play the game as well as we have them. So we will have them not be able to play the game as well as we have them. So we will have them not be able to play the game as well as we have them. So we will have them not be able to play the game as well as we have them. So we will have them not be able to play the game as well as we have them. So we will have them not be able to play the game as well as we have them. So we will have them not be able to play the game as well as we have them. So we will have them not be able to play the game as well as we have them. So we will have them not be able to play the game as well as we have them. So we will have them not be able to play the game as well as we have them. So we will have them not be able to play the game as well as we have them. So we will have them not be able to play the game as well as we have them. So we will have them not be able to play the game as well as we have them. So we will have them not be able to play the game as well as we have them. So we will have them not be able to play the game as well as we have them. So we will have them not be able to play the game as well as we have them. So we will have them not be able to play the game as well as we have them. So we will have them not be able to play the game as well as we have them. So we will have them not be able to play the game as well as we have them. So we will have them not be able to play the game as well as we have them. So we will have them not be able to play the game as well as we have them. So we will have them not be able to play the game as well as we have them. So we will have them not be able to play the game as well as we have them. So we will have them not be able to\n",
            "====================\n",
            "\n"
          ],
          "name": "stdout"
        }
      ]
    },
    {
      "metadata": {
        "id": "UjHTB5Mg9rno",
        "colab_type": "code",
        "colab": {
          "base_uri": "https://localhost:8080/",
          "height": 276
        },
        "outputId": "f38933c7-1376-43f1-9a4d-691076bae61e"
      },
      "cell_type": "code",
      "source": [
        "gpt2.generate(sess,\n",
        "              run_name='descriptions',\n",
        "              nsamples=num_samples,\n",
        "              batch_size=num_batches,\n",
        "              prefix='Spelunky 2 is the sequel of the most acclaimed rogue-like platformer of all-time')"
      ],
      "execution_count": 12,
      "outputs": [
        {
          "output_type": "stream",
          "text": [
            "Selunky 2 is the sequel of the most acclaimed rogue-like platformer of all-time. Witness the terrifying battles and engage in brutal battles against your enemies, while exploring a vast array of levels you can explore.\n",
            "When you die, your spirit is gone, and you are a new prisoner in a new prison. You have been imprisoned, for a long time, and you are not going to be free forever.\n",
            "A soldier in a private army has sent his loyal friend to an enemy base. The soldiers defend the base against attacks from both conventional and unconventional forces. But there are no soldiers left, and they are trapped in the base. The soldier's spirit is gone, and he is a prisoner of the base. But he has to wait until the next day to be released. So when he is released, he is free again. But it is only through the power of the spirits that he can escape, and find a new life in this terrible wasteland.\n",
            "A boy at his high school reacts to the fact that his school is attacking his school. He is forced to make his own choices. Will he follow the rules or will he be a waste of time? Will his school be attacked or will he be a waste of time? Will he be a waste of time when he is released? Will he be a waste of time when he is released? Will he be a waste of time when he is released? Will he be a waste of time when he is released? Will he be a waste of time when he is released? Will he be a waste of time when he is released? Will he be a waste of time when he is released? Will he be a waste of time when he is released? Will he be a waste of time when he is released? Will he be a waste of time when he is released? Will he be a waste of time when he is released? Will he be a waste of time when he is released? Will he be a waste of time when he is released? Will he be a waste of time when he is released? Will he be a waste of time when he is released? Will he be a waste of time when he is released? Will he be a waste of time when he is released? Will he be a waste of time when he is released? Will he be a waste of time when he is released? Will he be a waste of time when he is released? Will he be an waste of time when he is released? Will he be an waste of time when he is released? Will he be an waste of time when he is released? Will he be an waste of time when he is released? Will he be an waste of time when he is released? Will he be an waste of time when he is released? Will he be an waste of time when he is released? Will he be an waste of time when he is released? Will he be an waste of time when he is released? Will he be an waste of time when he expends time on his life ? Will he be an waste of time when he expends time on his life ? Will he be an waste of time when he expends time on his life ? Will he be an waste of time when he expends time on his life ? Will he be an waste of time when he expends time on his life ? Will he be an waste of time when he expends time on his life ? Will he be an waste of time when he expends time on his life ? Will he be an waste of time when he expends time on his life ? Will he be an waste of time when he expends time on his life ? Will he be an waste of time when he expends time on his life ? Will he be an waste of time when he expends time on his life ? Will he be an waste of time when he expends time on his life ? Will he be an waste of time when he expends time on his life ? Will he be an waste of time when he expends time on his life ? Will he be an waste of time when he expends time on his life ? Will he be an waste of time when he expends time on his life ? Will he be an waste of time when he expends time ? Will he be an waste of time when he expends time ? Will he be an waste of time when he expends time on his life ? Will he be an waste of time when he expends time ? Will he be an waste of time when he expends time ? Will he be an waste of time when he expends time ? Will he be an waste of time ? Will he be an waste of time ? Will he be an waste of time ? Will he be an waste of time ? Will he be an waste of time ? Will he be an waste of time ? Will he be an waste of time ? Will he be an waste ? Will he be an waste ? Will he    \n",
            "====================\n",
            "\n",
            "Selunky 2 is the sequel of the most acclaimed rogue-like platformer of all-time. In a strange new world, gigantic flying machines call the city hell. The city is full of monsters, but the ones who don't know how to fight are getting weaker. But, one thing is for certain. <br><br>We are now on the verge of a multiplayer mode in which you will play as a different character from the normal mode, and your choice of a unique weapon, a unique armor, or a unique weapon based on your personality. Under these conditions, there will always be a choice between a ranged or melee style of play. You can choose between a ranged or melee style of play as well. You will have to choose between a ranged or melee style of play as well. You can choose between a ranged or melee style of play as well. You can choose between a ranged or melee style of play as well. <br><br><br><strong>Features:</strong><br><br>- Unlimited replayability. <br>- Item based. <br>- Customize your character.<br>- Customize your character.<br>- Customize your character.<br>- Customize your character.<br>- Customize your character.<br>- PVP mode. <br>- Multitool. <br>- Online mode. <br>- Online mode.<br>- Local multiplayer. <br>- Customize your character.<br>- Customize your character.<br>- Customize your character.<br>- Customize your character.<br>- Customize your character.<br>- Customize your character.<br>- Customize your character.<br>- Customize your character.<br>- Customize your character.<br>- Customize your character.<br>- Customize your character.<br>- Customize your character.<br>- Customize your character.<br>- Customize your character.<br>- Customize your character.<br>- Customize your character.<br>- Customize your character.<br>- Customize your character.<br>- Customize your character.<br>- Customize your character.<br>- Customize your character.<br>- Customize your character.<br>- Customize your character.<br>- Customize your character.<br>- Customize your character.<br>- Customize your character.<br>- Customize your character.<br>- Customize your character.<br>- Customize your character.<br>- Customize your character.<br>- Customize your character.<br>- Customize your character.<br>- Customize your character.<br>- Customize your character.<br>- Customize your character.<br>- Customize your character.<br>- Customize your character.<br>- Customize your character.<br>- Customize your character.<br>- Customize your character.<br>- Customize your character.<br>- Customize your character.<br>- Customize your character.<br>- Customize your character.<br>- Customize your character.<br>- Customize your character.<br>- Customize your character.<br>- Customize your character.<br>- Customize your character.<br>- Customize your character.<br>- Customize your character.<br>- Customize your character.<br>- Customize your character.<br>- Customize your character.<br>- Customize your character.<br>- Customize your character.<br>- Customize your character.<br>- Customize your character.<br>- Customize your character.<br>- Customize your character.<br>- Customize your character.<br>- Customize your character.<br>- Customize your character.<br>- Customize your character.<br>- Customize your character.<br>- Customize your character.<br>- Customize your character.<br>- Customize your character.<br>- Customize your character.<br>- Customize your character.<br>- Customize your character.<br>- Customize your character.<br>- Customize your character.<br>- Customize your character.<br>- Customize your character.<br>- Customize your character.<br>- Customize your character.<br>- Customize your character.<br>- Customize your character.<br>- Customize your character.<br>- Customize your character.<br>- Customize your character.<br>- Customize your character.<br>- Customize your character.<br>- Customize your character.<br>- Customize your character.<br>- Customize your character.<br>- Customize your character.<br>- Customize your character.<br>- Customize your character.<br>- Customize your character.<br>- Customize your character.<br>- Customize your character.<\n",
            "====================\n",
            "\n",
            "Selunky 2 is the sequel of the most acclaimed rogue-like platformer of all-time, Silent Hills. It's a short, dark and unadulterated adventure game filled with many hours of gameplay. <br><br>Learn the game's mechanics and learn a new tool, each of which can be improved upon. Keep your eyes on the wall and even your fingers to pay attention as you progress. <br><br>You'll need to master the game's puzzles, collect collectible items, and unlock new skills. <br><br>In our multiplayer tutorial, you'll learn how to play with friends by simply unlocking the tutorial's mini special pieces. <br><br>And in our game tutorial, you'll learn how to play with friends by unlocking the mini special pieces. <br><br>So there you have it. Great game and great game.\n",
            "<img src=\"https://steamcdn-a.akamaihd.net/steam/apps/54920/extras/2.png?t=1547383293\" ><br><br>If you love the old school mechanics of the classic 2D platformer, then</a><br><br>Shiny to the point of insanity!<br>Let's start with the simple little idea of throwing a bunch of cubes into a room that will turn that room into a giant puzzle!<br><br>In this game you will have to create a platform to pass each game's puzzles and get to the next level that will help you to complete the game. <br><br>You can only spawn a few cubes at a time, so you'll need to take them out to unlock the platform, but there are plenty of other ways to do this.<br><br>You can play the game in Capture the Flag mode by pressing the button on the keyboard.<br><br>Just click on the cube at the left or right of your screen to see the tile tiles of the room. <br><br>To find the cube you can click on the cube on the left or the cube on the right, and that's it!<br><br>If you want to see more about this game, here is the official description and graphics for it:<br><br>The game consists of two levels, where you will have to find two cubes that will help you to complete the puzzle.<br><br>Simply click on the cube and the cube will appear to you. With the cube you will have to switch to Capture the Flag mode or the Capture the Flag game mode. <br><br>The game is set in the early 1990s. You can download it by clicking here!<br><br>In Capture the Flag mode you can jump into the room and with the cube you can destroy the cubes, and you can try to find the cube you need to start the game.<br><br>You can also have a little fun with the tutorial by clicking here!<br><br>The game is set in the early 1990s. You can download it by clicking here!<br><br>In Capture the Flag mode you can jump into the room and with the cube you can destroy the cubes, and you can try to find the cube you need to start the game. <br><br>The game is set in the early 1990s. You can download it by clicking here!<br><br>In Capture the Flag mode you can jump into the room and with the cube you can destroy the cubes, and you can try to find the cube you need to start the game.<br><br>The game is set in the early 1990s. You can download it by clicking here!<br><br>The game is set in the early 1990s. You can download it by clicking here!<br><br>The game is set in the early 1990s. You can download it by clicking here!<br><br>The game is set in the early 1990s. You can download it by clicking here!<br><br>The game is set in the early 1990s. You can download it by clicking here!<br><br>The game is set in the early 1990s. You can download it by clicking here!<br><br>The game is set in the early 1990s. You can download it by clicking here!<br><br>The game is set in the early 1990s. You can download it by clicking here!<br><br>The game is set in the early 1990s. You can download it by clicking here!<br><br>The game is set in the early 1990s. You can download it by clicking here!<br><br>The game is set in the early 1990s. You can download it by clicking here!<br><br>The game is set in the early 1990s. You can download it by clicking here!<br><br>The game is set in the early 1990s. You can find the cube you need\n",
            "====================\n",
            "\n"
          ],
          "name": "stdout"
        }
      ]
    }
  ]
}